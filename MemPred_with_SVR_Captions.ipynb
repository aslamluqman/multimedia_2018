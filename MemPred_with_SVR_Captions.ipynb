{
 "cells": [
  {
   "cell_type": "markdown",
   "metadata": {},
   "source": [
    "# Prediction using SVM and Captions"
   ]
  },
  {
   "cell_type": "code",
   "execution_count": 4,
   "metadata": {},
   "outputs": [
    {
     "name": "stderr",
     "output_type": "stream",
     "text": [
      "/home/stone/anaconda3/lib/python3.6/site-packages/h5py/__init__.py:36: FutureWarning: Conversion of the second argument of issubdtype from `float` to `np.floating` is deprecated. In future, it will be treated as `np.float64 == np.dtype(float).type`.\n",
      "  from ._conv import register_converters as _register_converters\n",
      "Using TensorFlow backend.\n"
     ]
    }
   ],
   "source": [
    "import pandas as pd\n",
    "import numpy as np\n",
    "from string import punctuation\n",
    "import pyprind\n",
    "from collections import Counter\n",
    "from keras.preprocessing.text import Tokenizer\n",
    "from sklearn.model_selection import train_test_split\n",
    "import matplotlib.pyplot as plt\n",
    "from keras import preprocessing\n",
    "\n",
    "# load labels and captions\n",
    "def read_caps(fname):\n",
    "    \"\"\"Load the captions into a dataframe\"\"\"\n",
    "    vn = []\n",
    "    cap = []\n",
    "    df = pd.DataFrame();\n",
    "    with open(fname) as f:\n",
    "        for line in f:\n",
    "            pairs = line.split()\n",
    "            vn.append(pairs[0])\n",
    "            cap.append(pairs[1])\n",
    "        df['video']=vn\n",
    "        df['caption']=cap\n",
    "    return df\n",
    "\n",
    "def Get_score(Y_pred,Y_true):\n",
    "    '''Calculate the Spearmann\"s correlation coefficient'''\n",
    "    Y_pred = np.squeeze(Y_pred)\n",
    "    Y_true = np.squeeze(Y_true)\n",
    "    if Y_pred.shape != Y_true.shape:\n",
    "        print('Input shapes don\\'t match!')\n",
    "    else:\n",
    "        if len(Y_pred.shape) == 1:\n",
    "            Res = pd.DataFrame({'Y_true':Y_true,'Y_pred':Y_pred})\n",
    "            score_mat = Res[['Y_true','Y_pred']].corr(method='spearman',min_periods=1)\n",
    "            print('The Spearman\\'s correlation coefficient is: %.3f' % score_mat.iloc[1][0])\n",
    "        else:\n",
    "            for ii in range(Y_pred.shape[1]):\n",
    "                Get_score(Y_pred[:,ii],Y_true[:,ii])"
   ]
  },
  {
   "cell_type": "markdown",
   "metadata": {},
   "source": [
    "## Load data"
   ]
  },
  {
   "cell_type": "code",
   "execution_count": 5,
   "metadata": {},
   "outputs": [
    {
     "name": "stderr",
     "output_type": "stream",
     "text": [
      "Counting word occurrences\n"
     ]
    },
    {
     "name": "stdout",
     "output_type": "stream",
     "text": [
      "train data set shape (8000, 2)\n",
      "test data set shape (2000, 2)\n",
      "shape after concatenation (10000, 2)\n"
     ]
    },
    {
     "name": "stderr",
     "output_type": "stream",
     "text": [
      "0% [##############################] 100% | ETA: 00:00:00\n",
      "Total time elapsed: 00:00:08\n"
     ]
    },
    {
     "data": {
      "text/html": [
       "<div>\n",
       "<style scoped>\n",
       "    .dataframe tbody tr th:only-of-type {\n",
       "        vertical-align: middle;\n",
       "    }\n",
       "\n",
       "    .dataframe tbody tr th {\n",
       "        vertical-align: top;\n",
       "    }\n",
       "\n",
       "    .dataframe thead th {\n",
       "        text-align: right;\n",
       "    }\n",
       "</style>\n",
       "<table border=\"1\" class=\"dataframe\">\n",
       "  <thead>\n",
       "    <tr style=\"text-align: right;\">\n",
       "      <th></th>\n",
       "      <th>video</th>\n",
       "      <th>caption</th>\n",
       "    </tr>\n",
       "  </thead>\n",
       "  <tbody>\n",
       "    <tr>\n",
       "      <th>0</th>\n",
       "      <td>video10.webm</td>\n",
       "      <td>couple relaxing on picnic crane shot</td>\n",
       "    </tr>\n",
       "    <tr>\n",
       "      <th>1</th>\n",
       "      <td>video100.webm</td>\n",
       "      <td>cute black and white cats in cage at animal sh...</td>\n",
       "    </tr>\n",
       "    <tr>\n",
       "      <th>2</th>\n",
       "      <td>video10000.webm</td>\n",
       "      <td>owl in tree close up</td>\n",
       "    </tr>\n",
       "    <tr>\n",
       "      <th>3</th>\n",
       "      <td>video10001.webm</td>\n",
       "      <td>around the house on a laptop</td>\n",
       "    </tr>\n",
       "    <tr>\n",
       "      <th>4</th>\n",
       "      <td>video10002.webm</td>\n",
       "      <td>beautiful young girl with apple</td>\n",
       "    </tr>\n",
       "  </tbody>\n",
       "</table>\n",
       "</div>"
      ],
      "text/plain": [
       "             video                                            caption\n",
       "0     video10.webm               couple relaxing on picnic crane shot\n",
       "1    video100.webm  cute black and white cats in cage at animal sh...\n",
       "2  video10000.webm                               owl in tree close up\n",
       "3  video10001.webm                       around the house on a laptop\n",
       "4  video10002.webm                    beautiful young girl with apple"
      ]
     },
     "execution_count": 5,
     "metadata": {},
     "output_type": "execute_result"
    }
   ],
   "source": [
    "# load the captions\n",
    "#cap_path = '/media/win/Users/ecelab-adm/Desktop/DataSet_me18me/me18me-devset/dev-set/dev-set_video-captions.txt'\n",
    "cap_path = '/media/stone/Data/DataSet_me18me/me18me-devset/dev-set/dev-set_video-captions.txt'\n",
    "df_cap_train=read_caps(cap_path)\n",
    "print('train data set shape',df_cap_train.shape)\n",
    "\n",
    "# load test captions\n",
    "#cap_path = '/media/win/Users/ecelab-adm/Desktop/DataSet_me18me/test-set/test-set_videos-captions.txt'\n",
    "cap_path = '/media/stone/Data/DataSet_me18me/testset/test-set_videos-captions.txt'\n",
    "df_cap_test=read_caps(cap_path)\n",
    "print('test data set shape',df_cap_test.shape)\n",
    "\n",
    "df_cap = pd.concat([df_cap_train,df_cap_test],ignore_index=True)\n",
    "print('shape after concatenation',df_cap.shape)\n",
    "\n",
    "# load the ground truth values\n",
    "#label_path = '/media/win/Users/ecelab-adm/Desktop/DataSet_me18me/me18me-devset/dev-set/ground-truth/' \n",
    "label_path = '/media/stone/Data/DataSet_me18me/me18me-devset/dev-set/ground-truth/'\n",
    "\n",
    "labels=pd.read_csv(label_path+'ground-truth_dev-set.csv')\n",
    "\n",
    "counts = Counter()\n",
    "# setup prograss tracker\n",
    "pbar = pyprind.ProgBar(len(df_cap['caption']), title='Counting word occurrences')\n",
    "for i, cap in enumerate(df_cap['caption']):\n",
    "    # replace punctuations with space\n",
    "    # convert words to lower case \n",
    "    text = ''.join([c if c not in punctuation else ' ' for c in cap]).lower()\n",
    "    df_cap.loc[i,'caption'] = text\n",
    "    pbar.update()\n",
    "    counts.update(text.split())\n",
    "    \n",
    "df_cap.head()"
   ]
  },
  {
   "cell_type": "markdown",
   "metadata": {},
   "source": [
    "## Vectorize the captions"
   ]
  },
  {
   "cell_type": "code",
   "execution_count": 6,
   "metadata": {},
   "outputs": [
    {
     "data": {
      "text/plain": [
       "(2000, 10)"
      ]
     },
     "execution_count": 6,
     "metadata": {},
     "output_type": "execute_result"
    }
   ],
   "source": [
    "# build the word index\n",
    "len_token = len(counts)\n",
    "tokenizer = Tokenizer(num_words=len_token)\n",
    "tokenizer.fit_on_texts(list(df_cap.caption.values))\n",
    "sequences = tokenizer.texts_to_sequences(list(df_cap_train.caption.values))\n",
    "sequences[:2]\n",
    "\n",
    "maxlen = 10\n",
    "X_seq = preprocessing.sequence.pad_sequences(sequences,maxlen=maxlen)\n",
    "test_sequences = tokenizer.texts_to_sequences(list(df_cap_test.caption.values))\n",
    "X_test = preprocessing.sequence.pad_sequences(test_sequences,maxlen=maxlen)\n",
    "X_test.shape"
   ]
  },
  {
   "cell_type": "code",
   "execution_count": 9,
   "metadata": {},
   "outputs": [
    {
     "data": {
      "text/plain": [
       "(10000, 10)"
      ]
     },
     "execution_count": 9,
     "metadata": {},
     "output_type": "execute_result"
    }
   ],
   "source": [
    "Y = labels[['short-term_memorability','long-term_memorability']].values\n",
    "X = X_seq\n",
    "X_all = np.concatenate([X,X_test])\n",
    "X_all.shape"
   ]
  },
  {
   "cell_type": "markdown",
   "metadata": {},
   "source": [
    "## Build model and CV"
   ]
  },
  {
   "cell_type": "code",
   "execution_count": 15,
   "metadata": {},
   "outputs": [],
   "source": [
    "# building a pipeline\n",
    "from sklearn.pipeline import Pipeline\n",
    "from sklearn import svm\n",
    "from sklearn.decomposition import KernelPCA, PCA\n",
    "from sklearn.preprocessing import StandardScaler\n",
    "\n",
    "def svr_pipline():\n",
    "    #stdi = StandardScaler()\n",
    "    pca = PCA(n_components=0.98,svd_solver='full')\n",
    "    svr = svm.SVR(C=1.0,epsilon=0.01,kernel='rbf')\n",
    "    svr_pip = Pipeline([('pca',pca),('svr',svr)])\n",
    "    return svr_pip\n",
    "\n",
    "def spearman_corr(x_pred,x_true):\n",
    "    \"The official performance matrix: Spearman's rank correlation\"\n",
    "    a = pd.DataFrame()\n",
    "    a['true'] = x_true\n",
    "    a['pred'] = x_pred\n",
    "    res = a[['true','pred']].corr(method='spearman',min_periods=1)\n",
    "    return res.iloc[0,1]\n",
    "\n",
    "from sklearn.metrics import make_scorer\n",
    "spearman = make_scorer(spearman_corr,greater_is_better=True)\n",
    "\n"
   ]
  },
  {
   "cell_type": "code",
   "execution_count": 17,
   "metadata": {},
   "outputs": [],
   "source": [
    "from sklearn.model_selection import GridSearchCV\n",
    "params = {'pca__n_components':[0.7,0.8,0.9,0.95],\n",
    "         'svr__C':[0.01,0.1,1,2,5],\n",
    "         'svr__epsilon':[0.01,0.1,0.2],\n",
    "         'svr__kernel':['rbf']}\n",
    "\n",
    "MP_svr_s = svr_pipline()\n",
    "MP_svr_l = svr_pipline()\n",
    "A = GridSearchCV(MP_svr_s,params,scoring=spearman,cv=3,n_jobs=-1)\n",
    "A.fit(X,Y[:,0])\n",
    "\n",
    "B = GridSearchCV(MP_svr_l,params,scoring=spearman,cv=3,n_jobs=-1)\n",
    "B.fit(X,Y[:,1])\n",
    "# save results\n",
    "# To serialize\n",
    "import pickle\n",
    "with open('svr_captions_short.pkl', 'wb') as fid:\n",
    "    pickle.dump(A, fid)\n",
    "with open('svr_captions_long.pkl','wb') as fid:\n",
    "    pickle.dump(B,fid)\n",
    "# To deserialize estimator later\n",
    "#with open('our_estimator.pkl', 'rb') as fid:\n",
    "#    gnb = pickle.load(fid)"
   ]
  },
  {
   "cell_type": "markdown",
   "metadata": {},
   "source": [
    "# Predict the test data and get ready to submit"
   ]
  },
  {
   "cell_type": "code",
   "execution_count": 23,
   "metadata": {},
   "outputs": [
    {
     "data": {
      "image/png": "[encoded data removed]",
      "text/plain": [
       "<Figure size 432x288 with 1 Axes>"
      ]
     },
     "metadata": {},
     "output_type": "display_data"
    }
   ],
   "source": [
    "# import saved models\n",
    "import pickle\n",
    "with open('svr_captions_short.pkl', 'rb') as fid:\n",
    "    A=pickle.load(fid)\n",
    "y_short_pred=A.best_estimator_.predict(X_test)\n",
    "\n",
    "with open('svr_captions_long.pkl', 'rb') as fid:\n",
    "    B=pickle.load(fid)\n",
    "    \n",
    "y_long_pred = B.best_estimator_.predict(X_test)\n",
    "\n",
    "# visualize the prediction results\n",
    "plt.figure()\n",
    "plt.scatter(y_short_pred,y_long_pred,marker='o')\n",
    "plt.xlabel('short-term')\n",
    "plt.ylabel('long-term')\n",
    "plt.title('Predicted results (svr+captions)')\n",
    "#plt.show()\n",
    "plt.savefig('svr+captions.eps')"
   ]
  },
  {
   "cell_type": "code",
   "execution_count": 20,
   "metadata": {},
   "outputs": [
    {
     "name": "stdout",
     "output_type": "stream",
     "text": [
      "Best short-term spearman score is 0.175\n",
      "Best long-term spearman score is 0.068\n"
     ]
    },
    {
     "data": {
      "text/plain": [
       "{'pca__n_components': 0.9,\n",
       " 'svr__C': 0.1,\n",
       " 'svr__epsilon': 0.01,\n",
       " 'svr__kernel': 'rbf'}"
      ]
     },
     "execution_count": 20,
     "metadata": {},
     "output_type": "execute_result"
    }
   ],
   "source": [
    "# print the best score\n",
    "print('Best short-term spearman score is {:.3f}'.format(A.best_score_))\n",
    "A.best_params_\n",
    "print('Best long-term spearman score is {:.3f}'.format(B.best_score_))\n",
    "B.best_params_"
   ]
  },
  {
   "cell_type": "markdown",
   "metadata": {},
   "source": [
    "# Save prediction results"
   ]
  },
  {
   "cell_type": "code",
   "execution_count": 21,
   "metadata": {},
   "outputs": [
    {
     "data": {
      "text/html": [
       "<div>\n",
       "<style scoped>\n",
       "    .dataframe tbody tr th:only-of-type {\n",
       "        vertical-align: middle;\n",
       "    }\n",
       "\n",
       "    .dataframe tbody tr th {\n",
       "        vertical-align: top;\n",
       "    }\n",
       "\n",
       "    .dataframe thead th {\n",
       "        text-align: right;\n",
       "    }\n",
       "</style>\n",
       "<table border=\"1\" class=\"dataframe\">\n",
       "  <thead>\n",
       "    <tr style=\"text-align: right;\">\n",
       "      <th></th>\n",
       "      <th>video</th>\n",
       "      <th>caption</th>\n",
       "      <th>short-term</th>\n",
       "      <th>long-term</th>\n",
       "      <th>confidence_interval</th>\n",
       "    </tr>\n",
       "  </thead>\n",
       "  <tbody>\n",
       "    <tr>\n",
       "      <th>0</th>\n",
       "      <td>video1.webm</td>\n",
       "      <td>snow-and-string-lights</td>\n",
       "      <td>0.864115</td>\n",
       "      <td>0.793809</td>\n",
       "      <td>0</td>\n",
       "    </tr>\n",
       "    <tr>\n",
       "      <th>1</th>\n",
       "      <td>video1000.webm</td>\n",
       "      <td>clown-fish-swimming-by-rocks-and-coral</td>\n",
       "      <td>0.864115</td>\n",
       "      <td>0.793809</td>\n",
       "      <td>0</td>\n",
       "    </tr>\n",
       "    <tr>\n",
       "      <th>2</th>\n",
       "      <td>video1002.webm</td>\n",
       "      <td>cook-preparing-traditional-asian-street-food-m...</td>\n",
       "      <td>0.864115</td>\n",
       "      <td>0.793809</td>\n",
       "      <td>0</td>\n",
       "    </tr>\n",
       "    <tr>\n",
       "      <th>3</th>\n",
       "      <td>video1008.webm</td>\n",
       "      <td>beautiful-girl-running-on-sunlit-wheat-field-s...</td>\n",
       "      <td>0.944365</td>\n",
       "      <td>0.793809</td>\n",
       "      <td>0</td>\n",
       "    </tr>\n",
       "    <tr>\n",
       "      <th>4</th>\n",
       "      <td>video1010.webm</td>\n",
       "      <td>piece-of-space-shuttle-breaking-off-and-earth-...</td>\n",
       "      <td>0.864115</td>\n",
       "      <td>0.793809</td>\n",
       "      <td>0</td>\n",
       "    </tr>\n",
       "  </tbody>\n",
       "</table>\n",
       "</div>"
      ],
      "text/plain": [
       "            video                                            caption  \\\n",
       "0     video1.webm                             snow-and-string-lights   \n",
       "1  video1000.webm             clown-fish-swimming-by-rocks-and-coral   \n",
       "2  video1002.webm  cook-preparing-traditional-asian-street-food-m...   \n",
       "3  video1008.webm  beautiful-girl-running-on-sunlit-wheat-field-s...   \n",
       "4  video1010.webm  piece-of-space-shuttle-breaking-off-and-earth-...   \n",
       "\n",
       "   short-term  long-term  confidence_interval  \n",
       "0    0.864115   0.793809                    0  \n",
       "1    0.864115   0.793809                    0  \n",
       "2    0.864115   0.793809                    0  \n",
       "3    0.944365   0.793809                    0  \n",
       "4    0.864115   0.793809                    0  "
      ]
     },
     "execution_count": 21,
     "metadata": {},
     "output_type": "execute_result"
    }
   ],
   "source": [
    "df_cap_test['short-term'] = y_short_pred\n",
    "df_cap_test['long-term'] = y_long_pred\n",
    "df_cap_test['confidence_interval'] = 0 # not meaningful, this is required but not used for performance evaluation\n",
    "\n",
    "df_cap_test.head()"
   ]
  },
  {
   "cell_type": "code",
   "execution_count": 22,
   "metadata": {},
   "outputs": [],
   "source": [
    "res = df_cap_test[['video','short-term','confidence_interval']]\n",
    "run_name = 'me18in_TheHuskies_shortterm_run5-svr_caps.csv'\n",
    "res.to_csv(path_or_buf=run_name,sep=',',header=False,index=False)\n",
    "\n",
    "res1 = df_cap_test[['video','long-term','confidence_interval']]\n",
    "run_name1 = 'me18in_TheHuskies_longterm_run5-svr_caps.csv'\n",
    "res1.to_csv(path_or_buf=run_name1,sep=',',header=False,index=False)"
   ]
  },
  {
   "cell_type": "code",
   "execution_count": null,
   "metadata": {},
   "outputs": [],
   "source": []
  }
 ],
 "metadata": {
  "kernelspec": {
   "display_name": "Python 3",
   "language": "python",
   "name": "python3"
  },
  "language_info": {
   "codemirror_mode": {
    "name": "ipython",
    "version": 3
   },
   "file_extension": ".py",
   "mimetype": "text/x-python",
   "name": "python",
   "nbconvert_exporter": "python",
   "pygments_lexer": "ipython3",
   "version": "3.6.5"
  }
 },
 "nbformat": 4,
 "nbformat_minor": 2
}
