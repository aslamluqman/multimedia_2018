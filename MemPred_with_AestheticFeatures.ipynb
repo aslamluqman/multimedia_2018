{
 "cells": [
  {
   "cell_type": "markdown",
   "metadata": {},
   "source": [
    "# Memorability Prediction with Aesthetic Features"
   ]
  },
  {
   "cell_type": "markdown",
   "metadata": {},
   "source": [
    "## Load libraries and define functions"
   ]
  },
  {
   "cell_type": "code",
   "execution_count": 20,
   "metadata": {},
   "outputs": [],
   "source": [
    "import pandas as pd\n",
    "from keras import Sequential\n",
    "from keras import layers\n",
    "from keras import regularizers\n",
    "import numpy as np\n",
    "from string import punctuation\n",
    "import pyprind\n",
    "from collections import Counter\n",
    "from keras.preprocessing.text import Tokenizer\n",
    "from sklearn.model_selection import train_test_split\n",
    "import matplotlib.pyplot as plt\n",
    "import os\n",
    "\n",
    "# for reproducability\n",
    "from numpy.random import seed\n",
    "seed(1)\n",
    "from tensorflow import set_random_seed\n",
    "set_random_seed(1)\n",
    "\n",
    "\n",
    "def read_array(fname):\n",
    "    '''read an array from txt file'''\n",
    "    with open(fname) as f:\n",
    "        for line in f:\n",
    "            pairs = line.split(',')\n",
    "            #print(pairs)\n",
    "    return [float(item) for item in pairs]"
   ]
  },
  {
   "cell_type": "markdown",
   "metadata": {},
   "source": [
    "## Load training aesthetic features and labels"
   ]
  },
  {
   "cell_type": "code",
   "execution_count": 21,
   "metadata": {},
   "outputs": [
    {
     "data": {
      "text/html": [
       "<div>\n",
       "<style scoped>\n",
       "    .dataframe tbody tr th:only-of-type {\n",
       "        vertical-align: middle;\n",
       "    }\n",
       "\n",
       "    .dataframe tbody tr th {\n",
       "        vertical-align: top;\n",
       "    }\n",
       "\n",
       "    .dataframe thead th {\n",
       "        text-align: right;\n",
       "    }\n",
       "</style>\n",
       "<table border=\"1\" class=\"dataframe\">\n",
       "  <thead>\n",
       "    <tr style=\"text-align: right;\">\n",
       "      <th></th>\n",
       "      <th>video</th>\n",
       "      <th>AF_mean</th>\n",
       "      <th>AF_median</th>\n",
       "    </tr>\n",
       "  </thead>\n",
       "  <tbody>\n",
       "    <tr>\n",
       "      <th>0</th>\n",
       "      <td>video10.webm</td>\n",
       "      <td>[0.402878, 0.389358, 0.564687, 0.400378, 0.471...</td>\n",
       "      <td>[0.427258, 0.381448, 0.582746, 0.409475, 0.489...</td>\n",
       "    </tr>\n",
       "    <tr>\n",
       "      <th>1</th>\n",
       "      <td>video100.webm</td>\n",
       "      <td>[0.160705, 0.237773, 0.409616, 0.179789, 0.367...</td>\n",
       "      <td>[0.160579, 0.238155, 0.408475, 0.180416, 0.366...</td>\n",
       "    </tr>\n",
       "    <tr>\n",
       "      <th>2</th>\n",
       "      <td>video10000.webm</td>\n",
       "      <td>[0.46136, 0.358996, 0.710791, 0.333263, 0.5849...</td>\n",
       "      <td>[0.461391, 0.358922, 0.710828, 0.333437, 0.585...</td>\n",
       "    </tr>\n",
       "    <tr>\n",
       "      <th>3</th>\n",
       "      <td>video10001.webm</td>\n",
       "      <td>[0.105545, 0.60667, 0.569378, 0.515591, 0.4109...</td>\n",
       "      <td>[0.105085, 0.606699, 0.567169, 0.51536, 0.4101...</td>\n",
       "    </tr>\n",
       "    <tr>\n",
       "      <th>4</th>\n",
       "      <td>video10002.webm</td>\n",
       "      <td>[0.233127, 0.149484, 0.649683, 0.14423, 0.6057...</td>\n",
       "      <td>[0.232971, 0.149975, 0.649477, 0.143106, 0.605...</td>\n",
       "    </tr>\n",
       "  </tbody>\n",
       "</table>\n",
       "</div>"
      ],
      "text/plain": [
       "             video                                            AF_mean  \\\n",
       "0     video10.webm  [0.402878, 0.389358, 0.564687, 0.400378, 0.471...   \n",
       "1    video100.webm  [0.160705, 0.237773, 0.409616, 0.179789, 0.367...   \n",
       "2  video10000.webm  [0.46136, 0.358996, 0.710791, 0.333263, 0.5849...   \n",
       "3  video10001.webm  [0.105545, 0.60667, 0.569378, 0.515591, 0.4109...   \n",
       "4  video10002.webm  [0.233127, 0.149484, 0.649683, 0.14423, 0.6057...   \n",
       "\n",
       "                                           AF_median  \n",
       "0  [0.427258, 0.381448, 0.582746, 0.409475, 0.489...  \n",
       "1  [0.160579, 0.238155, 0.408475, 0.180416, 0.366...  \n",
       "2  [0.461391, 0.358922, 0.710828, 0.333437, 0.585...  \n",
       "3  [0.105085, 0.606699, 0.567169, 0.51536, 0.4101...  \n",
       "4  [0.232971, 0.149975, 0.649477, 0.143106, 0.605...  "
      ]
     },
     "execution_count": 21,
     "metadata": {},
     "output_type": "execute_result"
    }
   ],
   "source": [
    "# define paths of the Aesthetic Features\n",
    "path_AF_Mean = '/media/stone/Data/DataSet_me18me/me18me-devset/dev-set/features/aesthetic_visual_features/aesthetic_feat_dev-set_mean'\n",
    "path_AF_Median = '/media/stone/Data/DataSet_me18me/me18me-devset/dev-set/features/aesthetic_visual_features/aesthetic_feat_dev-set_median'\n",
    "\n",
    "# Load video related features first\n",
    "vn_mean = os.listdir(path_AF_Mean)\n",
    "\n",
    "# stack the video names in dataframe\n",
    "df = pd.DataFrame()\n",
    "df['video'] = [os.path.splitext(vn)[0]+'.webm' for vn in vn_mean]\n",
    "\n",
    "# read the aesthetic feat (mean and media) in dataframe\n",
    "df['AF_mean'] = [ read_array(path_AF_Mean+'/'+vn[:-5]+'.txt') for vn in df['video']]\n",
    "df['AF_median'] = [ read_array(path_AF_Median+'/'+vn[:-5]+'.txt') for vn in df['video']]\n",
    "df.head()\n"
   ]
  },
  {
   "cell_type": "code",
   "execution_count": 22,
   "metadata": {},
   "outputs": [
    {
     "data": {
      "text/html": [
       "<div>\n",
       "<style scoped>\n",
       "    .dataframe tbody tr th:only-of-type {\n",
       "        vertical-align: middle;\n",
       "    }\n",
       "\n",
       "    .dataframe tbody tr th {\n",
       "        vertical-align: top;\n",
       "    }\n",
       "\n",
       "    .dataframe thead th {\n",
       "        text-align: right;\n",
       "    }\n",
       "</style>\n",
       "<table border=\"1\" class=\"dataframe\">\n",
       "  <thead>\n",
       "    <tr style=\"text-align: right;\">\n",
       "      <th></th>\n",
       "      <th>video</th>\n",
       "      <th>short-term_memorability</th>\n",
       "      <th>nb_short-term_annotations</th>\n",
       "      <th>long-term_memorability</th>\n",
       "      <th>nb_long-term_annotations</th>\n",
       "    </tr>\n",
       "  </thead>\n",
       "  <tbody>\n",
       "    <tr>\n",
       "      <th>0</th>\n",
       "      <td>video10.webm</td>\n",
       "      <td>0.950</td>\n",
       "      <td>34</td>\n",
       "      <td>0.900</td>\n",
       "      <td>10</td>\n",
       "    </tr>\n",
       "    <tr>\n",
       "      <th>1</th>\n",
       "      <td>video100.webm</td>\n",
       "      <td>0.951</td>\n",
       "      <td>33</td>\n",
       "      <td>0.889</td>\n",
       "      <td>9</td>\n",
       "    </tr>\n",
       "    <tr>\n",
       "      <th>2</th>\n",
       "      <td>video10000.webm</td>\n",
       "      <td>0.832</td>\n",
       "      <td>33</td>\n",
       "      <td>1.000</td>\n",
       "      <td>13</td>\n",
       "    </tr>\n",
       "    <tr>\n",
       "      <th>3</th>\n",
       "      <td>video10001.webm</td>\n",
       "      <td>0.865</td>\n",
       "      <td>33</td>\n",
       "      <td>0.727</td>\n",
       "      <td>11</td>\n",
       "    </tr>\n",
       "    <tr>\n",
       "      <th>4</th>\n",
       "      <td>video10002.webm</td>\n",
       "      <td>0.899</td>\n",
       "      <td>59</td>\n",
       "      <td>0.792</td>\n",
       "      <td>24</td>\n",
       "    </tr>\n",
       "  </tbody>\n",
       "</table>\n",
       "</div>"
      ],
      "text/plain": [
       "             video  short-term_memorability  nb_short-term_annotations  \\\n",
       "0     video10.webm                    0.950                         34   \n",
       "1    video100.webm                    0.951                         33   \n",
       "2  video10000.webm                    0.832                         33   \n",
       "3  video10001.webm                    0.865                         33   \n",
       "4  video10002.webm                    0.899                         59   \n",
       "\n",
       "   long-term_memorability  nb_long-term_annotations  \n",
       "0                   0.900                        10  \n",
       "1                   0.889                         9  \n",
       "2                   1.000                        13  \n",
       "3                   0.727                        11  \n",
       "4                   0.792                        24  "
      ]
     },
     "execution_count": 22,
     "metadata": {},
     "output_type": "execute_result"
    }
   ],
   "source": [
    "# load the ground truth values\n",
    "label_path = '/media/stone/Data/DataSet_me18me/me18me-devset/dev-set/ground-truth/'\n",
    "labels=pd.read_csv(label_path+'ground-truth_dev-set.csv')\n",
    "labels.head()"
   ]
  },
  {
   "cell_type": "code",
   "execution_count": 23,
   "metadata": {},
   "outputs": [
    {
     "data": {
      "text/html": [
       "<div>\n",
       "<style scoped>\n",
       "    .dataframe tbody tr th:only-of-type {\n",
       "        vertical-align: middle;\n",
       "    }\n",
       "\n",
       "    .dataframe tbody tr th {\n",
       "        vertical-align: top;\n",
       "    }\n",
       "\n",
       "    .dataframe thead th {\n",
       "        text-align: right;\n",
       "    }\n",
       "</style>\n",
       "<table border=\"1\" class=\"dataframe\">\n",
       "  <thead>\n",
       "    <tr style=\"text-align: right;\">\n",
       "      <th></th>\n",
       "      <th>video</th>\n",
       "      <th>AF_mean</th>\n",
       "      <th>AF_median</th>\n",
       "      <th>short-term_memorability</th>\n",
       "      <th>nb_short-term_annotations</th>\n",
       "      <th>long-term_memorability</th>\n",
       "      <th>nb_long-term_annotations</th>\n",
       "    </tr>\n",
       "  </thead>\n",
       "  <tbody>\n",
       "    <tr>\n",
       "      <th>0</th>\n",
       "      <td>video10.webm</td>\n",
       "      <td>[0.402878, 0.389358, 0.564687, 0.400378, 0.471...</td>\n",
       "      <td>[0.427258, 0.381448, 0.582746, 0.409475, 0.489...</td>\n",
       "      <td>0.950</td>\n",
       "      <td>34</td>\n",
       "      <td>0.900</td>\n",
       "      <td>10</td>\n",
       "    </tr>\n",
       "    <tr>\n",
       "      <th>1</th>\n",
       "      <td>video100.webm</td>\n",
       "      <td>[0.160705, 0.237773, 0.409616, 0.179789, 0.367...</td>\n",
       "      <td>[0.160579, 0.238155, 0.408475, 0.180416, 0.366...</td>\n",
       "      <td>0.951</td>\n",
       "      <td>33</td>\n",
       "      <td>0.889</td>\n",
       "      <td>9</td>\n",
       "    </tr>\n",
       "    <tr>\n",
       "      <th>2</th>\n",
       "      <td>video10000.webm</td>\n",
       "      <td>[0.46136, 0.358996, 0.710791, 0.333263, 0.5849...</td>\n",
       "      <td>[0.461391, 0.358922, 0.710828, 0.333437, 0.585...</td>\n",
       "      <td>0.832</td>\n",
       "      <td>33</td>\n",
       "      <td>1.000</td>\n",
       "      <td>13</td>\n",
       "    </tr>\n",
       "    <tr>\n",
       "      <th>3</th>\n",
       "      <td>video10001.webm</td>\n",
       "      <td>[0.105545, 0.60667, 0.569378, 0.515591, 0.4109...</td>\n",
       "      <td>[0.105085, 0.606699, 0.567169, 0.51536, 0.4101...</td>\n",
       "      <td>0.865</td>\n",
       "      <td>33</td>\n",
       "      <td>0.727</td>\n",
       "      <td>11</td>\n",
       "    </tr>\n",
       "    <tr>\n",
       "      <th>4</th>\n",
       "      <td>video10002.webm</td>\n",
       "      <td>[0.233127, 0.149484, 0.649683, 0.14423, 0.6057...</td>\n",
       "      <td>[0.232971, 0.149975, 0.649477, 0.143106, 0.605...</td>\n",
       "      <td>0.899</td>\n",
       "      <td>59</td>\n",
       "      <td>0.792</td>\n",
       "      <td>24</td>\n",
       "    </tr>\n",
       "  </tbody>\n",
       "</table>\n",
       "</div>"
      ],
      "text/plain": [
       "             video                                            AF_mean  \\\n",
       "0     video10.webm  [0.402878, 0.389358, 0.564687, 0.400378, 0.471...   \n",
       "1    video100.webm  [0.160705, 0.237773, 0.409616, 0.179789, 0.367...   \n",
       "2  video10000.webm  [0.46136, 0.358996, 0.710791, 0.333263, 0.5849...   \n",
       "3  video10001.webm  [0.105545, 0.60667, 0.569378, 0.515591, 0.4109...   \n",
       "4  video10002.webm  [0.233127, 0.149484, 0.649683, 0.14423, 0.6057...   \n",
       "\n",
       "                                           AF_median  short-term_memorability  \\\n",
       "0  [0.427258, 0.381448, 0.582746, 0.409475, 0.489...                    0.950   \n",
       "1  [0.160579, 0.238155, 0.408475, 0.180416, 0.366...                    0.951   \n",
       "2  [0.461391, 0.358922, 0.710828, 0.333437, 0.585...                    0.832   \n",
       "3  [0.105085, 0.606699, 0.567169, 0.51536, 0.4101...                    0.865   \n",
       "4  [0.232971, 0.149975, 0.649477, 0.143106, 0.605...                    0.899   \n",
       "\n",
       "   nb_short-term_annotations  long-term_memorability  nb_long-term_annotations  \n",
       "0                         34                   0.900                        10  \n",
       "1                         33                   0.889                         9  \n",
       "2                         33                   1.000                        13  \n",
       "3                         33                   0.727                        11  \n",
       "4                         59                   0.792                        24  "
      ]
     },
     "execution_count": 23,
     "metadata": {},
     "output_type": "execute_result"
    }
   ],
   "source": [
    "# Align the labels with features according to name\n",
    "df_complete = pd.merge(df,labels,on='video')\n",
    "df_complete.head()"
   ]
  },
  {
   "cell_type": "markdown",
   "metadata": {},
   "source": [
    "## Group data and split"
   ]
  },
  {
   "cell_type": "code",
   "execution_count": 65,
   "metadata": {},
   "outputs": [
    {
     "data": {
      "text/plain": [
       "array([[ 0.402878,  0.389358,  0.564687, ..., -1.29521 , -0.036251,\n",
       "         1.235213],\n",
       "       [ 0.160705,  0.237773,  0.409616, ...,  0.688729,  1.124711,\n",
       "         1.729677],\n",
       "       [ 0.46136 ,  0.358996,  0.710791, ...,  1.829029,  0.330456,\n",
       "        -1.144147],\n",
       "       ...,\n",
       "       [ 0.358806,  0.134932,  0.513381, ..., -3.175165,  0.317969,\n",
       "         0.341473],\n",
       "       [ 0.074832,  0.518952,  0.632701, ..., -0.288754,  0.557217,\n",
       "        -0.905448],\n",
       "       [ 0.558453,  0.061154,  0.626929, ...,  0.131793,  0.050423,\n",
       "         0.40736 ]])"
      ]
     },
     "execution_count": 65,
     "metadata": {},
     "output_type": "execute_result"
    }
   ],
   "source": [
    "# use the AF_mean only\n",
    "X =np.array([col for col in df_complete['AF_mean'].values ])\n",
    "Y = df_complete[['short-term_memorability','long-term_memorability']].values\n",
    "X_train, X_test, Y_train, Y_test = train_test_split(X,Y, test_size=0.2, random_state=124)\n",
    "X"
   ]
  },
  {
   "cell_type": "markdown",
   "metadata": {},
   "source": [
    "## Build Neural Network model"
   ]
  },
  {
   "cell_type": "code",
   "execution_count": 73,
   "metadata": {},
   "outputs": [
    {
     "name": "stdout",
     "output_type": "stream",
     "text": [
      "Train on 6400 samples, validate on 1600 samples\n",
      "Epoch 1/20\n",
      "6400/6400 [==============================] - 1s 116us/step - loss: 0.1328 - acc: 0.6461 - val_loss: 0.0707 - val_acc: 0.7131\n",
      "Epoch 2/20\n",
      "6400/6400 [==============================] - 0s 58us/step - loss: 0.0629 - acc: 0.6717 - val_loss: 0.0553 - val_acc: 0.7087\n",
      "Epoch 3/20\n",
      "6400/6400 [==============================] - 0s 55us/step - loss: 0.0537 - acc: 0.6500 - val_loss: 0.0511 - val_acc: 0.6669\n",
      "Epoch 4/20\n",
      "6400/6400 [==============================] - 0s 57us/step - loss: 0.0519 - acc: 0.5770 - val_loss: 0.0499 - val_acc: 0.4288\n",
      "Epoch 5/20\n",
      "6400/6400 [==============================] - 0s 57us/step - loss: 0.0361 - acc: 0.5966 - val_loss: 0.0159 - val_acc: 0.7137\n",
      "Epoch 6/20\n",
      "6400/6400 [==============================] - 0s 55us/step - loss: 0.0206 - acc: 0.6950 - val_loss: 0.0148 - val_acc: 0.7137\n",
      "Epoch 7/20\n",
      "6400/6400 [==============================] - 0s 57us/step - loss: 0.0182 - acc: 0.6975 - val_loss: 0.0145 - val_acc: 0.7137\n",
      "Epoch 8/20\n",
      "6400/6400 [==============================] - 0s 58us/step - loss: 0.0167 - acc: 0.7005 - val_loss: 0.0147 - val_acc: 0.7137\n",
      "Epoch 9/20\n",
      "6400/6400 [==============================] - 0s 57us/step - loss: 0.0160 - acc: 0.6987 - val_loss: 0.0140 - val_acc: 0.7137\n",
      "Epoch 10/20\n",
      "6400/6400 [==============================] - 0s 56us/step - loss: 0.0157 - acc: 0.6989 - val_loss: 0.0139 - val_acc: 0.7137\n",
      "Epoch 11/20\n",
      "6400/6400 [==============================] - 0s 53us/step - loss: 0.0151 - acc: 0.6992 - val_loss: 0.0138 - val_acc: 0.7137\n",
      "Epoch 12/20\n",
      "6400/6400 [==============================] - 0s 59us/step - loss: 0.0148 - acc: 0.6994 - val_loss: 0.0138 - val_acc: 0.7137\n",
      "Epoch 13/20\n",
      "6400/6400 [==============================] - 0s 59us/step - loss: 0.0147 - acc: 0.6994 - val_loss: 0.0138 - val_acc: 0.7137\n",
      "Epoch 14/20\n",
      "6400/6400 [==============================] - 0s 57us/step - loss: 0.0144 - acc: 0.6994 - val_loss: 0.0136 - val_acc: 0.7137\n",
      "Epoch 15/20\n",
      "6400/6400 [==============================] - 0s 57us/step - loss: 0.0144 - acc: 0.6994 - val_loss: 0.0136 - val_acc: 0.7137\n",
      "Epoch 16/20\n",
      "6400/6400 [==============================] - 0s 57us/step - loss: 0.0143 - acc: 0.6994 - val_loss: 0.0137 - val_acc: 0.7137\n",
      "Epoch 17/20\n",
      "6400/6400 [==============================] - 0s 57us/step - loss: 0.0142 - acc: 0.6994 - val_loss: 0.0138 - val_acc: 0.7137\n",
      "Epoch 18/20\n",
      "6400/6400 [==============================] - 0s 56us/step - loss: 0.0142 - acc: 0.6994 - val_loss: 0.0138 - val_acc: 0.7137\n",
      "Epoch 19/20\n",
      "6400/6400 [==============================] - 0s 57us/step - loss: 0.0141 - acc: 0.6994 - val_loss: 0.0136 - val_acc: 0.7137\n",
      "Epoch 20/20\n",
      "6400/6400 [==============================] - 0s 53us/step - loss: 0.0142 - acc: 0.6994 - val_loss: 0.0138 - val_acc: 0.7137\n"
     ]
    }
   ],
   "source": [
    "# add dropout\n",
    "# add regularizers\n",
    "model = Sequential()\n",
    "model.add(layers.Dense(50,activation='relu',kernel_regularizer=regularizers.l2(0.001),input_shape=(109,)))\n",
    "model.add(layers.Dropout(0.2))\n",
    "model.add(layers.Dense(50,activation='relu',kernel_regularizer=regularizers.l2(0.001)))\n",
    "model.add(layers.Dropout(0.5))\n",
    "model.add(layers.Dense(2,activation='sigmoid'))\n",
    "\n",
    "# compile the model \n",
    "model.compile(optimizer='rmsprop',loss='mse',metrics=['accuracy'])\n",
    "\n",
    "# training the model \n",
    "history = model.fit(X_train,Y_train,epochs=20,validation_data=(X_test,Y_test))"
   ]
  },
  {
   "cell_type": "markdown",
   "metadata": {},
   "source": [
    "## Visualizing the results"
   ]
  },
  {
   "cell_type": "code",
   "execution_count": 74,
   "metadata": {},
   "outputs": [
    {
     "data": {
      "image/png": "[encoded data removed]",
      "text/plain": [
       "<Figure size 432x288 with 1 Axes>"
      ]
     },
     "metadata": {},
     "output_type": "display_data"
    }
   ],
   "source": [
    "loss = history.history['loss']\n",
    "val_loss = history.history['val_loss']\n",
    "\n",
    "epochs = range(1,len(loss)+1)\n",
    "\n",
    "plt.plot(epochs,loss,'bo',label='Training loss')\n",
    "plt.plot(epochs,val_loss,'b',label='Validation loss')\n",
    "plt.title('Training and validation loss')\n",
    "plt.xlabel('Epochs')\n",
    "plt.ylabel('Loss')\n",
    "plt.legend()\n",
    "plt.show()\n",
    "\n"
   ]
  },
  {
   "cell_type": "code",
   "execution_count": 75,
   "metadata": {},
   "outputs": [
    {
     "data": {
      "image/png": "[encoded data removed]",
      "text/plain": [
       "<Figure size 432x288 with 1 Axes>"
      ]
     },
     "metadata": {},
     "output_type": "display_data"
    }
   ],
   "source": [
    "plt.figure()\n",
    "acc = history.history['acc']\n",
    "val_acc = history.history['val_acc']\n",
    "plt.plot(epochs, acc, 'bo', label='Training acc')\n",
    "plt.plot(epochs, val_acc, 'b', label='Validation acc')\n",
    "plt.title('Training and validation accuracy')\n",
    "plt.xlabel('Epochs')\n",
    "plt.ylabel('Acc')\n",
    "plt.legend()\n",
    "plt.show()"
   ]
  },
  {
   "cell_type": "markdown",
   "metadata": {},
   "source": [
    "## Print out predicted values"
   ]
  },
  {
   "cell_type": "code",
   "execution_count": 76,
   "metadata": {},
   "outputs": [],
   "source": [
    "b=model.predict(X_train)"
   ]
  }
 ],
 "metadata": {
  "kernelspec": {
   "display_name": "Python 3",
   "language": "python",
   "name": "python3"
  },
  "language_info": {
   "codemirror_mode": {
    "name": "ipython",
    "version": 3
   },
   "file_extension": ".py",
   "mimetype": "text/x-python",
   "name": "python",
   "nbconvert_exporter": "python",
   "pygments_lexer": "ipython3",
   "version": "3.6.5"
  }
 },
 "nbformat": 4,
 "nbformat_minor": 2
}
