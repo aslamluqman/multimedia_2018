{
 "cells": [
  {
   "cell_type": "markdown",
   "metadata": {},
   "source": [
    "# Feature Loading"
   ]
  },
  {
   "cell_type": "markdown",
   "metadata": {},
   "source": [
    "## For explainations of the features,\n",
    "## refer to : https://github.com/ricoms/video_image_features"
   ]
  },
  {
   "cell_type": "markdown",
   "metadata": {},
   "source": [
    "### A. The downloaded \"z0N\" files are first unzipped using the 7zip program in Windows."
   ]
  },
  {
   "cell_type": "markdown",
   "metadata": {},
   "source": [
    "### B.  Scan the features into the pandas frame"
   ]
  },
  {
   "cell_type": "code",
   "execution_count": 2,
   "metadata": {},
   "outputs": [
    {
     "name": "stderr",
     "output_type": "stream",
     "text": [
      "/home/wsun3/anaconda3/lib/python3.6/importlib/_bootstrap.py:219: RuntimeWarning: numpy.dtype size changed, may indicate binary incompatibility. Expected 96, got 88\n",
      "  return f(*args, **kwds)\n"
     ]
    }
   ],
   "source": [
    "# Load the ColorHistograms of 3 images\n",
    "import os\n",
    "import pandas as pd\n",
    "import re\n",
    "import numpy as np"
   ]
  },
  {
   "cell_type": "code",
   "execution_count": 6,
   "metadata": {},
   "outputs": [],
   "source": [
    "# define all the functions in this section \n",
    "\n",
    "def vname2ID(vnames):\n",
    "    \"\"\"Parse video digital id from its name\n",
    "    vnames: a list contains file names\"\"\"\n",
    "    vid = [ os.path.splitext(vn)[0][5:] for vn in vnames]\n",
    "    return vid\n",
    "\n",
    "def read_C3D(fname):\n",
    "    \"\"\"Scan vectors from file\"\"\"\n",
    "    with open(fname) as f:\n",
    "        for line in f:\n",
    "            C3D =[float(item) for item in line.split()] # convert to float type, using default separator\n",
    "    return C3D\n",
    "\n",
    "def read_HMP(fname):\n",
    "    \"\"\"Scan HMP(Histogram of Motion Patterns) features from file\"\"\"\n",
    "    with open(fname) as f:\n",
    "        for line in f:\n",
    "            pairs=line.split()\n",
    "            HMP_temp = { int(p.split(':')[0]) : float(p.split(':')[1]) for p in pairs}\n",
    "    # there are 6075 bins, fill zeros\n",
    "    HMP = np.zeros(6075)\n",
    "    for idx in HMP_temp.keys():\n",
    "        HMP[idx-1] = HMP_temp[idx]            \n",
    "    return HMP\n",
    "\n",
    "def read_ColorHistogram(fname):\n",
    "    \"\"\"Scan Color Histogram from file\n",
    "    Input file contains RGB histogram,\n",
    "    Return a matrix of (3,256)\"\"\"\n",
    "    RGB_Hist = np.zeros((3,256))\n",
    "    with open(fname) as f:\n",
    "        i_l = 0 # line index\n",
    "        for line in f:\n",
    "            pairs = line.split()\n",
    "            hist_dict = {int(p.split(':')[0]):float(p.split(':')[1]) for p in pairs}\n",
    "            for idx in hist_dict.keys():\n",
    "                RGB_Hist[i_l,idx] = hist_dict[idx]\n",
    "            i_l += 1\n",
    "    return RGB_Hist\n",
    "\n",
    "def read_HOG(fname):\n",
    "    \"\"\"Scan HOG (Histogram of Oriented Gradients) from file\n",
    "    ****\n",
    "    This is questionable, since its a hsitogram, calculated on 32 x 32 windows,\n",
    "    why is the size is different for frames in the same video\"\"\"\n",
    "    pass\n",
    "\n",
    "def read_caps(fname):\n",
    "    \"\"\"Load the captions into a dataframe\"\"\"\n",
    "    vn = []\n",
    "    cap = []\n",
    "    df = pd.DataFrame();\n",
    "    with open(fname) as f:\n",
    "        for line in f:\n",
    "            pairs = line.split()\n",
    "            vn.append(pairs[0])\n",
    "            cap.append(pairs[1])\n",
    "        df['video']=vn\n",
    "        df['caption']=cap\n",
    "    return df\n",
    "\n",
    "    "
   ]
  },
  {
   "cell_type": "code",
   "execution_count": 7,
   "metadata": {},
   "outputs": [],
   "source": [
    "Feat_path = '/home/wsun3/multimediaeval18/features/'\n",
    "image_feat_names = ['ColorHistogram','HOG','InceptionV3','LBP','ORB']\n",
    "video_feat_names = ['C3D','HMP']"
   ]
  },
  {
   "cell_type": "code",
   "execution_count": 8,
   "metadata": {},
   "outputs": [],
   "source": [
    "# Load video related features first\n",
    "# it helps with the organization of the video names\n",
    "vnames = os.listdir(Feat_path+'C3D')\n",
    "vid = vname2ID(vnames) # video id\n"
   ]
  },
  {
   "cell_type": "code",
   "execution_count": 5,
   "metadata": {},
   "outputs": [
    {
     "ename": "KeyboardInterrupt",
     "evalue": "",
     "output_type": "error",
     "traceback": [
      "\u001b[0;31m---------------------------------------------------------------------------\u001b[0m",
      "\u001b[0;31mKeyboardInterrupt\u001b[0m                         Traceback (most recent call last)",
      "\u001b[0;32m<ipython-input-5-5e0963632db1>\u001b[0m in \u001b[0;36m<module>\u001b[0;34m()\u001b[0m\n\u001b[1;32m      1\u001b[0m Features = pd.DataFrame({'ID': vid,\n\u001b[1;32m      2\u001b[0m                    \u001b[0;34m'C3D'\u001b[0m\u001b[0;34m:\u001b[0m \u001b[0;34m[\u001b[0m\u001b[0mread_C3D\u001b[0m\u001b[0;34m(\u001b[0m\u001b[0mFeat_path\u001b[0m\u001b[0;34m+\u001b[0m\u001b[0;34m'C3D'\u001b[0m\u001b[0;34m+\u001b[0m\u001b[0;34m'/video'\u001b[0m\u001b[0;34m+\u001b[0m\u001b[0mitem\u001b[0m\u001b[0;34m+\u001b[0m\u001b[0;34m'.txt'\u001b[0m\u001b[0;34m)\u001b[0m \u001b[0;32mfor\u001b[0m \u001b[0mitem\u001b[0m \u001b[0;32min\u001b[0m \u001b[0mvid\u001b[0m\u001b[0;34m]\u001b[0m\u001b[0;34m,\u001b[0m\u001b[0;34m\u001b[0m\u001b[0m\n\u001b[0;32m----> 3\u001b[0;31m                    \u001b[0;34m'HMP'\u001b[0m\u001b[0;34m:\u001b[0m\u001b[0;34m[\u001b[0m\u001b[0mread_HMP\u001b[0m\u001b[0;34m(\u001b[0m\u001b[0mFeat_path\u001b[0m\u001b[0;34m+\u001b[0m\u001b[0;34m'HMP'\u001b[0m\u001b[0;34m+\u001b[0m\u001b[0;34m'/video'\u001b[0m\u001b[0;34m+\u001b[0m\u001b[0mitem\u001b[0m\u001b[0;34m+\u001b[0m\u001b[0;34m'.txt'\u001b[0m\u001b[0;34m)\u001b[0m \u001b[0;32mfor\u001b[0m \u001b[0mitem\u001b[0m \u001b[0;32min\u001b[0m \u001b[0mvid\u001b[0m\u001b[0;34m]\u001b[0m\u001b[0;34m,\u001b[0m\u001b[0;34m\u001b[0m\u001b[0m\n\u001b[0m\u001b[1;32m      4\u001b[0m                     \u001b[0;34m'ColorHistogram0'\u001b[0m\u001b[0;34m:\u001b[0m\u001b[0;34m[\u001b[0m\u001b[0mread_ColorHistogram\u001b[0m\u001b[0;34m(\u001b[0m\u001b[0mFeat_path\u001b[0m\u001b[0;34m+\u001b[0m\u001b[0;34m'ColorHistogram'\u001b[0m\u001b[0;34m+\u001b[0m\u001b[0;34m'/video'\u001b[0m\u001b[0;34m+\u001b[0m\u001b[0mitem\u001b[0m\u001b[0;34m+\u001b[0m\u001b[0;34m'-0.txt'\u001b[0m\u001b[0;34m)\u001b[0m \u001b[0;32mfor\u001b[0m \u001b[0mitem\u001b[0m \u001b[0;32min\u001b[0m \u001b[0mvid\u001b[0m\u001b[0;34m]\u001b[0m\u001b[0;34m,\u001b[0m\u001b[0;34m\u001b[0m\u001b[0m\n\u001b[1;32m      5\u001b[0m                     \u001b[0;34m'ColorHistogram56'\u001b[0m\u001b[0;34m:\u001b[0m\u001b[0;34m[\u001b[0m\u001b[0mread_ColorHistogram\u001b[0m\u001b[0;34m(\u001b[0m\u001b[0mFeat_path\u001b[0m\u001b[0;34m+\u001b[0m\u001b[0;34m'ColorHistogram'\u001b[0m\u001b[0;34m+\u001b[0m\u001b[0;34m'/video'\u001b[0m\u001b[0;34m+\u001b[0m\u001b[0mitem\u001b[0m\u001b[0;34m+\u001b[0m\u001b[0;34m'-56.txt'\u001b[0m\u001b[0;34m)\u001b[0m \u001b[0;32mfor\u001b[0m \u001b[0mitem\u001b[0m \u001b[0;32min\u001b[0m \u001b[0mvid\u001b[0m\u001b[0;34m]\u001b[0m\u001b[0;34m,\u001b[0m\u001b[0;34m\u001b[0m\u001b[0m\n",
      "\u001b[0;32m<ipython-input-5-5e0963632db1>\u001b[0m in \u001b[0;36m<listcomp>\u001b[0;34m(.0)\u001b[0m\n\u001b[1;32m      1\u001b[0m Features = pd.DataFrame({'ID': vid,\n\u001b[1;32m      2\u001b[0m                    \u001b[0;34m'C3D'\u001b[0m\u001b[0;34m:\u001b[0m \u001b[0;34m[\u001b[0m\u001b[0mread_C3D\u001b[0m\u001b[0;34m(\u001b[0m\u001b[0mFeat_path\u001b[0m\u001b[0;34m+\u001b[0m\u001b[0;34m'C3D'\u001b[0m\u001b[0;34m+\u001b[0m\u001b[0;34m'/video'\u001b[0m\u001b[0;34m+\u001b[0m\u001b[0mitem\u001b[0m\u001b[0;34m+\u001b[0m\u001b[0;34m'.txt'\u001b[0m\u001b[0;34m)\u001b[0m \u001b[0;32mfor\u001b[0m \u001b[0mitem\u001b[0m \u001b[0;32min\u001b[0m \u001b[0mvid\u001b[0m\u001b[0;34m]\u001b[0m\u001b[0;34m,\u001b[0m\u001b[0;34m\u001b[0m\u001b[0m\n\u001b[0;32m----> 3\u001b[0;31m                    \u001b[0;34m'HMP'\u001b[0m\u001b[0;34m:\u001b[0m\u001b[0;34m[\u001b[0m\u001b[0mread_HMP\u001b[0m\u001b[0;34m(\u001b[0m\u001b[0mFeat_path\u001b[0m\u001b[0;34m+\u001b[0m\u001b[0;34m'HMP'\u001b[0m\u001b[0;34m+\u001b[0m\u001b[0;34m'/video'\u001b[0m\u001b[0;34m+\u001b[0m\u001b[0mitem\u001b[0m\u001b[0;34m+\u001b[0m\u001b[0;34m'.txt'\u001b[0m\u001b[0;34m)\u001b[0m \u001b[0;32mfor\u001b[0m \u001b[0mitem\u001b[0m \u001b[0;32min\u001b[0m \u001b[0mvid\u001b[0m\u001b[0;34m]\u001b[0m\u001b[0;34m,\u001b[0m\u001b[0;34m\u001b[0m\u001b[0m\n\u001b[0m\u001b[1;32m      4\u001b[0m                     \u001b[0;34m'ColorHistogram0'\u001b[0m\u001b[0;34m:\u001b[0m\u001b[0;34m[\u001b[0m\u001b[0mread_ColorHistogram\u001b[0m\u001b[0;34m(\u001b[0m\u001b[0mFeat_path\u001b[0m\u001b[0;34m+\u001b[0m\u001b[0;34m'ColorHistogram'\u001b[0m\u001b[0;34m+\u001b[0m\u001b[0;34m'/video'\u001b[0m\u001b[0;34m+\u001b[0m\u001b[0mitem\u001b[0m\u001b[0;34m+\u001b[0m\u001b[0;34m'-0.txt'\u001b[0m\u001b[0;34m)\u001b[0m \u001b[0;32mfor\u001b[0m \u001b[0mitem\u001b[0m \u001b[0;32min\u001b[0m \u001b[0mvid\u001b[0m\u001b[0;34m]\u001b[0m\u001b[0;34m,\u001b[0m\u001b[0;34m\u001b[0m\u001b[0m\n\u001b[1;32m      5\u001b[0m                     \u001b[0;34m'ColorHistogram56'\u001b[0m\u001b[0;34m:\u001b[0m\u001b[0;34m[\u001b[0m\u001b[0mread_ColorHistogram\u001b[0m\u001b[0;34m(\u001b[0m\u001b[0mFeat_path\u001b[0m\u001b[0;34m+\u001b[0m\u001b[0;34m'ColorHistogram'\u001b[0m\u001b[0;34m+\u001b[0m\u001b[0;34m'/video'\u001b[0m\u001b[0;34m+\u001b[0m\u001b[0mitem\u001b[0m\u001b[0;34m+\u001b[0m\u001b[0;34m'-56.txt'\u001b[0m\u001b[0;34m)\u001b[0m \u001b[0;32mfor\u001b[0m \u001b[0mitem\u001b[0m \u001b[0;32min\u001b[0m \u001b[0mvid\u001b[0m\u001b[0;34m]\u001b[0m\u001b[0;34m,\u001b[0m\u001b[0;34m\u001b[0m\u001b[0m\n",
      "\u001b[0;32m<ipython-input-2-53750c93d337>\u001b[0m in \u001b[0;36mread_HMP\u001b[0;34m(fname)\u001b[0m\n\u001b[1;32m     19\u001b[0m         \u001b[0;32mfor\u001b[0m \u001b[0mline\u001b[0m \u001b[0;32min\u001b[0m \u001b[0mf\u001b[0m\u001b[0;34m:\u001b[0m\u001b[0;34m\u001b[0m\u001b[0m\n\u001b[1;32m     20\u001b[0m             \u001b[0mpairs\u001b[0m\u001b[0;34m=\u001b[0m\u001b[0mline\u001b[0m\u001b[0;34m.\u001b[0m\u001b[0msplit\u001b[0m\u001b[0;34m(\u001b[0m\u001b[0;34m)\u001b[0m\u001b[0;34m\u001b[0m\u001b[0m\n\u001b[0;32m---> 21\u001b[0;31m             \u001b[0mHMP_temp\u001b[0m \u001b[0;34m=\u001b[0m \u001b[0;34m{\u001b[0m \u001b[0mint\u001b[0m\u001b[0;34m(\u001b[0m\u001b[0mp\u001b[0m\u001b[0;34m.\u001b[0m\u001b[0msplit\u001b[0m\u001b[0;34m(\u001b[0m\u001b[0;34m':'\u001b[0m\u001b[0;34m)\u001b[0m\u001b[0;34m[\u001b[0m\u001b[0;36m0\u001b[0m\u001b[0;34m]\u001b[0m\u001b[0;34m)\u001b[0m \u001b[0;34m:\u001b[0m \u001b[0mfloat\u001b[0m\u001b[0;34m(\u001b[0m\u001b[0mp\u001b[0m\u001b[0;34m.\u001b[0m\u001b[0msplit\u001b[0m\u001b[0;34m(\u001b[0m\u001b[0;34m':'\u001b[0m\u001b[0;34m)\u001b[0m\u001b[0;34m[\u001b[0m\u001b[0;36m1\u001b[0m\u001b[0;34m]\u001b[0m\u001b[0;34m)\u001b[0m \u001b[0;32mfor\u001b[0m \u001b[0mp\u001b[0m \u001b[0;32min\u001b[0m \u001b[0mpairs\u001b[0m\u001b[0;34m}\u001b[0m\u001b[0;34m\u001b[0m\u001b[0m\n\u001b[0m\u001b[1;32m     22\u001b[0m     \u001b[0;31m# there are 6075 bins, fill zeros\u001b[0m\u001b[0;34m\u001b[0m\u001b[0;34m\u001b[0m\u001b[0m\n\u001b[1;32m     23\u001b[0m     \u001b[0mHMP\u001b[0m \u001b[0;34m=\u001b[0m \u001b[0mnp\u001b[0m\u001b[0;34m.\u001b[0m\u001b[0mzeros\u001b[0m\u001b[0;34m(\u001b[0m\u001b[0;36m6075\u001b[0m\u001b[0;34m)\u001b[0m\u001b[0;34m\u001b[0m\u001b[0m\n",
      "\u001b[0;32m<ipython-input-2-53750c93d337>\u001b[0m in \u001b[0;36m<dictcomp>\u001b[0;34m(.0)\u001b[0m\n\u001b[1;32m     19\u001b[0m         \u001b[0;32mfor\u001b[0m \u001b[0mline\u001b[0m \u001b[0;32min\u001b[0m \u001b[0mf\u001b[0m\u001b[0;34m:\u001b[0m\u001b[0;34m\u001b[0m\u001b[0m\n\u001b[1;32m     20\u001b[0m             \u001b[0mpairs\u001b[0m\u001b[0;34m=\u001b[0m\u001b[0mline\u001b[0m\u001b[0;34m.\u001b[0m\u001b[0msplit\u001b[0m\u001b[0;34m(\u001b[0m\u001b[0;34m)\u001b[0m\u001b[0;34m\u001b[0m\u001b[0m\n\u001b[0;32m---> 21\u001b[0;31m             \u001b[0mHMP_temp\u001b[0m \u001b[0;34m=\u001b[0m \u001b[0;34m{\u001b[0m \u001b[0mint\u001b[0m\u001b[0;34m(\u001b[0m\u001b[0mp\u001b[0m\u001b[0;34m.\u001b[0m\u001b[0msplit\u001b[0m\u001b[0;34m(\u001b[0m\u001b[0;34m':'\u001b[0m\u001b[0;34m)\u001b[0m\u001b[0;34m[\u001b[0m\u001b[0;36m0\u001b[0m\u001b[0;34m]\u001b[0m\u001b[0;34m)\u001b[0m \u001b[0;34m:\u001b[0m \u001b[0mfloat\u001b[0m\u001b[0;34m(\u001b[0m\u001b[0mp\u001b[0m\u001b[0;34m.\u001b[0m\u001b[0msplit\u001b[0m\u001b[0;34m(\u001b[0m\u001b[0;34m':'\u001b[0m\u001b[0;34m)\u001b[0m\u001b[0;34m[\u001b[0m\u001b[0;36m1\u001b[0m\u001b[0;34m]\u001b[0m\u001b[0;34m)\u001b[0m \u001b[0;32mfor\u001b[0m \u001b[0mp\u001b[0m \u001b[0;32min\u001b[0m \u001b[0mpairs\u001b[0m\u001b[0;34m}\u001b[0m\u001b[0;34m\u001b[0m\u001b[0m\n\u001b[0m\u001b[1;32m     22\u001b[0m     \u001b[0;31m# there are 6075 bins, fill zeros\u001b[0m\u001b[0;34m\u001b[0m\u001b[0;34m\u001b[0m\u001b[0m\n\u001b[1;32m     23\u001b[0m     \u001b[0mHMP\u001b[0m \u001b[0;34m=\u001b[0m \u001b[0mnp\u001b[0m\u001b[0;34m.\u001b[0m\u001b[0mzeros\u001b[0m\u001b[0;34m(\u001b[0m\u001b[0;36m6075\u001b[0m\u001b[0;34m)\u001b[0m\u001b[0;34m\u001b[0m\u001b[0m\n",
      "\u001b[0;31mKeyboardInterrupt\u001b[0m: "
     ]
    }
   ],
   "source": [
    "Features = pd.DataFrame({'ID': vid,\n",
    "                   'C3D': [read_C3D(Feat_path+'C3D'+'/video'+item+'.txt') for item in vid],\n",
    "                   'HMP':[read_HMP(Feat_path+'HMP'+'/video'+item+'.txt') for item in vid],\n",
    "                    'ColorHistogram0':[read_ColorHistogram(Feat_path+'ColorHistogram'+'/video'+item+'-0.txt') for item in vid],\n",
    "                    'ColorHistogram56':[read_ColorHistogram(Feat_path+'ColorHistogram'+'/video'+item+'-56.txt') for item in vid],\n",
    "                    'ColorHistogram112':[read_ColorHistogram(Feat_path+'ColorHistogram'+'/video'+item+'-112.txt') for item in vid]\n",
    "                        })\n"
   ]
  },
  {
   "cell_type": "code",
   "execution_count": 9,
   "metadata": {},
   "outputs": [],
   "source": [
    "# load the ground truth values\n",
    "label_path = '/home/wsun3/multimediaeval18/ground-truth/'\n",
    "labels=pd.read_csv(label_path+'ground-truth_dev-set.csv')"
   ]
  },
  {
   "cell_type": "code",
   "execution_count": 10,
   "metadata": {},
   "outputs": [],
   "source": [
    "# load the captions\n",
    "cap_path = '/media/win/Users/ecelab-adm/Desktop/DataSet_me18me/me18me-devset/dev-set/dev-set_video-captions.txt'\n",
    "df_cap=read_caps(cap_path)\n",
    "labels['caption'] = df_cap['caption']"
   ]
  },
  {
   "cell_type": "code",
   "execution_count": 11,
   "metadata": {},
   "outputs": [
    {
     "data": {
      "text/html": [
       "<div>\n",
       "<style scoped>\n",
       "    .dataframe tbody tr th:only-of-type {\n",
       "        vertical-align: middle;\n",
       "    }\n",
       "\n",
       "    .dataframe tbody tr th {\n",
       "        vertical-align: top;\n",
       "    }\n",
       "\n",
       "    .dataframe thead th {\n",
       "        text-align: right;\n",
       "    }\n",
       "</style>\n",
       "<table border=\"1\" class=\"dataframe\">\n",
       "  <thead>\n",
       "    <tr style=\"text-align: right;\">\n",
       "      <th></th>\n",
       "      <th>video</th>\n",
       "      <th>short-term_memorability</th>\n",
       "      <th>long-term_memorability</th>\n",
       "      <th>caption</th>\n",
       "    </tr>\n",
       "  </thead>\n",
       "  <tbody>\n",
       "    <tr>\n",
       "      <th>min</th>\n",
       "      <td>video10.webm</td>\n",
       "      <td>0.388</td>\n",
       "      <td>0.000000</td>\n",
       "      <td>-black-old-people-portrait-worried-senior-lady...</td>\n",
       "    </tr>\n",
       "    <tr>\n",
       "      <th>max</th>\n",
       "      <td>video9999.webm</td>\n",
       "      <td>0.989</td>\n",
       "      <td>1.000000</td>\n",
       "      <td>zooming-in-on-man-paddling-white-water-kayak-s...</td>\n",
       "    </tr>\n",
       "    <tr>\n",
       "      <th>mean</th>\n",
       "      <td>NaN</td>\n",
       "      <td>0.859</td>\n",
       "      <td>0.778924</td>\n",
       "      <td>NaN</td>\n",
       "    </tr>\n",
       "    <tr>\n",
       "      <th>median</th>\n",
       "      <td>NaN</td>\n",
       "      <td>0.867</td>\n",
       "      <td>0.800000</td>\n",
       "      <td>NaN</td>\n",
       "    </tr>\n",
       "  </tbody>\n",
       "</table>\n",
       "</div>"
      ],
      "text/plain": [
       "                 video  short-term_memorability  long-term_memorability  \\\n",
       "min       video10.webm                    0.388                0.000000   \n",
       "max     video9999.webm                    0.989                1.000000   \n",
       "mean               NaN                    0.859                0.778924   \n",
       "median             NaN                    0.867                0.800000   \n",
       "\n",
       "                                                  caption  \n",
       "min     -black-old-people-portrait-worried-senior-lady...  \n",
       "max     zooming-in-on-man-paddling-white-water-kayak-s...  \n",
       "mean                                                  NaN  \n",
       "median                                                NaN  "
      ]
     },
     "execution_count": 11,
     "metadata": {},
     "output_type": "execute_result"
    }
   ],
   "source": [
    "# checkout the stats of the true memoribility\n",
    "labels.agg(['min','max','mean','median'])[['video','short-term_memorability','long-term_memorability','caption']]"
   ]
  },
  {
   "cell_type": "code",
   "execution_count": 12,
   "metadata": {},
   "outputs": [],
   "source": [
    "# sort the labels in decreasing order by short term memorability\n",
    "labels_sorted = labels.sort_values(axis=0,by='short-term_memorability',ascending=True)"
   ]
  },
  {
   "cell_type": "code",
   "execution_count": 13,
   "metadata": {},
   "outputs": [
    {
     "data": {
      "text/html": [
       "<div>\n",
       "<style scoped>\n",
       "    .dataframe tbody tr th:only-of-type {\n",
       "        vertical-align: middle;\n",
       "    }\n",
       "\n",
       "    .dataframe tbody tr th {\n",
       "        vertical-align: top;\n",
       "    }\n",
       "\n",
       "    .dataframe thead th {\n",
       "        text-align: right;\n",
       "    }\n",
       "</style>\n",
       "<table border=\"1\" class=\"dataframe\">\n",
       "  <thead>\n",
       "    <tr style=\"text-align: right;\">\n",
       "      <th></th>\n",
       "      <th>video</th>\n",
       "      <th>short-term_memorability</th>\n",
       "      <th>nb_short-term_annotations</th>\n",
       "      <th>long-term_memorability</th>\n",
       "      <th>nb_long-term_annotations</th>\n",
       "      <th>caption</th>\n",
       "    </tr>\n",
       "  </thead>\n",
       "  <tbody>\n",
       "    <tr>\n",
       "      <th>1517</th>\n",
       "      <td>video27.webm</td>\n",
       "      <td>0.388</td>\n",
       "      <td>33</td>\n",
       "      <td>0.647</td>\n",
       "      <td>17</td>\n",
       "      <td>timelapse-of-snow-mountains</td>\n",
       "    </tr>\n",
       "    <tr>\n",
       "      <th>330</th>\n",
       "      <td>video1377.webm</td>\n",
       "      <td>0.432</td>\n",
       "      <td>34</td>\n",
       "      <td>0.636</td>\n",
       "      <td>11</td>\n",
       "      <td>snow-capped-mountain-at-dusk</td>\n",
       "    </tr>\n",
       "    <tr>\n",
       "      <th>4263</th>\n",
       "      <td>video5794.webm</td>\n",
       "      <td>0.443</td>\n",
       "      <td>31</td>\n",
       "      <td>0.750</td>\n",
       "      <td>12</td>\n",
       "      <td>grey-canyons-and-valleys</td>\n",
       "    </tr>\n",
       "    <tr>\n",
       "      <th>471</th>\n",
       "      <td>video1530.webm</td>\n",
       "      <td>0.463</td>\n",
       "      <td>34</td>\n",
       "      <td>0.417</td>\n",
       "      <td>12</td>\n",
       "      <td>grassy-field-with-flowers-and-trees</td>\n",
       "    </tr>\n",
       "    <tr>\n",
       "      <th>1426</th>\n",
       "      <td>video2593.webm</td>\n",
       "      <td>0.476</td>\n",
       "      <td>33</td>\n",
       "      <td>0.444</td>\n",
       "      <td>9</td>\n",
       "      <td>dark-sea-with-bright-sky</td>\n",
       "    </tr>\n",
       "  </tbody>\n",
       "</table>\n",
       "</div>"
      ],
      "text/plain": [
       "               video  short-term_memorability  nb_short-term_annotations  \\\n",
       "1517    video27.webm                    0.388                         33   \n",
       "330   video1377.webm                    0.432                         34   \n",
       "4263  video5794.webm                    0.443                         31   \n",
       "471   video1530.webm                    0.463                         34   \n",
       "1426  video2593.webm                    0.476                         33   \n",
       "\n",
       "      long-term_memorability  nb_long-term_annotations  \\\n",
       "1517                   0.647                        17   \n",
       "330                    0.636                        11   \n",
       "4263                   0.750                        12   \n",
       "471                    0.417                        12   \n",
       "1426                   0.444                         9   \n",
       "\n",
       "                                  caption  \n",
       "1517          timelapse-of-snow-mountains  \n",
       "330          snow-capped-mountain-at-dusk  \n",
       "4263             grey-canyons-and-valleys  \n",
       "471   grassy-field-with-flowers-and-trees  \n",
       "1426             dark-sea-with-bright-sky  "
      ]
     },
     "execution_count": 13,
     "metadata": {},
     "output_type": "execute_result"
    }
   ],
   "source": [
    "labels_sorted.head()"
   ]
  },
  {
   "cell_type": "code",
   "execution_count": 14,
   "metadata": {},
   "outputs": [
    {
     "data": {
      "text/html": [
       "<div>\n",
       "<style scoped>\n",
       "    .dataframe tbody tr th:only-of-type {\n",
       "        vertical-align: middle;\n",
       "    }\n",
       "\n",
       "    .dataframe tbody tr th {\n",
       "        vertical-align: top;\n",
       "    }\n",
       "\n",
       "    .dataframe thead th {\n",
       "        text-align: right;\n",
       "    }\n",
       "</style>\n",
       "<table border=\"1\" class=\"dataframe\">\n",
       "  <thead>\n",
       "    <tr style=\"text-align: right;\">\n",
       "      <th></th>\n",
       "      <th>video</th>\n",
       "      <th>short-term_memorability</th>\n",
       "      <th>nb_short-term_annotations</th>\n",
       "      <th>long-term_memorability</th>\n",
       "      <th>nb_long-term_annotations</th>\n",
       "      <th>caption</th>\n",
       "    </tr>\n",
       "  </thead>\n",
       "  <tbody>\n",
       "    <tr>\n",
       "      <th>1077</th>\n",
       "      <td>video2203.webm</td>\n",
       "      <td>0.986</td>\n",
       "      <td>35</td>\n",
       "      <td>0.800</td>\n",
       "      <td>10</td>\n",
       "      <td>astronaut-in-outer-space-against-the-backdrop-...</td>\n",
       "    </tr>\n",
       "    <tr>\n",
       "      <th>7546</th>\n",
       "      <td>video9496.webm</td>\n",
       "      <td>0.987</td>\n",
       "      <td>34</td>\n",
       "      <td>0.727</td>\n",
       "      <td>11</td>\n",
       "      <td>two-rehabilitated-seals-heading-down-beach-tow...</td>\n",
       "    </tr>\n",
       "    <tr>\n",
       "      <th>3458</th>\n",
       "      <td>video4903.webm</td>\n",
       "      <td>0.987</td>\n",
       "      <td>33</td>\n",
       "      <td>0.600</td>\n",
       "      <td>10</td>\n",
       "      <td>mather-and-daughter-enjoying-a-movie-on-tablet</td>\n",
       "    </tr>\n",
       "    <tr>\n",
       "      <th>884</th>\n",
       "      <td>video1981.webm</td>\n",
       "      <td>0.987</td>\n",
       "      <td>34</td>\n",
       "      <td>0.769</td>\n",
       "      <td>13</td>\n",
       "      <td>happy-stylish-elegant-young-couple-welcoming-i...</td>\n",
       "    </tr>\n",
       "    <tr>\n",
       "      <th>6214</th>\n",
       "      <td>video798.webm</td>\n",
       "      <td>0.989</td>\n",
       "      <td>34</td>\n",
       "      <td>1.000</td>\n",
       "      <td>10</td>\n",
       "      <td>camera-moves-in-on-beared-man-with-shovel-taki...</td>\n",
       "    </tr>\n",
       "  </tbody>\n",
       "</table>\n",
       "</div>"
      ],
      "text/plain": [
       "               video  short-term_memorability  nb_short-term_annotations  \\\n",
       "1077  video2203.webm                    0.986                         35   \n",
       "7546  video9496.webm                    0.987                         34   \n",
       "3458  video4903.webm                    0.987                         33   \n",
       "884   video1981.webm                    0.987                         34   \n",
       "6214   video798.webm                    0.989                         34   \n",
       "\n",
       "      long-term_memorability  nb_long-term_annotations  \\\n",
       "1077                   0.800                        10   \n",
       "7546                   0.727                        11   \n",
       "3458                   0.600                        10   \n",
       "884                    0.769                        13   \n",
       "6214                   1.000                        10   \n",
       "\n",
       "                                                caption  \n",
       "1077  astronaut-in-outer-space-against-the-backdrop-...  \n",
       "7546  two-rehabilitated-seals-heading-down-beach-tow...  \n",
       "3458     mather-and-daughter-enjoying-a-movie-on-tablet  \n",
       "884   happy-stylish-elegant-young-couple-welcoming-i...  \n",
       "6214  camera-moves-in-on-beared-man-with-shovel-taki...  "
      ]
     },
     "execution_count": 14,
     "metadata": {},
     "output_type": "execute_result"
    }
   ],
   "source": [
    "labels_sorted.tail()"
   ]
  },
  {
   "cell_type": "code",
   "execution_count": 15,
   "metadata": {},
   "outputs": [],
   "source": [
    "# sort the labels in decreasing order by long term memorability\n",
    "labels_sorted = labels.sort_values(axis=0,by='long-term_memorability',ascending=True)"
   ]
  },
  {
   "cell_type": "code",
   "execution_count": 16,
   "metadata": {},
   "outputs": [
    {
     "data": {
      "text/html": [
       "<div>\n",
       "<style scoped>\n",
       "    .dataframe tbody tr th:only-of-type {\n",
       "        vertical-align: middle;\n",
       "    }\n",
       "\n",
       "    .dataframe tbody tr th {\n",
       "        vertical-align: top;\n",
       "    }\n",
       "\n",
       "    .dataframe thead th {\n",
       "        text-align: right;\n",
       "    }\n",
       "</style>\n",
       "<table border=\"1\" class=\"dataframe\">\n",
       "  <thead>\n",
       "    <tr style=\"text-align: right;\">\n",
       "      <th></th>\n",
       "      <th>video</th>\n",
       "      <th>short-term_memorability</th>\n",
       "      <th>nb_short-term_annotations</th>\n",
       "      <th>long-term_memorability</th>\n",
       "      <th>nb_long-term_annotations</th>\n",
       "      <th>caption</th>\n",
       "    </tr>\n",
       "  </thead>\n",
       "  <tbody>\n",
       "    <tr>\n",
       "      <th>1658</th>\n",
       "      <td>video2861.webm</td>\n",
       "      <td>0.872</td>\n",
       "      <td>36</td>\n",
       "      <td>0.000</td>\n",
       "      <td>10</td>\n",
       "      <td>barista-makes-latte-cappuccino-in-coffee-machine</td>\n",
       "    </tr>\n",
       "    <tr>\n",
       "      <th>6150</th>\n",
       "      <td>video7903.webm</td>\n",
       "      <td>0.751</td>\n",
       "      <td>34</td>\n",
       "      <td>0.182</td>\n",
       "      <td>11</td>\n",
       "      <td>lone-tree-in-field</td>\n",
       "    </tr>\n",
       "    <tr>\n",
       "      <th>6763</th>\n",
       "      <td>video8605.webm</td>\n",
       "      <td>0.899</td>\n",
       "      <td>35</td>\n",
       "      <td>0.182</td>\n",
       "      <td>11</td>\n",
       "      <td>a-young-man-is-sitting-on-the-bench-and-lookin...</td>\n",
       "    </tr>\n",
       "    <tr>\n",
       "      <th>2043</th>\n",
       "      <td>video3280.webm</td>\n",
       "      <td>0.863</td>\n",
       "      <td>33</td>\n",
       "      <td>0.200</td>\n",
       "      <td>10</td>\n",
       "      <td>texas-leonabelle-turnbull-birding-center-flyin...</td>\n",
       "    </tr>\n",
       "    <tr>\n",
       "      <th>129</th>\n",
       "      <td>video114.webm</td>\n",
       "      <td>0.875</td>\n",
       "      <td>36</td>\n",
       "      <td>0.200</td>\n",
       "      <td>10</td>\n",
       "      <td>videoblocks-tree-roots-protrude-from-eroded-gr...</td>\n",
       "    </tr>\n",
       "  </tbody>\n",
       "</table>\n",
       "</div>"
      ],
      "text/plain": [
       "               video  short-term_memorability  nb_short-term_annotations  \\\n",
       "1658  video2861.webm                    0.872                         36   \n",
       "6150  video7903.webm                    0.751                         34   \n",
       "6763  video8605.webm                    0.899                         35   \n",
       "2043  video3280.webm                    0.863                         33   \n",
       "129    video114.webm                    0.875                         36   \n",
       "\n",
       "      long-term_memorability  nb_long-term_annotations  \\\n",
       "1658                   0.000                        10   \n",
       "6150                   0.182                        11   \n",
       "6763                   0.182                        11   \n",
       "2043                   0.200                        10   \n",
       "129                    0.200                        10   \n",
       "\n",
       "                                                caption  \n",
       "1658   barista-makes-latte-cappuccino-in-coffee-machine  \n",
       "6150                                 lone-tree-in-field  \n",
       "6763  a-young-man-is-sitting-on-the-bench-and-lookin...  \n",
       "2043  texas-leonabelle-turnbull-birding-center-flyin...  \n",
       "129   videoblocks-tree-roots-protrude-from-eroded-gr...  "
      ]
     },
     "execution_count": 16,
     "metadata": {},
     "output_type": "execute_result"
    }
   ],
   "source": [
    "labels_sorted.head()"
   ]
  },
  {
   "cell_type": "code",
   "execution_count": 17,
   "metadata": {},
   "outputs": [
    {
     "data": {
      "text/html": [
       "<div>\n",
       "<style scoped>\n",
       "    .dataframe tbody tr th:only-of-type {\n",
       "        vertical-align: middle;\n",
       "    }\n",
       "\n",
       "    .dataframe tbody tr th {\n",
       "        vertical-align: top;\n",
       "    }\n",
       "\n",
       "    .dataframe thead th {\n",
       "        text-align: right;\n",
       "    }\n",
       "</style>\n",
       "<table border=\"1\" class=\"dataframe\">\n",
       "  <thead>\n",
       "    <tr style=\"text-align: right;\">\n",
       "      <th></th>\n",
       "      <th>video</th>\n",
       "      <th>short-term_memorability</th>\n",
       "      <th>nb_short-term_annotations</th>\n",
       "      <th>long-term_memorability</th>\n",
       "      <th>nb_long-term_annotations</th>\n",
       "      <th>caption</th>\n",
       "    </tr>\n",
       "  </thead>\n",
       "  <tbody>\n",
       "    <tr>\n",
       "      <th>4975</th>\n",
       "      <td>video6594.webm</td>\n",
       "      <td>0.890</td>\n",
       "      <td>33</td>\n",
       "      <td>1.0</td>\n",
       "      <td>11</td>\n",
       "      <td>black-woman-leaning-against-wall</td>\n",
       "    </tr>\n",
       "    <tr>\n",
       "      <th>440</th>\n",
       "      <td>video1496.webm</td>\n",
       "      <td>0.983</td>\n",
       "      <td>33</td>\n",
       "      <td>1.0</td>\n",
       "      <td>12</td>\n",
       "      <td>businesswoman-swinging-in-a-hammock-and-drinki...</td>\n",
       "    </tr>\n",
       "    <tr>\n",
       "      <th>4964</th>\n",
       "      <td>video6583.webm</td>\n",
       "      <td>0.910</td>\n",
       "      <td>40</td>\n",
       "      <td>1.0</td>\n",
       "      <td>10</td>\n",
       "      <td>elephant-in-golden-light</td>\n",
       "    </tr>\n",
       "    <tr>\n",
       "      <th>1944</th>\n",
       "      <td>video317.webm</td>\n",
       "      <td>0.892</td>\n",
       "      <td>33</td>\n",
       "      <td>1.0</td>\n",
       "      <td>13</td>\n",
       "      <td>moscow-russia-july-moscow-historical-festival-...</td>\n",
       "    </tr>\n",
       "    <tr>\n",
       "      <th>5598</th>\n",
       "      <td>video7285.webm</td>\n",
       "      <td>0.885</td>\n",
       "      <td>32</td>\n",
       "      <td>1.0</td>\n",
       "      <td>11</td>\n",
       "      <td>attractive-woman-with-a-cup-of-coffee-on-the-bed</td>\n",
       "    </tr>\n",
       "  </tbody>\n",
       "</table>\n",
       "</div>"
      ],
      "text/plain": [
       "               video  short-term_memorability  nb_short-term_annotations  \\\n",
       "4975  video6594.webm                    0.890                         33   \n",
       "440   video1496.webm                    0.983                         33   \n",
       "4964  video6583.webm                    0.910                         40   \n",
       "1944   video317.webm                    0.892                         33   \n",
       "5598  video7285.webm                    0.885                         32   \n",
       "\n",
       "      long-term_memorability  nb_long-term_annotations  \\\n",
       "4975                     1.0                        11   \n",
       "440                      1.0                        12   \n",
       "4964                     1.0                        10   \n",
       "1944                     1.0                        13   \n",
       "5598                     1.0                        11   \n",
       "\n",
       "                                                caption  \n",
       "4975                   black-woman-leaning-against-wall  \n",
       "440   businesswoman-swinging-in-a-hammock-and-drinki...  \n",
       "4964                           elephant-in-golden-light  \n",
       "1944  moscow-russia-july-moscow-historical-festival-...  \n",
       "5598   attractive-woman-with-a-cup-of-coffee-on-the-bed  "
      ]
     },
     "execution_count": 17,
     "metadata": {},
     "output_type": "execute_result"
    }
   ],
   "source": [
    "labels_sorted.tail()"
   ]
  },
  {
   "cell_type": "code",
   "execution_count": 18,
   "metadata": {},
   "outputs": [],
   "source": [
    "# visualize the relationshipt between long-term and short-term memorability\n",
    "import matplotlib.pyplot as plt"
   ]
  },
  {
   "cell_type": "code",
   "execution_count": 27,
   "metadata": {},
   "outputs": [
    {
     "data": {
      "text/plain": [
       "<matplotlib.axes._subplots.AxesSubplot at 0x7ff195769e10>"
      ]
     },
     "execution_count": 27,
     "metadata": {},
     "output_type": "execute_result"
    },
    {
     "data": {
      "image/png": "[encoded data removed]",
      "text/plain": [
       "<Figure size 432x288 with 1 Axes>"
      ]
     },
     "metadata": {},
     "output_type": "display_data"
    }
   ],
   "source": [
    "labels.plot.scatter('short-term_memorability','long-term_memorability')"
   ]
  },
  {
   "cell_type": "markdown",
   "metadata": {},
   "source": [
    "## There is not much expected linear relationship between long and short term memorability"
   ]
  },
  {
   "cell_type": "code",
   "execution_count": null,
   "metadata": {},
   "outputs": [],
   "source": []
  }
 ],
 "metadata": {
  "kernelspec": {
   "display_name": "Python 3",
   "language": "python",
   "name": "python3"
  },
  "language_info": {
   "codemirror_mode": {
    "name": "ipython",
    "version": 3
   },
   "file_extension": ".py",
   "mimetype": "text/x-python",
   "name": "python",
   "nbconvert_exporter": "python",
   "pygments_lexer": "ipython3",
   "version": "3.6.5"
  }
 },
 "nbformat": 4,
 "nbformat_minor": 2
}
