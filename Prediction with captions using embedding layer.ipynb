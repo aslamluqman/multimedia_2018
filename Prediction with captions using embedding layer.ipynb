{
 "cells": [
  {
   "cell_type": "markdown",
   "metadata": {},
   "source": [
    "# Prediction with Captions using embeding layer"
   ]
  },
  {
   "cell_type": "code",
   "execution_count": 1,
   "metadata": {},
   "outputs": [
    {
     "name": "stderr",
     "output_type": "stream",
     "text": [
      "/home/stone/anaconda3/lib/python3.6/site-packages/h5py/__init__.py:36: FutureWarning: Conversion of the second argument of issubdtype from `float` to `np.floating` is deprecated. In future, it will be treated as `np.float64 == np.dtype(float).type`.\n",
      "  from ._conv import register_converters as _register_converters\n",
      "Using TensorFlow backend.\n"
     ]
    }
   ],
   "source": [
    "import pandas as pd\n",
    "from keras import Sequential\n",
    "from keras import layers\n",
    "from keras import regularizers\n",
    "import numpy as np\n",
    "from string import punctuation\n",
    "import pyprind\n",
    "from collections import Counter\n",
    "from keras.preprocessing.text import Tokenizer\n",
    "from sklearn.model_selection import train_test_split\n",
    "import matplotlib.pyplot as plt\n",
    "from keras import preprocessing\n",
    "\n",
    "# for reproducability\n",
    "from numpy.random import seed\n",
    "seed(1)\n",
    "from tensorflow import set_random_seed\n",
    "set_random_seed(1)\n"
   ]
  },
  {
   "cell_type": "code",
   "execution_count": 2,
   "metadata": {},
   "outputs": [],
   "source": [
    "# load labels and captions\n",
    "def read_caps(fname):\n",
    "    \"\"\"Load the captions into a dataframe\"\"\"\n",
    "    vn = []\n",
    "    cap = []\n",
    "    df = pd.DataFrame();\n",
    "    with open(fname) as f:\n",
    "        for line in f:\n",
    "            pairs = line.split()\n",
    "            vn.append(pairs[0])\n",
    "            cap.append(pairs[1])\n",
    "        df['video']=vn\n",
    "        df['caption']=cap\n",
    "    return df\n",
    "\n",
    "def Get_score(Y_pred,Y_true):\n",
    "    '''Calculate the Spearmann\"s correlation coefficient'''\n",
    "    Y_pred = np.squeeze(Y_pred)\n",
    "    Y_true = np.squeeze(Y_true)\n",
    "    if Y_pred.shape != Y_true.shape:\n",
    "        print('Input shapes don\\'t match!')\n",
    "    else:\n",
    "        if len(Y_pred.shape) == 1:\n",
    "            Res = pd.DataFrame({'Y_true':Y_true,'Y_pred':Y_pred})\n",
    "            score_mat = Res[['Y_true','Y_pred']].corr(method='spearman',min_periods=1)\n",
    "            print('The Spearman\\'s correlation coefficient is: %.3f' % score_mat.iloc[1][0])\n",
    "        else:\n",
    "            for ii in range(Y_pred.shape[1]):\n",
    "                Get_score(Y_pred[:,ii],Y_true[:,ii])"
   ]
  },
  {
   "cell_type": "code",
   "execution_count": 4,
   "metadata": {},
   "outputs": [
    {
     "name": "stderr",
     "output_type": "stream",
     "text": [
      "Counting word occurrences\n"
     ]
    },
    {
     "name": "stdout",
     "output_type": "stream",
     "text": [
      "train data set shape (8000, 2)\n",
      "test data set shape (2000, 2)\n",
      "shape after concatenation (10000, 2)\n"
     ]
    },
    {
     "name": "stderr",
     "output_type": "stream",
     "text": [
      "0% [##############################] 100% | ETA: 00:00:00\n",
      "Total time elapsed: 00:00:08\n"
     ]
    },
    {
     "data": {
      "text/html": [
       "<div>\n",
       "<style scoped>\n",
       "    .dataframe tbody tr th:only-of-type {\n",
       "        vertical-align: middle;\n",
       "    }\n",
       "\n",
       "    .dataframe tbody tr th {\n",
       "        vertical-align: top;\n",
       "    }\n",
       "\n",
       "    .dataframe thead th {\n",
       "        text-align: right;\n",
       "    }\n",
       "</style>\n",
       "<table border=\"1\" class=\"dataframe\">\n",
       "  <thead>\n",
       "    <tr style=\"text-align: right;\">\n",
       "      <th></th>\n",
       "      <th>video</th>\n",
       "      <th>caption</th>\n",
       "    </tr>\n",
       "  </thead>\n",
       "  <tbody>\n",
       "    <tr>\n",
       "      <th>0</th>\n",
       "      <td>video10.webm</td>\n",
       "      <td>couple relaxing on picnic crane shot</td>\n",
       "    </tr>\n",
       "    <tr>\n",
       "      <th>1</th>\n",
       "      <td>video100.webm</td>\n",
       "      <td>cute black and white cats in cage at animal sh...</td>\n",
       "    </tr>\n",
       "    <tr>\n",
       "      <th>2</th>\n",
       "      <td>video10000.webm</td>\n",
       "      <td>owl in tree close up</td>\n",
       "    </tr>\n",
       "    <tr>\n",
       "      <th>3</th>\n",
       "      <td>video10001.webm</td>\n",
       "      <td>around the house on a laptop</td>\n",
       "    </tr>\n",
       "    <tr>\n",
       "      <th>4</th>\n",
       "      <td>video10002.webm</td>\n",
       "      <td>beautiful young girl with apple</td>\n",
       "    </tr>\n",
       "  </tbody>\n",
       "</table>\n",
       "</div>"
      ],
      "text/plain": [
       "             video                                            caption\n",
       "0     video10.webm               couple relaxing on picnic crane shot\n",
       "1    video100.webm  cute black and white cats in cage at animal sh...\n",
       "2  video10000.webm                               owl in tree close up\n",
       "3  video10001.webm                       around the house on a laptop\n",
       "4  video10002.webm                    beautiful young girl with apple"
      ]
     },
     "execution_count": 4,
     "metadata": {},
     "output_type": "execute_result"
    }
   ],
   "source": [
    "# load the captions\n",
    "#cap_path = '/media/win/Users/ecelab-adm/Desktop/DataSet_me18me/me18me-devset/dev-set/dev-set_video-captions.txt'\n",
    "cap_path = '/media/stone/Data/DataSet_me18me/me18me-devset/dev-set/dev-set_video-captions.txt'\n",
    "df_cap_train=read_caps(cap_path)\n",
    "print('train data set shape',df_cap_train.shape)\n",
    "\n",
    "# load test captions\n",
    "#cap_path = '/media/win/Users/ecelab-adm/Desktop/DataSet_me18me/test-set/test-set_videos-captions.txt'\n",
    "cap_path = '/media/stone/Data/DataSet_me18me/testset/test-set_videos-captions.txt'\n",
    "df_cap_test=read_caps(cap_path)\n",
    "print('test data set shape',df_cap_test.shape)\n",
    "\n",
    "df_cap = pd.concat([df_cap_train,df_cap_test],ignore_index=True)\n",
    "print('shape after concatenation',df_cap.shape)\n",
    "\n",
    "# load the ground truth values\n",
    "#label_path = '/media/win/Users/ecelab-adm/Desktop/DataSet_me18me/me18me-devset/dev-set/ground-truth/' \n",
    "label_path = '/media/stone/Data/DataSet_me18me/me18me-devset/dev-set/ground-truth/'\n",
    "\n",
    "labels=pd.read_csv(label_path+'ground-truth_dev-set.csv')\n",
    "\n",
    "counts = Counter()\n",
    "# setup prograss tracker\n",
    "pbar = pyprind.ProgBar(len(df_cap['caption']), title='Counting word occurrences')\n",
    "for i, cap in enumerate(df_cap['caption']):\n",
    "    # replace punctuations with space\n",
    "    # convert words to lower case \n",
    "    text = ''.join([c if c not in punctuation else ' ' for c in cap]).lower()\n",
    "    df_cap.loc[i,'caption'] = text\n",
    "    pbar.update()\n",
    "    counts.update(text.split())\n",
    "    \n",
    "df_cap.head()"
   ]
  },
  {
   "cell_type": "markdown",
   "metadata": {},
   "source": [
    "## Vectorize the captions"
   ]
  },
  {
   "cell_type": "code",
   "execution_count": 5,
   "metadata": {},
   "outputs": [
    {
     "data": {
      "text/plain": [
       "(2000, 10)"
      ]
     },
     "execution_count": 5,
     "metadata": {},
     "output_type": "execute_result"
    }
   ],
   "source": [
    "# build the word index\n",
    "len_token = len(counts)\n",
    "tokenizer = Tokenizer(num_words=len_token)\n",
    "tokenizer.fit_on_texts(list(df_cap.caption.values))\n",
    "sequences = tokenizer.texts_to_sequences(list(df_cap_train.caption.values))\n",
    "sequences[:2]\n",
    "\n",
    "maxlen = 10\n",
    "X_seq = preprocessing.sequence.pad_sequences(sequences,maxlen=maxlen)\n",
    "test_sequences = tokenizer.texts_to_sequences(list(df_cap_test.caption.values))\n",
    "X_test = preprocessing.sequence.pad_sequences(test_sequences,maxlen=maxlen)\n",
    "X_test.shape"
   ]
  },
  {
   "cell_type": "code",
   "execution_count": 6,
   "metadata": {},
   "outputs": [
    {
     "data": {
      "text/plain": [
       "(10000, 10)"
      ]
     },
     "execution_count": 6,
     "metadata": {},
     "output_type": "execute_result"
    }
   ],
   "source": [
    "Y = labels[['short-term_memorability','long-term_memorability']].values\n",
    "X = X_seq\n",
    "X_all = np.concatenate([X,X_test])\n",
    "X_all.shape"
   ]
  },
  {
   "cell_type": "code",
   "execution_count": 7,
   "metadata": {},
   "outputs": [],
   "source": [
    "X_train, X_val, Y_train, Y_val = train_test_split(X,Y, test_size=0.2, random_state=42)"
   ]
  },
  {
   "cell_type": "code",
   "execution_count": 8,
   "metadata": {},
   "outputs": [],
   "source": [
    "from keras.models import Sequential\n",
    "from keras.layers import Flatten, Dense, Embedding"
   ]
  },
  {
   "cell_type": "code",
   "execution_count": 15,
   "metadata": {},
   "outputs": [
    {
     "name": "stdout",
     "output_type": "stream",
     "text": [
      "_________________________________________________________________\n",
      "Layer (type)                 Output Shape              Param #   \n",
      "=================================================================\n",
      "embedding_3 (Embedding)      (None, 10, 8)             51088     \n",
      "_________________________________________________________________\n",
      "flatten_3 (Flatten)          (None, 80)                0         \n",
      "_________________________________________________________________\n",
      "dense_5 (Dense)              (None, 10)                810       \n",
      "_________________________________________________________________\n",
      "dense_6 (Dense)              (None, 2)                 22        \n",
      "=================================================================\n",
      "Total params: 51,920\n",
      "Trainable params: 51,920\n",
      "Non-trainable params: 0\n",
      "_________________________________________________________________\n"
     ]
    }
   ],
   "source": [
    "model = Sequential()\n",
    "model.add(Embedding(1+X_all.max(),8,input_length=maxlen))\n",
    "model.add(Flatten())\n",
    "model.add(Dense(10,activation='relu',kernel_regularizer=regularizers.l1_l2(l1=0.001,l2=0.002)))\n",
    "model.add(Dense(2,activation='sigmoid'))\n",
    "\n",
    "model.compile(optimizer='rmsprop',loss='mae',metrics=['acc'])\n",
    "model.summary()"
   ]
  },
  {
   "cell_type": "code",
   "execution_count": 16,
   "metadata": {},
   "outputs": [
    {
     "name": "stdout",
     "output_type": "stream",
     "text": [
      "Train on 6400 samples, validate on 1600 samples\n",
      "Epoch 1/20\n",
      "6400/6400 [==============================] - 1s 87us/step - loss: 0.2402 - acc: 0.6780 - val_loss: 0.1270 - val_acc: 0.6956\n",
      "Epoch 2/20\n",
      "6400/6400 [==============================] - 0s 56us/step - loss: 0.1065 - acc: 0.7039 - val_loss: 0.0967 - val_acc: 0.6956\n",
      "Epoch 3/20\n",
      "6400/6400 [==============================] - 0s 58us/step - loss: 0.0919 - acc: 0.7039 - val_loss: 0.0912 - val_acc: 0.6956\n",
      "Epoch 4/20\n",
      "6400/6400 [==============================] - 0s 54us/step - loss: 0.0894 - acc: 0.7039 - val_loss: 0.0909 - val_acc: 0.6956\n",
      "Epoch 5/20\n",
      "6400/6400 [==============================] - 0s 55us/step - loss: 0.0890 - acc: 0.7039 - val_loss: 0.0909 - val_acc: 0.6956\n",
      "Epoch 6/20\n",
      "6400/6400 [==============================] - 0s 55us/step - loss: 0.0888 - acc: 0.7039 - val_loss: 0.0904 - val_acc: 0.6956\n",
      "Epoch 7/20\n",
      "6400/6400 [==============================] - 0s 54us/step - loss: 0.0885 - acc: 0.7039 - val_loss: 0.0904 - val_acc: 0.6956\n",
      "Epoch 8/20\n",
      "6400/6400 [==============================] - 0s 53us/step - loss: 0.0881 - acc: 0.7039 - val_loss: 0.0907 - val_acc: 0.6956\n",
      "Epoch 9/20\n",
      "6400/6400 [==============================] - 0s 54us/step - loss: 0.0877 - acc: 0.7039 - val_loss: 0.0904 - val_acc: 0.6956\n",
      "Epoch 10/20\n",
      "6400/6400 [==============================] - 0s 54us/step - loss: 0.0872 - acc: 0.7039 - val_loss: 0.0905 - val_acc: 0.6956\n",
      "Epoch 11/20\n",
      "6400/6400 [==============================] - 0s 51us/step - loss: 0.0867 - acc: 0.7039 - val_loss: 0.0904 - val_acc: 0.6956\n",
      "Epoch 12/20\n",
      "6400/6400 [==============================] - 0s 51us/step - loss: 0.0862 - acc: 0.7039 - val_loss: 0.0906 - val_acc: 0.6956\n",
      "Epoch 13/20\n",
      "6400/6400 [==============================] - 0s 54us/step - loss: 0.0858 - acc: 0.7039 - val_loss: 0.0908 - val_acc: 0.6956\n",
      "Epoch 14/20\n",
      "6400/6400 [==============================] - 0s 50us/step - loss: 0.0852 - acc: 0.7039 - val_loss: 0.0909 - val_acc: 0.6956\n",
      "Epoch 15/20\n",
      "6400/6400 [==============================] - 0s 53us/step - loss: 0.0848 - acc: 0.7039 - val_loss: 0.0907 - val_acc: 0.6956\n",
      "Epoch 16/20\n",
      "6400/6400 [==============================] - 0s 50us/step - loss: 0.0843 - acc: 0.7039 - val_loss: 0.0908 - val_acc: 0.6956\n",
      "Epoch 17/20\n",
      "6400/6400 [==============================] - 0s 48us/step - loss: 0.0838 - acc: 0.7039 - val_loss: 0.0907 - val_acc: 0.6956\n",
      "Epoch 18/20\n",
      "6400/6400 [==============================] - 0s 50us/step - loss: 0.0834 - acc: 0.7039 - val_loss: 0.0908 - val_acc: 0.6956\n",
      "Epoch 19/20\n",
      "6400/6400 [==============================] - 0s 50us/step - loss: 0.0829 - acc: 0.7039 - val_loss: 0.0908 - val_acc: 0.6956\n",
      "Epoch 20/20\n",
      "6400/6400 [==============================] - 0s 52us/step - loss: 0.0824 - acc: 0.7039 - val_loss: 0.0911 - val_acc: 0.6956\n"
     ]
    }
   ],
   "source": [
    "history = model.fit(X_train,Y_train,epochs=20,batch_size=32,validation_data=(X_val,Y_val))"
   ]
  },
  {
   "cell_type": "code",
   "execution_count": 17,
   "metadata": {},
   "outputs": [
    {
     "data": {
      "image/png": "[encoded data removed]",
      "text/plain": [
       "<Figure size 432x288 with 1 Axes>"
      ]
     },
     "metadata": {},
     "output_type": "display_data"
    }
   ],
   "source": [
    "loss = history.history['loss']\n",
    "val_loss = history.history['val_loss']\n",
    "\n",
    "epochs = range(1,len(loss)+1)\n",
    "\n",
    "plt.plot(epochs,loss,'bo',label='Training loss')\n",
    "plt.plot(epochs,val_loss,'b',label='Validation loss')\n",
    "plt.title('Training and validation loss')\n",
    "plt.xlabel('Epochs')\n",
    "plt.ylabel('Loss')\n",
    "plt.legend()\n",
    "plt.show()"
   ]
  },
  {
   "cell_type": "code",
   "execution_count": 18,
   "metadata": {},
   "outputs": [
    {
     "data": {
      "image/png": "[encoded data removed]",
      "text/plain": [
       "<Figure size 432x288 with 1 Axes>"
      ]
     },
     "metadata": {},
     "output_type": "display_data"
    }
   ],
   "source": [
    "plt.figure()\n",
    "acc = history.history['acc']\n",
    "val_acc = history.history['val_acc']\n",
    "plt.plot(epochs, acc, 'bo', label='Training acc')\n",
    "plt.plot(epochs, val_acc, 'b', label='Validation acc')\n",
    "plt.title('Training and validation accuracy')\n",
    "plt.xlabel('Epochs')\n",
    "plt.ylabel('Acc')\n",
    "plt.legend()\n",
    "plt.show()\n"
   ]
  },
  {
   "cell_type": "markdown",
   "metadata": {},
   "source": [
    "## Adding Recurrent layer to capture the order of the words"
   ]
  },
  {
   "cell_type": "code",
   "execution_count": 19,
   "metadata": {},
   "outputs": [
    {
     "name": "stdout",
     "output_type": "stream",
     "text": [
      "_________________________________________________________________\n",
      "Layer (type)                 Output Shape              Param #   \n",
      "=================================================================\n",
      "embedding_4 (Embedding)      (None, 10, 15)            95790     \n",
      "_________________________________________________________________\n",
      "simple_rnn_1 (SimpleRNN)     (None, 10)                260       \n",
      "_________________________________________________________________\n",
      "dense_7 (Dense)              (None, 10)                110       \n",
      "_________________________________________________________________\n",
      "dense_8 (Dense)              (None, 2)                 22        \n",
      "=================================================================\n",
      "Total params: 96,182\n",
      "Trainable params: 96,182\n",
      "Non-trainable params: 0\n",
      "_________________________________________________________________\n"
     ]
    }
   ],
   "source": [
    "from keras.layers import SimpleRNN, LSTM\n",
    "\n",
    "model = Sequential()\n",
    "model.add(Embedding(1+X_all.max(),15,input_length=maxlen))\n",
    "#model.add(Flatten())\n",
    "model.add(SimpleRNN(10))\n",
    "model.add(Dense(10,activation='relu',kernel_regularizer=regularizers.l1_l2(l1=0.001,l2=0.004)))\n",
    "model.add(Dense(2,activation='sigmoid'))\n",
    "\n",
    "model.compile(optimizer='rmsprop',loss='mae',metrics=['acc'])\n",
    "model.summary()"
   ]
  },
  {
   "cell_type": "code",
   "execution_count": 20,
   "metadata": {},
   "outputs": [
    {
     "name": "stdout",
     "output_type": "stream",
     "text": [
      "Train on 6400 samples, validate on 1600 samples\n",
      "Epoch 1/10\n",
      "6400/6400 [==============================] - 2s 280us/step - loss: 0.1342 - acc: 0.6309 - val_loss: 0.1078 - val_acc: 0.6956\n",
      "Epoch 2/10\n",
      "6400/6400 [==============================] - 1s 217us/step - loss: 0.0969 - acc: 0.7039 - val_loss: 0.0964 - val_acc: 0.6956\n",
      "Epoch 3/10\n",
      "6400/6400 [==============================] - 1s 216us/step - loss: 0.0888 - acc: 0.7039 - val_loss: 0.0951 - val_acc: 0.6956\n",
      "Epoch 4/10\n",
      "6400/6400 [==============================] - 1s 214us/step - loss: 0.0851 - acc: 0.7039 - val_loss: 0.0941 - val_acc: 0.6956\n",
      "Epoch 5/10\n",
      "6400/6400 [==============================] - 1s 215us/step - loss: 0.0821 - acc: 0.7039 - val_loss: 0.0919 - val_acc: 0.6956\n",
      "Epoch 6/10\n",
      "6400/6400 [==============================] - 1s 215us/step - loss: 0.0795 - acc: 0.7039 - val_loss: 0.0924 - val_acc: 0.6956\n",
      "Epoch 7/10\n",
      "6400/6400 [==============================] - 1s 214us/step - loss: 0.0769 - acc: 0.7039 - val_loss: 0.0924 - val_acc: 0.6956\n",
      "Epoch 8/10\n",
      "6400/6400 [==============================] - 1s 214us/step - loss: 0.0745 - acc: 0.7039 - val_loss: 0.0928 - val_acc: 0.6956\n",
      "Epoch 9/10\n",
      "6400/6400 [==============================] - 1s 205us/step - loss: 0.0724 - acc: 0.7039 - val_loss: 0.0926 - val_acc: 0.6956\n",
      "Epoch 10/10\n",
      "6400/6400 [==============================] - 1s 216us/step - loss: 0.0702 - acc: 0.7039 - val_loss: 0.0933 - val_acc: 0.6956\n"
     ]
    }
   ],
   "source": [
    "history = model.fit(X_train,Y_train,epochs=10,batch_size=20,validation_data=(X_val,Y_val))"
   ]
  },
  {
   "cell_type": "code",
   "execution_count": 21,
   "metadata": {},
   "outputs": [
    {
     "data": {
      "image/png": "[encoded data removed]",
      "text/plain": [
       "<Figure size 432x288 with 1 Axes>"
      ]
     },
     "metadata": {},
     "output_type": "display_data"
    },
    {
     "data": {
      "image/png": "[encoded data removed]",
      "text/plain": [
       "<Figure size 432x288 with 1 Axes>"
      ]
     },
     "metadata": {},
     "output_type": "display_data"
    }
   ],
   "source": [
    "loss = history.history['loss']\n",
    "val_loss = history.history['val_loss']\n",
    "\n",
    "epochs = range(1,len(loss)+1)\n",
    "\n",
    "plt.plot(epochs,loss,'bo',label='Training loss')\n",
    "plt.plot(epochs,val_loss,'b',label='Validation loss')\n",
    "plt.title('Training and validation loss')\n",
    "plt.xlabel('Epochs')\n",
    "plt.ylabel('Loss')\n",
    "plt.legend()\n",
    "plt.show()\n",
    "\n",
    "\n",
    "plt.figure()\n",
    "acc = history.history['acc']\n",
    "val_acc = history.history['val_acc']\n",
    "plt.plot(epochs, acc, 'bo', label='Training acc')\n",
    "plt.plot(epochs, val_acc, 'b', label='Validation acc')\n",
    "plt.title('Training and validation accuracy')\n",
    "plt.xlabel('Epochs')\n",
    "plt.ylabel('Acc')\n",
    "plt.legend()\n",
    "plt.show()"
   ]
  },
  {
   "cell_type": "markdown",
   "metadata": {},
   "source": [
    "### Visualizing training and validating results"
   ]
  },
  {
   "cell_type": "code",
   "execution_count": 22,
   "metadata": {},
   "outputs": [
    {
     "data": {
      "image/png": "[encoded data removed]",
      "text/plain": [
       "<Figure size 432x288 with 1 Axes>"
      ]
     },
     "metadata": {},
     "output_type": "display_data"
    },
    {
     "data": {
      "image/png": "[encoded data removed]",
      "text/plain": [
       "<Figure size 432x288 with 1 Axes>"
      ]
     },
     "metadata": {},
     "output_type": "display_data"
    }
   ],
   "source": [
    "Y_pred_train = model.predict(X_train)\n",
    "Y_pred_val = model.predict(X_val)\n",
    "\n",
    "if len(Y.shape) == 2:\n",
    "    plt.figure()\n",
    "    plt.scatter(Y_pred_train[:,0],Y_pred_train[:,1],marker='o',c='r',label='train')\n",
    "    plt.scatter(Y_pred_val[:,0],Y_pred_val[:,1],marker='x',c='g',label='val')\n",
    "    plt.scatter(Y[:,0],Y[:,1],marker='x',c='b',label='true',alpha=0.1)\n",
    "    plt.xlim([0,1])\n",
    "    plt.ylim([0,1])\n",
    "    plt.legend()\n",
    "    plt.xlabel('short-term')\n",
    "    plt.ylabel('long-term')\n",
    "    plt.title('Training results')\n",
    "    plt.show()\n",
    "    \n",
    "    # plot testing results\n",
    "    Y_pred = model.predict(X_test[:,:],batch_size=32)\n",
    "    plt.figure()\n",
    "    plt.scatter(Y_pred[:,0],Y_pred[:,1],marker='o',c='r')\n",
    "    plt.xlabel('short-term')\n",
    "    plt.ylabel('long-term')\n",
    "    plt.show()\n",
    "    \n",
    "else:\n",
    "    plt.figure()\n",
    "    plt.scatter(Y_pred_train,Y_train,marker='o',c='r',label='train')\n",
    "    plt.scatter(Y_pred_val,Y_val,marker='x',c='g',label='val')\n",
    "    #plt.scatter(Y[:,0],Y[:,1],marker='x',c='b',label='true',alpha=0.1)\n",
    "    plt.xlim([0,1])\n",
    "    plt.ylim([0,1])\n",
    "    plt.legend()\n",
    "    plt.xlabel('true')\n",
    "    plt.ylabel('pred')\n",
    "    plt.title('Training results [short-term]')\n",
    "    plt.show()"
   ]
  },
  {
   "cell_type": "code",
   "execution_count": 23,
   "metadata": {},
   "outputs": [
    {
     "name": "stdout",
     "output_type": "stream",
     "text": [
      "====================\n",
      "Training Scores\n",
      "The Spearman's correlation coefficient is: 0.450\n",
      "The Spearman's correlation coefficient is: 0.709\n",
      "====================\n",
      "Evaluation Scores\n",
      "The Spearman's correlation coefficient is: 0.297\n",
      "The Spearman's correlation coefficient is: 0.143\n"
     ]
    }
   ],
   "source": [
    "print('='*20)\n",
    "print('Training Scores')\n",
    "Get_score(Y_pred_train,Y_train)\n",
    "print('='*20)\n",
    "print('Evaluation Scores')\n",
    "Get_score(Y_pred_val,Y_val)"
   ]
  },
  {
   "cell_type": "markdown",
   "metadata": {},
   "source": [
    "# Generating test results"
   ]
  },
  {
   "cell_type": "code",
   "execution_count": 17,
   "metadata": {},
   "outputs": [],
   "source": [
    "Y_pred = model.predict(X_test[:,:],batch_size=32)"
   ]
  },
  {
   "cell_type": "code",
   "execution_count": 18,
   "metadata": {},
   "outputs": [
    {
     "data": {
      "text/plain": [
       "array([[0.8483514 , 0.75201696],\n",
       "       [0.83984524, 0.7247707 ],\n",
       "       [0.90681946, 0.87966126],\n",
       "       ...,\n",
       "       [0.8811334 , 0.8448706 ],\n",
       "       [0.8781623 , 0.8106344 ],\n",
       "       [0.8574296 , 0.7782315 ]], dtype=float32)"
      ]
     },
     "execution_count": 18,
     "metadata": {},
     "output_type": "execute_result"
    }
   ],
   "source": [
    "Y_pred"
   ]
  },
  {
   "cell_type": "code",
   "execution_count": 24,
   "metadata": {},
   "outputs": [
    {
     "data": {
      "text/plain": [
       "array([0.76743037, 0.5508355 ], dtype=float32)"
      ]
     },
     "execution_count": 24,
     "metadata": {},
     "output_type": "execute_result"
    }
   ],
   "source": [
    "Y_pred.min(axis=0)"
   ]
  },
  {
   "cell_type": "code",
   "execution_count": 25,
   "metadata": {},
   "outputs": [
    {
     "data": {
      "text/plain": [
       "array([0.9324418, 0.9184847], dtype=float32)"
      ]
     },
     "execution_count": 25,
     "metadata": {},
     "output_type": "execute_result"
    }
   ],
   "source": [
    "Y_pred.max(axis=0)"
   ]
  },
  {
   "cell_type": "code",
   "execution_count": 27,
   "metadata": {},
   "outputs": [
    {
     "data": {
      "image/png": "[encoded data removed]",
      "text/plain": [
       "<Figure size 432x288 with 1 Axes>"
      ]
     },
     "metadata": {},
     "output_type": "display_data"
    }
   ],
   "source": [
    "plt.figure()\n",
    "plt.scatter(Y_pred[:,0],Y_pred[:,1],marker='o',c='r')\n",
    "plt.xlabel('short-term')\n",
    "plt.ylabel('long-term')\n",
    "plt.savefig('NN+captions.eps')"
   ]
  },
  {
   "cell_type": "code",
   "execution_count": 32,
   "metadata": {},
   "outputs": [],
   "source": [
    "df_cap_test['short-term'] = Y_pred[:,0]\n",
    "df_cap_test['long-term'] = Y_pred[:,1]\n",
    "df_cap_test['confidence_interval'] = 0 # not meaningful, this is required but not used for performance evaluation"
   ]
  },
  {
   "cell_type": "code",
   "execution_count": 33,
   "metadata": {},
   "outputs": [
    {
     "data": {
      "text/html": [
       "<div>\n",
       "<style scoped>\n",
       "    .dataframe tbody tr th:only-of-type {\n",
       "        vertical-align: middle;\n",
       "    }\n",
       "\n",
       "    .dataframe tbody tr th {\n",
       "        vertical-align: top;\n",
       "    }\n",
       "\n",
       "    .dataframe thead th {\n",
       "        text-align: right;\n",
       "    }\n",
       "</style>\n",
       "<table border=\"1\" class=\"dataframe\">\n",
       "  <thead>\n",
       "    <tr style=\"text-align: right;\">\n",
       "      <th></th>\n",
       "      <th>video</th>\n",
       "      <th>caption</th>\n",
       "      <th>short-term</th>\n",
       "      <th>long-term</th>\n",
       "      <th>confidence_interval</th>\n",
       "    </tr>\n",
       "  </thead>\n",
       "  <tbody>\n",
       "    <tr>\n",
       "      <th>0</th>\n",
       "      <td>video1.webm</td>\n",
       "      <td>snow-and-string-lights</td>\n",
       "      <td>0.859642</td>\n",
       "      <td>0.769561</td>\n",
       "      <td>0</td>\n",
       "    </tr>\n",
       "    <tr>\n",
       "      <th>1</th>\n",
       "      <td>video1000.webm</td>\n",
       "      <td>clown-fish-swimming-by-rocks-and-coral</td>\n",
       "      <td>0.905796</td>\n",
       "      <td>0.877491</td>\n",
       "      <td>0</td>\n",
       "    </tr>\n",
       "    <tr>\n",
       "      <th>2</th>\n",
       "      <td>video1002.webm</td>\n",
       "      <td>cook-preparing-traditional-asian-street-food-m...</td>\n",
       "      <td>0.910951</td>\n",
       "      <td>0.875673</td>\n",
       "      <td>0</td>\n",
       "    </tr>\n",
       "    <tr>\n",
       "      <th>3</th>\n",
       "      <td>video1008.webm</td>\n",
       "      <td>beautiful-girl-running-on-sunlit-wheat-field-s...</td>\n",
       "      <td>0.880487</td>\n",
       "      <td>0.811813</td>\n",
       "      <td>0</td>\n",
       "    </tr>\n",
       "    <tr>\n",
       "      <th>4</th>\n",
       "      <td>video1010.webm</td>\n",
       "      <td>piece-of-space-shuttle-breaking-off-and-earth-...</td>\n",
       "      <td>0.898269</td>\n",
       "      <td>0.846135</td>\n",
       "      <td>0</td>\n",
       "    </tr>\n",
       "  </tbody>\n",
       "</table>\n",
       "</div>"
      ],
      "text/plain": [
       "            video                                            caption  \\\n",
       "0     video1.webm                             snow-and-string-lights   \n",
       "1  video1000.webm             clown-fish-swimming-by-rocks-and-coral   \n",
       "2  video1002.webm  cook-preparing-traditional-asian-street-food-m...   \n",
       "3  video1008.webm  beautiful-girl-running-on-sunlit-wheat-field-s...   \n",
       "4  video1010.webm  piece-of-space-shuttle-breaking-off-and-earth-...   \n",
       "\n",
       "   short-term  long-term  confidence_interval  \n",
       "0    0.859642   0.769561                    0  \n",
       "1    0.905796   0.877491                    0  \n",
       "2    0.910951   0.875673                    0  \n",
       "3    0.880487   0.811813                    0  \n",
       "4    0.898269   0.846135                    0  "
      ]
     },
     "execution_count": 33,
     "metadata": {},
     "output_type": "execute_result"
    }
   ],
   "source": [
    "df_cap_test.head()"
   ]
  },
  {
   "cell_type": "code",
   "execution_count": 34,
   "metadata": {},
   "outputs": [],
   "source": [
    "res = df_cap_test[['video','short-term','confidence_interval']]\n",
    "run_name = 'me18in_TheHuskies_shortterm_run4-NN_caps.csv'\n",
    "res.to_csv(path_or_buf=run_name,sep=',',header=False,index=False)\n",
    "\n",
    "res1 = df_cap_test[['video','long-term','confidence_interval']]\n",
    "run_name1 = 'me18in_TheHuskies_longterm_run4-NN_caps.csv'\n",
    "res1.to_csv(path_or_buf=run_name1,sep=',',header=False,index=False)"
   ]
  },
  {
   "cell_type": "code",
   "execution_count": null,
   "metadata": {},
   "outputs": [],
   "source": []
  }
 ],
 "metadata": {
  "kernelspec": {
   "display_name": "Python 3",
   "language": "python",
   "name": "python3"
  },
  "language_info": {
   "codemirror_mode": {
    "name": "ipython",
    "version": 3
   },
   "file_extension": ".py",
   "mimetype": "text/x-python",
   "name": "python",
   "nbconvert_exporter": "python",
   "pygments_lexer": "ipython3",
   "version": "3.6.5"
  }
 },
 "nbformat": 4,
 "nbformat_minor": 2
}
