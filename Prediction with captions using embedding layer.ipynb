{
 "cells": [
  {
   "cell_type": "markdown",
   "metadata": {},
   "source": [
    "# Prediction with Captions using embeding layer"
   ]
  },
  {
   "cell_type": "code",
   "execution_count": 1,
   "metadata": {},
   "outputs": [
    {
     "name": "stderr",
     "output_type": "stream",
     "text": [
      "/home/wsun3/anaconda3/lib/python3.6/site-packages/h5py/__init__.py:36: FutureWarning: Conversion of the second argument of issubdtype from `float` to `np.floating` is deprecated. In future, it will be treated as `np.float64 == np.dtype(float).type`.\n",
      "  from ._conv import register_converters as _register_converters\n",
      "Using TensorFlow backend.\n"
     ]
    }
   ],
   "source": [
    "import pandas as pd\n",
    "from keras import Sequential\n",
    "from keras import layers\n",
    "from keras import regularizers\n",
    "import numpy as np\n",
    "from string import punctuation\n",
    "import pyprind\n",
    "from collections import Counter\n",
    "from keras.preprocessing.text import Tokenizer\n",
    "from sklearn.model_selection import train_test_split\n",
    "import matplotlib.pyplot as plt\n",
    "\n",
    "# for reproducability\n",
    "from numpy.random import seed\n",
    "seed(1)\n",
    "from tensorflow import set_random_seed\n",
    "set_random_seed(1)\n"
   ]
  },
  {
   "cell_type": "code",
   "execution_count": 2,
   "metadata": {},
   "outputs": [],
   "source": [
    "# load labels and captions\n",
    "def read_caps(fname):\n",
    "    \"\"\"Load the captions into a dataframe\"\"\"\n",
    "    vn = []\n",
    "    cap = []\n",
    "    df = pd.DataFrame();\n",
    "    with open(fname) as f:\n",
    "        for line in f:\n",
    "            pairs = line.split()\n",
    "            vn.append(pairs[0])\n",
    "            cap.append(pairs[1])\n",
    "        df['video']=vn\n",
    "        df['caption']=cap\n",
    "    return df"
   ]
  },
  {
   "cell_type": "code",
   "execution_count": 3,
   "metadata": {},
   "outputs": [
    {
     "name": "stderr",
     "output_type": "stream",
     "text": [
      "Counting word occurrences\n",
      "0% [##############################] 100% | ETA: 00:00:00\n",
      "Total time elapsed: 00:00:15\n"
     ]
    },
    {
     "data": {
      "text/html": [
       "<div>\n",
       "<style scoped>\n",
       "    .dataframe tbody tr th:only-of-type {\n",
       "        vertical-align: middle;\n",
       "    }\n",
       "\n",
       "    .dataframe tbody tr th {\n",
       "        vertical-align: top;\n",
       "    }\n",
       "\n",
       "    .dataframe thead th {\n",
       "        text-align: right;\n",
       "    }\n",
       "</style>\n",
       "<table border=\"1\" class=\"dataframe\">\n",
       "  <thead>\n",
       "    <tr style=\"text-align: right;\">\n",
       "      <th></th>\n",
       "      <th>video</th>\n",
       "      <th>caption</th>\n",
       "    </tr>\n",
       "  </thead>\n",
       "  <tbody>\n",
       "    <tr>\n",
       "      <th>0</th>\n",
       "      <td>video10.webm</td>\n",
       "      <td>couple relaxing on picnic crane shot</td>\n",
       "    </tr>\n",
       "    <tr>\n",
       "      <th>1</th>\n",
       "      <td>video100.webm</td>\n",
       "      <td>cute black and white cats in cage at animal sh...</td>\n",
       "    </tr>\n",
       "    <tr>\n",
       "      <th>2</th>\n",
       "      <td>video10000.webm</td>\n",
       "      <td>owl in tree close up</td>\n",
       "    </tr>\n",
       "    <tr>\n",
       "      <th>3</th>\n",
       "      <td>video10001.webm</td>\n",
       "      <td>around the house on a laptop</td>\n",
       "    </tr>\n",
       "    <tr>\n",
       "      <th>4</th>\n",
       "      <td>video10002.webm</td>\n",
       "      <td>beautiful young girl with apple</td>\n",
       "    </tr>\n",
       "  </tbody>\n",
       "</table>\n",
       "</div>"
      ],
      "text/plain": [
       "             video                                            caption\n",
       "0     video10.webm               couple relaxing on picnic crane shot\n",
       "1    video100.webm  cute black and white cats in cage at animal sh...\n",
       "2  video10000.webm                               owl in tree close up\n",
       "3  video10001.webm                       around the house on a laptop\n",
       "4  video10002.webm                    beautiful young girl with apple"
      ]
     },
     "execution_count": 3,
     "metadata": {},
     "output_type": "execute_result"
    }
   ],
   "source": [
    "# load the captions\n",
    "cap_path = '/media/win/Users/ecelab-adm/Desktop/DataSet_me18me/me18me-devset/dev-set/dev-set_video-captions.txt'\n",
    "#cap_path = '/media/stone/Data/DataSet_me18me/me18me-devset/dev-set/dev-set_video-captions.txt'\n",
    "df_cap=read_caps(cap_path)\n",
    "\n",
    "# load the ground truth values\n",
    "label_path = '/media/win/Users/ecelab-adm/Desktop/DataSet_me18me/me18me-devset/dev-set/ground-truth/'\n",
    "labels=pd.read_csv(label_path+'ground-truth_dev-set.csv')\n",
    "\n",
    "counts = Counter()\n",
    "# setup prograss tracker\n",
    "pbar = pyprind.ProgBar(len(df_cap['caption']), title='Counting word occurrences')\n",
    "for i, cap in enumerate(df_cap['caption']):\n",
    "    # replace punctuations with space\n",
    "    # convert words to lower case \n",
    "    text = ''.join([c if c not in punctuation else ' ' for c in cap]).lower()\n",
    "    df_cap.loc[i,'caption'] = text\n",
    "    pbar.update()\n",
    "    counts.update(text.split())\n",
    "    \n",
    "df_cap.head()"
   ]
  },
  {
   "cell_type": "markdown",
   "metadata": {},
   "source": [
    "## Vectorize the captions"
   ]
  },
  {
   "cell_type": "code",
   "execution_count": 4,
   "metadata": {},
   "outputs": [
    {
     "data": {
      "text/plain": [
       "[[15, 117, 3, 597, 347, 25], [136, 104, 4, 82, 1151, 1, 380, 9, 410, 411]]"
      ]
     },
     "execution_count": 4,
     "metadata": {},
     "output_type": "execute_result"
    }
   ],
   "source": [
    "# build the word index\n",
    "len_token = len(counts)\n",
    "tokenizer = Tokenizer(num_words=len_token)\n",
    "tokenizer.fit_on_texts(list(df_cap.caption.values))\n",
    "sequences = tokenizer.texts_to_sequences(list(df_cap.caption.values))\n",
    "sequences[:2]"
   ]
  },
  {
   "cell_type": "code",
   "execution_count": 5,
   "metadata": {},
   "outputs": [],
   "source": [
    "from keras import preprocessing"
   ]
  },
  {
   "cell_type": "code",
   "execution_count": 6,
   "metadata": {},
   "outputs": [],
   "source": [
    "maxlen = 10\n",
    "X_seq = preprocessing.sequence.pad_sequences(sequences,maxlen=maxlen)"
   ]
  },
  {
   "cell_type": "code",
   "execution_count": 7,
   "metadata": {},
   "outputs": [],
   "source": [
    "Y = labels[['short-term_memorability','long-term_memorability']].values\n",
    "X = X_seq"
   ]
  },
  {
   "cell_type": "code",
   "execution_count": 8,
   "metadata": {},
   "outputs": [],
   "source": [
    "X_train, X_test, Y_train, Y_test = train_test_split(X,Y, test_size=0.2, random_state=42)"
   ]
  },
  {
   "cell_type": "code",
   "execution_count": 9,
   "metadata": {},
   "outputs": [],
   "source": [
    "from keras.models import Sequential\n",
    "from keras.layers import Flatten, Dense, Embedding"
   ]
  },
  {
   "cell_type": "code",
   "execution_count": 10,
   "metadata": {},
   "outputs": [
    {
     "name": "stdout",
     "output_type": "stream",
     "text": [
      "_________________________________________________________________\n",
      "Layer (type)                 Output Shape              Param #   \n",
      "=================================================================\n",
      "embedding_1 (Embedding)      (None, 10, 8)             46992     \n",
      "_________________________________________________________________\n",
      "flatten_1 (Flatten)          (None, 80)                0         \n",
      "_________________________________________________________________\n",
      "dense_1 (Dense)              (None, 10)                810       \n",
      "_________________________________________________________________\n",
      "dense_2 (Dense)              (None, 2)                 22        \n",
      "=================================================================\n",
      "Total params: 47,824\n",
      "Trainable params: 47,824\n",
      "Non-trainable params: 0\n",
      "_________________________________________________________________\n"
     ]
    }
   ],
   "source": [
    "model = Sequential()\n",
    "model.add(Embedding(1+X.max(),8,input_length=maxlen))\n",
    "model.add(Flatten())\n",
    "model.add(Dense(10,activation='relu',kernel_regularizer=regularizers.l1_l2(l1=0.001,l2=0.002)))\n",
    "model.add(Dense(2,activation='sigmoid'))\n",
    "\n",
    "model.compile(optimizer='rmsprop',loss='mse',metrics=['acc'])\n",
    "model.summary()"
   ]
  },
  {
   "cell_type": "code",
   "execution_count": 11,
   "metadata": {},
   "outputs": [
    {
     "name": "stdout",
     "output_type": "stream",
     "text": [
      "Train on 6400 samples, validate on 1600 samples\n",
      "Epoch 1/10\n",
      "6400/6400 [==============================] - 1s 87us/step - loss: 0.1233 - acc: 0.4895 - val_loss: 0.0425 - val_acc: 0.6887\n",
      "Epoch 2/10\n",
      "6400/6400 [==============================] - 0s 75us/step - loss: 0.0263 - acc: 0.7028 - val_loss: 0.0176 - val_acc: 0.6956\n",
      "Epoch 3/10\n",
      "6400/6400 [==============================] - 0s 68us/step - loss: 0.0152 - acc: 0.7039 - val_loss: 0.0144 - val_acc: 0.6956\n",
      "Epoch 4/10\n",
      "6400/6400 [==============================] - 0s 65us/step - loss: 0.0143 - acc: 0.7039 - val_loss: 0.0143 - val_acc: 0.6956\n",
      "Epoch 5/10\n",
      "6400/6400 [==============================] - 0s 56us/step - loss: 0.0143 - acc: 0.7039 - val_loss: 0.0143 - val_acc: 0.6956\n",
      "Epoch 6/10\n",
      "6400/6400 [==============================] - 0s 57us/step - loss: 0.0143 - acc: 0.7039 - val_loss: 0.0143 - val_acc: 0.6956\n",
      "Epoch 7/10\n",
      "6400/6400 [==============================] - 0s 62us/step - loss: 0.0143 - acc: 0.7039 - val_loss: 0.0143 - val_acc: 0.6956\n",
      "Epoch 8/10\n",
      "6400/6400 [==============================] - 0s 54us/step - loss: 0.0143 - acc: 0.7039 - val_loss: 0.0145 - val_acc: 0.6956\n",
      "Epoch 9/10\n",
      "6400/6400 [==============================] - 0s 61us/step - loss: 0.0143 - acc: 0.7039 - val_loss: 0.0143 - val_acc: 0.6956\n",
      "Epoch 10/10\n",
      "6400/6400 [==============================] - 0s 60us/step - loss: 0.0142 - acc: 0.7039 - val_loss: 0.0144 - val_acc: 0.6956\n"
     ]
    }
   ],
   "source": [
    "history = model.fit(X_train,Y_train,epochs=10,batch_size=32,validation_data=(X_test,Y_test))"
   ]
  },
  {
   "cell_type": "code",
   "execution_count": 12,
   "metadata": {},
   "outputs": [
    {
     "data": {
      "image/png": "[encoded data removed]",
      "text/plain": [
       "<Figure size 432x288 with 1 Axes>"
      ]
     },
     "metadata": {},
     "output_type": "display_data"
    }
   ],
   "source": [
    "loss = history.history['loss']\n",
    "val_loss = history.history['val_loss']\n",
    "\n",
    "epochs = range(1,len(loss)+1)\n",
    "\n",
    "plt.plot(epochs,loss,'bo',label='Training loss')\n",
    "plt.plot(epochs,val_loss,'b',label='Validation loss')\n",
    "plt.title('Training and validation loss')\n",
    "plt.xlabel('Epochs')\n",
    "plt.ylabel('Loss')\n",
    "plt.legend()\n",
    "plt.show()"
   ]
  },
  {
   "cell_type": "code",
   "execution_count": 13,
   "metadata": {},
   "outputs": [
    {
     "data": {
      "image/png": "[encoded data removed]",
      "text/plain": [
       "<Figure size 432x288 with 1 Axes>"
      ]
     },
     "metadata": {},
     "output_type": "display_data"
    }
   ],
   "source": [
    "plt.figure()\n",
    "acc = history.history['acc']\n",
    "val_acc = history.history['val_acc']\n",
    "plt.plot(epochs, acc, 'bo', label='Training acc')\n",
    "plt.plot(epochs, val_acc, 'b', label='Validation acc')\n",
    "plt.title('Training and validation accuracy')\n",
    "plt.xlabel('Epochs')\n",
    "plt.ylabel('Acc')\n",
    "plt.legend()\n",
    "plt.show()\n"
   ]
  },
  {
   "cell_type": "markdown",
   "metadata": {},
   "source": [
    "## Adding Recurrent layer to capture the order of the words"
   ]
  },
  {
   "cell_type": "code",
   "execution_count": 14,
   "metadata": {},
   "outputs": [
    {
     "name": "stdout",
     "output_type": "stream",
     "text": [
      "_________________________________________________________________\n",
      "Layer (type)                 Output Shape              Param #   \n",
      "=================================================================\n",
      "embedding_2 (Embedding)      (None, 10, 15)            88110     \n",
      "_________________________________________________________________\n",
      "simple_rnn_1 (SimpleRNN)     (None, 10)                260       \n",
      "_________________________________________________________________\n",
      "dense_3 (Dense)              (None, 10)                110       \n",
      "_________________________________________________________________\n",
      "dense_4 (Dense)              (None, 2)                 22        \n",
      "=================================================================\n",
      "Total params: 88,502\n",
      "Trainable params: 88,502\n",
      "Non-trainable params: 0\n",
      "_________________________________________________________________\n"
     ]
    }
   ],
   "source": [
    "from keras.layers import SimpleRNN, LSTM\n",
    "\n",
    "model = Sequential()\n",
    "model.add(Embedding(1+X.max(),15,input_length=maxlen))\n",
    "#model.add(Flatten())\n",
    "model.add(SimpleRNN(10))\n",
    "model.add(Dense(10,activation='relu',kernel_regularizer=regularizers.l1_l2(l1=0.001,l2=0.004)))\n",
    "model.add(Dense(2,activation='sigmoid'))\n",
    "\n",
    "model.compile(optimizer='rmsprop',loss='mse',metrics=['acc'])\n",
    "model.summary()"
   ]
  },
  {
   "cell_type": "code",
   "execution_count": 15,
   "metadata": {},
   "outputs": [
    {
     "name": "stdout",
     "output_type": "stream",
     "text": [
      "Train on 6400 samples, validate on 1600 samples\n",
      "Epoch 1/10\n",
      "6400/6400 [==============================] - 1s 194us/step - loss: 0.0897 - acc: 0.4253 - val_loss: 0.0445 - val_acc: 0.6950\n",
      "Epoch 2/10\n",
      "6400/6400 [==============================] - 1s 154us/step - loss: 0.0310 - acc: 0.7038 - val_loss: 0.0214 - val_acc: 0.6956\n",
      "Epoch 3/10\n",
      "6400/6400 [==============================] - 1s 155us/step - loss: 0.0177 - acc: 0.7039 - val_loss: 0.0159 - val_acc: 0.6956\n",
      "Epoch 4/10\n",
      "6400/6400 [==============================] - 1s 156us/step - loss: 0.0151 - acc: 0.7039 - val_loss: 0.0150 - val_acc: 0.6956\n",
      "Epoch 5/10\n",
      "6400/6400 [==============================] - 1s 156us/step - loss: 0.0143 - acc: 0.7039 - val_loss: 0.0144 - val_acc: 0.6956\n",
      "Epoch 6/10\n",
      "6400/6400 [==============================] - 1s 161us/step - loss: 0.0138 - acc: 0.7039 - val_loss: 0.0143 - val_acc: 0.6956\n",
      "Epoch 7/10\n",
      "6400/6400 [==============================] - 1s 159us/step - loss: 0.0134 - acc: 0.7039 - val_loss: 0.0145 - val_acc: 0.6956\n",
      "Epoch 8/10\n",
      "6400/6400 [==============================] - 1s 159us/step - loss: 0.0129 - acc: 0.7039 - val_loss: 0.0149 - val_acc: 0.6956\n",
      "Epoch 9/10\n",
      "6400/6400 [==============================] - 1s 160us/step - loss: 0.0125 - acc: 0.7039 - val_loss: 0.0151 - val_acc: 0.6956\n",
      "Epoch 10/10\n",
      "6400/6400 [==============================] - 1s 162us/step - loss: 0.0121 - acc: 0.7039 - val_loss: 0.0153 - val_acc: 0.6956\n"
     ]
    }
   ],
   "source": [
    "history = model.fit(X_train,Y_train,epochs=10,batch_size=32,validation_data=(X_test,Y_test))"
   ]
  },
  {
   "cell_type": "code",
   "execution_count": 16,
   "metadata": {},
   "outputs": [
    {
     "data": {
      "image/png": "[encoded data removed]",
      "text/plain": [
       "<Figure size 432x288 with 1 Axes>"
      ]
     },
     "metadata": {},
     "output_type": "display_data"
    },
    {
     "data": {
      "image/png": "[encoded data removed]",
      "text/plain": [
       "<Figure size 432x288 with 1 Axes>"
      ]
     },
     "metadata": {},
     "output_type": "display_data"
    }
   ],
   "source": [
    "loss = history.history['loss']\n",
    "val_loss = history.history['val_loss']\n",
    "\n",
    "epochs = range(1,len(loss)+1)\n",
    "\n",
    "plt.plot(epochs,loss,'bo',label='Training loss')\n",
    "plt.plot(epochs,val_loss,'b',label='Validation loss')\n",
    "plt.title('Training and validation loss')\n",
    "plt.xlabel('Epochs')\n",
    "plt.ylabel('Loss')\n",
    "plt.legend()\n",
    "plt.show()\n",
    "\n",
    "\n",
    "plt.figure()\n",
    "acc = history.history['acc']\n",
    "val_acc = history.history['val_acc']\n",
    "plt.plot(epochs, acc, 'bo', label='Training acc')\n",
    "plt.plot(epochs, val_acc, 'b', label='Validation acc')\n",
    "plt.title('Training and validation accuracy')\n",
    "plt.xlabel('Epochs')\n",
    "plt.ylabel('Acc')\n",
    "plt.legend()\n",
    "plt.show()"
   ]
  },
  {
   "cell_type": "code",
   "execution_count": null,
   "metadata": {},
   "outputs": [],
   "source": []
  }
 ],
 "metadata": {
  "kernelspec": {
   "display_name": "Python 3",
   "language": "python",
   "name": "python3"
  },
  "language_info": {
   "codemirror_mode": {
    "name": "ipython",
    "version": 3
   },
   "file_extension": ".py",
   "mimetype": "text/x-python",
   "name": "python",
   "nbconvert_exporter": "python",
   "pygments_lexer": "ipython3",
   "version": "3.6.5"
  }
 },
 "nbformat": 4,
 "nbformat_minor": 2
}
