{
 "cells": [
  {
   "cell_type": "markdown",
   "metadata": {},
   "source": [
    "# Memorability Prediction with Aesthetic Features"
   ]
  },
  {
   "cell_type": "markdown",
   "metadata": {},
   "source": [
    "## Load libraries and define functions"
   ]
  },
  {
   "cell_type": "code",
   "execution_count": 1,
   "metadata": {},
   "outputs": [
    {
     "name": "stderr",
     "output_type": "stream",
     "text": [
      "/home/stone/anaconda3/lib/python3.6/site-packages/h5py/__init__.py:36: FutureWarning: Conversion of the second argument of issubdtype from `float` to `np.floating` is deprecated. In future, it will be treated as `np.float64 == np.dtype(float).type`.\n",
      "  from ._conv import register_converters as _register_converters\n",
      "Using TensorFlow backend.\n"
     ]
    }
   ],
   "source": [
    "import pandas as pd\n",
    "from keras import Sequential\n",
    "from keras import layers\n",
    "from keras import regularizers\n",
    "import numpy as np\n",
    "from string import punctuation\n",
    "import pyprind\n",
    "from collections import Counter\n",
    "from keras.preprocessing.text import Tokenizer\n",
    "from sklearn.model_selection import train_test_split\n",
    "import matplotlib.pyplot as plt\n",
    "import os\n",
    "\n",
    "# for reproducability\n",
    "from numpy.random import seed\n",
    "seed(1)\n",
    "from tensorflow import set_random_seed\n",
    "set_random_seed(1)\n",
    "\n",
    "\n",
    "def read_array(fname):\n",
    "    '''read an array from txt file'''\n",
    "    with open(fname) as f:\n",
    "        for line in f:\n",
    "            pairs = line.split(',')\n",
    "            #print(pairs)\n",
    "    return [float(item) for item in pairs]"
   ]
  },
  {
   "cell_type": "markdown",
   "metadata": {},
   "source": [
    "## Load training aesthetic features and labels"
   ]
  },
  {
   "cell_type": "code",
   "execution_count": 2,
   "metadata": {},
   "outputs": [
    {
     "data": {
      "text/html": [
       "<div>\n",
       "<style scoped>\n",
       "    .dataframe tbody tr th:only-of-type {\n",
       "        vertical-align: middle;\n",
       "    }\n",
       "\n",
       "    .dataframe tbody tr th {\n",
       "        vertical-align: top;\n",
       "    }\n",
       "\n",
       "    .dataframe thead th {\n",
       "        text-align: right;\n",
       "    }\n",
       "</style>\n",
       "<table border=\"1\" class=\"dataframe\">\n",
       "  <thead>\n",
       "    <tr style=\"text-align: right;\">\n",
       "      <th></th>\n",
       "      <th>video</th>\n",
       "      <th>AF_mean</th>\n",
       "      <th>AF_median</th>\n",
       "    </tr>\n",
       "  </thead>\n",
       "  <tbody>\n",
       "    <tr>\n",
       "      <th>0</th>\n",
       "      <td>video10.webm</td>\n",
       "      <td>[0.402878, 0.389358, 0.564687, 0.400378, 0.471...</td>\n",
       "      <td>[0.427258, 0.381448, 0.582746, 0.409475, 0.489...</td>\n",
       "    </tr>\n",
       "    <tr>\n",
       "      <th>1</th>\n",
       "      <td>video100.webm</td>\n",
       "      <td>[0.160705, 0.237773, 0.409616, 0.179789, 0.367...</td>\n",
       "      <td>[0.160579, 0.238155, 0.408475, 0.180416, 0.366...</td>\n",
       "    </tr>\n",
       "    <tr>\n",
       "      <th>2</th>\n",
       "      <td>video10000.webm</td>\n",
       "      <td>[0.46136, 0.358996, 0.710791, 0.333263, 0.5849...</td>\n",
       "      <td>[0.461391, 0.358922, 0.710828, 0.333437, 0.585...</td>\n",
       "    </tr>\n",
       "    <tr>\n",
       "      <th>3</th>\n",
       "      <td>video10001.webm</td>\n",
       "      <td>[0.105545, 0.60667, 0.569378, 0.515591, 0.4109...</td>\n",
       "      <td>[0.105085, 0.606699, 0.567169, 0.51536, 0.4101...</td>\n",
       "    </tr>\n",
       "    <tr>\n",
       "      <th>4</th>\n",
       "      <td>video10002.webm</td>\n",
       "      <td>[0.233127, 0.149484, 0.649683, 0.14423, 0.6057...</td>\n",
       "      <td>[0.232971, 0.149975, 0.649477, 0.143106, 0.605...</td>\n",
       "    </tr>\n",
       "  </tbody>\n",
       "</table>\n",
       "</div>"
      ],
      "text/plain": [
       "             video                                            AF_mean  \\\n",
       "0     video10.webm  [0.402878, 0.389358, 0.564687, 0.400378, 0.471...   \n",
       "1    video100.webm  [0.160705, 0.237773, 0.409616, 0.179789, 0.367...   \n",
       "2  video10000.webm  [0.46136, 0.358996, 0.710791, 0.333263, 0.5849...   \n",
       "3  video10001.webm  [0.105545, 0.60667, 0.569378, 0.515591, 0.4109...   \n",
       "4  video10002.webm  [0.233127, 0.149484, 0.649683, 0.14423, 0.6057...   \n",
       "\n",
       "                                           AF_median  \n",
       "0  [0.427258, 0.381448, 0.582746, 0.409475, 0.489...  \n",
       "1  [0.160579, 0.238155, 0.408475, 0.180416, 0.366...  \n",
       "2  [0.461391, 0.358922, 0.710828, 0.333437, 0.585...  \n",
       "3  [0.105085, 0.606699, 0.567169, 0.51536, 0.4101...  \n",
       "4  [0.232971, 0.149975, 0.649477, 0.143106, 0.605...  "
      ]
     },
     "execution_count": 2,
     "metadata": {},
     "output_type": "execute_result"
    }
   ],
   "source": [
    "# define paths of the Aesthetic Features\n",
    "path_AF_Mean = '/media/stone/Data/DataSet_me18me/me18me-devset/dev-set/features/aesthetic_visual_features/aesthetic_feat_dev-set_mean'\n",
    "path_AF_Median = '/media/stone/Data/DataSet_me18me/me18me-devset/dev-set/features/aesthetic_visual_features/aesthetic_feat_dev-set_median'\n",
    "\n",
    "# Load video related features first\n",
    "vn_mean = os.listdir(path_AF_Mean)\n",
    "\n",
    "# stack the video names in dataframe\n",
    "df = pd.DataFrame()\n",
    "df['video'] = [os.path.splitext(vn)[0]+'.webm' for vn in vn_mean]\n",
    "\n",
    "# read the aesthetic feat (mean and media) in dataframe\n",
    "df['AF_mean'] = [ read_array(path_AF_Mean+'/'+vn[:-5]+'.txt') for vn in df['video']]\n",
    "df['AF_median'] = [ read_array(path_AF_Median+'/'+vn[:-5]+'.txt') for vn in df['video']]\n",
    "df.head()\n"
   ]
  },
  {
   "cell_type": "code",
   "execution_count": 3,
   "metadata": {},
   "outputs": [
    {
     "data": {
      "text/html": [
       "<div>\n",
       "<style scoped>\n",
       "    .dataframe tbody tr th:only-of-type {\n",
       "        vertical-align: middle;\n",
       "    }\n",
       "\n",
       "    .dataframe tbody tr th {\n",
       "        vertical-align: top;\n",
       "    }\n",
       "\n",
       "    .dataframe thead th {\n",
       "        text-align: right;\n",
       "    }\n",
       "</style>\n",
       "<table border=\"1\" class=\"dataframe\">\n",
       "  <thead>\n",
       "    <tr style=\"text-align: right;\">\n",
       "      <th></th>\n",
       "      <th>video</th>\n",
       "      <th>short-term_memorability</th>\n",
       "      <th>nb_short-term_annotations</th>\n",
       "      <th>long-term_memorability</th>\n",
       "      <th>nb_long-term_annotations</th>\n",
       "    </tr>\n",
       "  </thead>\n",
       "  <tbody>\n",
       "    <tr>\n",
       "      <th>0</th>\n",
       "      <td>video10.webm</td>\n",
       "      <td>0.950</td>\n",
       "      <td>34</td>\n",
       "      <td>0.900</td>\n",
       "      <td>10</td>\n",
       "    </tr>\n",
       "    <tr>\n",
       "      <th>1</th>\n",
       "      <td>video100.webm</td>\n",
       "      <td>0.951</td>\n",
       "      <td>33</td>\n",
       "      <td>0.889</td>\n",
       "      <td>9</td>\n",
       "    </tr>\n",
       "    <tr>\n",
       "      <th>2</th>\n",
       "      <td>video10000.webm</td>\n",
       "      <td>0.832</td>\n",
       "      <td>33</td>\n",
       "      <td>1.000</td>\n",
       "      <td>13</td>\n",
       "    </tr>\n",
       "    <tr>\n",
       "      <th>3</th>\n",
       "      <td>video10001.webm</td>\n",
       "      <td>0.865</td>\n",
       "      <td>33</td>\n",
       "      <td>0.727</td>\n",
       "      <td>11</td>\n",
       "    </tr>\n",
       "    <tr>\n",
       "      <th>4</th>\n",
       "      <td>video10002.webm</td>\n",
       "      <td>0.899</td>\n",
       "      <td>59</td>\n",
       "      <td>0.792</td>\n",
       "      <td>24</td>\n",
       "    </tr>\n",
       "  </tbody>\n",
       "</table>\n",
       "</div>"
      ],
      "text/plain": [
       "             video  short-term_memorability  nb_short-term_annotations  \\\n",
       "0     video10.webm                    0.950                         34   \n",
       "1    video100.webm                    0.951                         33   \n",
       "2  video10000.webm                    0.832                         33   \n",
       "3  video10001.webm                    0.865                         33   \n",
       "4  video10002.webm                    0.899                         59   \n",
       "\n",
       "   long-term_memorability  nb_long-term_annotations  \n",
       "0                   0.900                        10  \n",
       "1                   0.889                         9  \n",
       "2                   1.000                        13  \n",
       "3                   0.727                        11  \n",
       "4                   0.792                        24  "
      ]
     },
     "execution_count": 3,
     "metadata": {},
     "output_type": "execute_result"
    }
   ],
   "source": [
    "# load the ground truth values\n",
    "label_path = '/media/stone/Data/DataSet_me18me/me18me-devset/dev-set/ground-truth/'\n",
    "labels=pd.read_csv(label_path+'ground-truth_dev-set.csv')\n",
    "labels.head()"
   ]
  },
  {
   "cell_type": "code",
   "execution_count": 4,
   "metadata": {},
   "outputs": [
    {
     "data": {
      "text/html": [
       "<div>\n",
       "<style scoped>\n",
       "    .dataframe tbody tr th:only-of-type {\n",
       "        vertical-align: middle;\n",
       "    }\n",
       "\n",
       "    .dataframe tbody tr th {\n",
       "        vertical-align: top;\n",
       "    }\n",
       "\n",
       "    .dataframe thead th {\n",
       "        text-align: right;\n",
       "    }\n",
       "</style>\n",
       "<table border=\"1\" class=\"dataframe\">\n",
       "  <thead>\n",
       "    <tr style=\"text-align: right;\">\n",
       "      <th></th>\n",
       "      <th>video</th>\n",
       "      <th>AF_mean</th>\n",
       "      <th>AF_median</th>\n",
       "      <th>short-term_memorability</th>\n",
       "      <th>nb_short-term_annotations</th>\n",
       "      <th>long-term_memorability</th>\n",
       "      <th>nb_long-term_annotations</th>\n",
       "    </tr>\n",
       "  </thead>\n",
       "  <tbody>\n",
       "    <tr>\n",
       "      <th>0</th>\n",
       "      <td>video10.webm</td>\n",
       "      <td>[0.402878, 0.389358, 0.564687, 0.400378, 0.471...</td>\n",
       "      <td>[0.427258, 0.381448, 0.582746, 0.409475, 0.489...</td>\n",
       "      <td>0.950</td>\n",
       "      <td>34</td>\n",
       "      <td>0.900</td>\n",
       "      <td>10</td>\n",
       "    </tr>\n",
       "    <tr>\n",
       "      <th>1</th>\n",
       "      <td>video100.webm</td>\n",
       "      <td>[0.160705, 0.237773, 0.409616, 0.179789, 0.367...</td>\n",
       "      <td>[0.160579, 0.238155, 0.408475, 0.180416, 0.366...</td>\n",
       "      <td>0.951</td>\n",
       "      <td>33</td>\n",
       "      <td>0.889</td>\n",
       "      <td>9</td>\n",
       "    </tr>\n",
       "    <tr>\n",
       "      <th>2</th>\n",
       "      <td>video10000.webm</td>\n",
       "      <td>[0.46136, 0.358996, 0.710791, 0.333263, 0.5849...</td>\n",
       "      <td>[0.461391, 0.358922, 0.710828, 0.333437, 0.585...</td>\n",
       "      <td>0.832</td>\n",
       "      <td>33</td>\n",
       "      <td>1.000</td>\n",
       "      <td>13</td>\n",
       "    </tr>\n",
       "    <tr>\n",
       "      <th>3</th>\n",
       "      <td>video10001.webm</td>\n",
       "      <td>[0.105545, 0.60667, 0.569378, 0.515591, 0.4109...</td>\n",
       "      <td>[0.105085, 0.606699, 0.567169, 0.51536, 0.4101...</td>\n",
       "      <td>0.865</td>\n",
       "      <td>33</td>\n",
       "      <td>0.727</td>\n",
       "      <td>11</td>\n",
       "    </tr>\n",
       "    <tr>\n",
       "      <th>4</th>\n",
       "      <td>video10002.webm</td>\n",
       "      <td>[0.233127, 0.149484, 0.649683, 0.14423, 0.6057...</td>\n",
       "      <td>[0.232971, 0.149975, 0.649477, 0.143106, 0.605...</td>\n",
       "      <td>0.899</td>\n",
       "      <td>59</td>\n",
       "      <td>0.792</td>\n",
       "      <td>24</td>\n",
       "    </tr>\n",
       "  </tbody>\n",
       "</table>\n",
       "</div>"
      ],
      "text/plain": [
       "             video                                            AF_mean  \\\n",
       "0     video10.webm  [0.402878, 0.389358, 0.564687, 0.400378, 0.471...   \n",
       "1    video100.webm  [0.160705, 0.237773, 0.409616, 0.179789, 0.367...   \n",
       "2  video10000.webm  [0.46136, 0.358996, 0.710791, 0.333263, 0.5849...   \n",
       "3  video10001.webm  [0.105545, 0.60667, 0.569378, 0.515591, 0.4109...   \n",
       "4  video10002.webm  [0.233127, 0.149484, 0.649683, 0.14423, 0.6057...   \n",
       "\n",
       "                                           AF_median  short-term_memorability  \\\n",
       "0  [0.427258, 0.381448, 0.582746, 0.409475, 0.489...                    0.950   \n",
       "1  [0.160579, 0.238155, 0.408475, 0.180416, 0.366...                    0.951   \n",
       "2  [0.461391, 0.358922, 0.710828, 0.333437, 0.585...                    0.832   \n",
       "3  [0.105085, 0.606699, 0.567169, 0.51536, 0.4101...                    0.865   \n",
       "4  [0.232971, 0.149975, 0.649477, 0.143106, 0.605...                    0.899   \n",
       "\n",
       "   nb_short-term_annotations  long-term_memorability  nb_long-term_annotations  \n",
       "0                         34                   0.900                        10  \n",
       "1                         33                   0.889                         9  \n",
       "2                         33                   1.000                        13  \n",
       "3                         33                   0.727                        11  \n",
       "4                         59                   0.792                        24  "
      ]
     },
     "execution_count": 4,
     "metadata": {},
     "output_type": "execute_result"
    }
   ],
   "source": [
    "# Align the labels with features according to name\n",
    "df_complete = pd.merge(df,labels,on='video')\n",
    "df_complete.head()"
   ]
  },
  {
   "cell_type": "markdown",
   "metadata": {},
   "source": [
    "## Group data and split"
   ]
  },
  {
   "cell_type": "code",
   "execution_count": 5,
   "metadata": {},
   "outputs": [
    {
     "data": {
      "text/plain": [
       "array([[ 0.402878,  0.389358,  0.564687, ..., -1.29521 , -0.036251,\n",
       "         1.235213],\n",
       "       [ 0.160705,  0.237773,  0.409616, ...,  0.688729,  1.124711,\n",
       "         1.729677],\n",
       "       [ 0.46136 ,  0.358996,  0.710791, ...,  1.829029,  0.330456,\n",
       "        -1.144147],\n",
       "       ...,\n",
       "       [ 0.358806,  0.134932,  0.513381, ..., -3.175165,  0.317969,\n",
       "         0.341473],\n",
       "       [ 0.074832,  0.518952,  0.632701, ..., -0.288754,  0.557217,\n",
       "        -0.905448],\n",
       "       [ 0.558453,  0.061154,  0.626929, ...,  0.131793,  0.050423,\n",
       "         0.40736 ]])"
      ]
     },
     "execution_count": 5,
     "metadata": {},
     "output_type": "execute_result"
    }
   ],
   "source": [
    "# use the AF_mean only\n",
    "X =np.array([col for col in df_complete['AF_mean'].values ])\n",
    "Y = df_complete[['short-term_memorability','long-term_memorability']].values\n",
    "X_train, X_test, Y_train, Y_test = train_test_split(X,Y, test_size=0.2, random_state=124)\n",
    "X"
   ]
  },
  {
   "cell_type": "markdown",
   "metadata": {},
   "source": [
    "## Build Neural Network model"
   ]
  },
  {
   "cell_type": "code",
   "execution_count": 13,
   "metadata": {},
   "outputs": [
    {
     "name": "stdout",
     "output_type": "stream",
     "text": [
      "Train on 6400 samples, validate on 1600 samples\n",
      "Epoch 1/20\n",
      "6400/6400 [==============================] - 1s 89us/step - loss: 0.1294 - mean_absolute_error: 0.2138 - val_loss: 0.0665 - val_mean_absolute_error: 0.1800\n",
      "Epoch 2/20\n",
      "6400/6400 [==============================] - 0s 52us/step - loss: 0.0623 - mean_absolute_error: 0.1833 - val_loss: 0.0553 - val_mean_absolute_error: 0.1800\n",
      "Epoch 3/20\n",
      "6400/6400 [==============================] - 0s 50us/step - loss: 0.0555 - mean_absolute_error: 0.1826 - val_loss: 0.0517 - val_mean_absolute_error: 0.1800\n",
      "Epoch 4/20\n",
      "6400/6400 [==============================] - 0s 51us/step - loss: 0.0528 - mean_absolute_error: 0.1818 - val_loss: 0.0481 - val_mean_absolute_error: 0.1747\n",
      "Epoch 5/20\n",
      "6400/6400 [==============================] - 0s 52us/step - loss: 0.0298 - mean_absolute_error: 0.1291 - val_loss: 0.0171 - val_mean_absolute_error: 0.0964\n",
      "Epoch 6/20\n",
      "6400/6400 [==============================] - 0s 52us/step - loss: 0.0214 - mean_absolute_error: 0.1109 - val_loss: 0.0160 - val_mean_absolute_error: 0.0967\n",
      "Epoch 7/20\n",
      "6400/6400 [==============================] - 0s 51us/step - loss: 0.0183 - mean_absolute_error: 0.1026 - val_loss: 0.0153 - val_mean_absolute_error: 0.0959\n",
      "Epoch 8/20\n",
      "6400/6400 [==============================] - 0s 52us/step - loss: 0.0168 - mean_absolute_error: 0.0993 - val_loss: 0.0165 - val_mean_absolute_error: 0.1028\n",
      "Epoch 9/20\n",
      "6400/6400 [==============================] - 0s 53us/step - loss: 0.0158 - mean_absolute_error: 0.0964 - val_loss: 0.0146 - val_mean_absolute_error: 0.0908\n",
      "Epoch 10/20\n",
      "6400/6400 [==============================] - 0s 53us/step - loss: 0.0152 - mean_absolute_error: 0.0944 - val_loss: 0.0142 - val_mean_absolute_error: 0.0910\n",
      "Epoch 11/20\n",
      "6400/6400 [==============================] - 0s 54us/step - loss: 0.0149 - mean_absolute_error: 0.0939 - val_loss: 0.0142 - val_mean_absolute_error: 0.0930\n",
      "Epoch 12/20\n",
      "6400/6400 [==============================] - 0s 51us/step - loss: 0.0147 - mean_absolute_error: 0.0930 - val_loss: 0.0143 - val_mean_absolute_error: 0.0937\n",
      "Epoch 13/20\n",
      "6400/6400 [==============================] - 0s 52us/step - loss: 0.0145 - mean_absolute_error: 0.0925 - val_loss: 0.0144 - val_mean_absolute_error: 0.0948\n",
      "Epoch 14/20\n",
      "6400/6400 [==============================] - 0s 54us/step - loss: 0.0143 - mean_absolute_error: 0.0917 - val_loss: 0.0140 - val_mean_absolute_error: 0.0909\n",
      "Epoch 15/20\n",
      "6400/6400 [==============================] - 0s 53us/step - loss: 0.0143 - mean_absolute_error: 0.0916 - val_loss: 0.0140 - val_mean_absolute_error: 0.0920\n",
      "Epoch 16/20\n",
      "6400/6400 [==============================] - 0s 51us/step - loss: 0.0141 - mean_absolute_error: 0.0908 - val_loss: 0.0140 - val_mean_absolute_error: 0.0922\n",
      "Epoch 17/20\n",
      "6400/6400 [==============================] - 0s 55us/step - loss: 0.0141 - mean_absolute_error: 0.0905 - val_loss: 0.0141 - val_mean_absolute_error: 0.0923\n",
      "Epoch 18/20\n",
      "6400/6400 [==============================] - 0s 50us/step - loss: 0.0140 - mean_absolute_error: 0.0903 - val_loss: 0.0140 - val_mean_absolute_error: 0.0912\n",
      "Epoch 19/20\n",
      "6400/6400 [==============================] - 0s 53us/step - loss: 0.0140 - mean_absolute_error: 0.0905 - val_loss: 0.0142 - val_mean_absolute_error: 0.0934\n",
      "Epoch 20/20\n",
      "6400/6400 [==============================] - 0s 52us/step - loss: 0.0140 - mean_absolute_error: 0.0904 - val_loss: 0.0140 - val_mean_absolute_error: 0.0911\n"
     ]
    }
   ],
   "source": [
    "def buildNN(n1,n2,l1,l2,dr1,dr2):\n",
    "    # add dropout\n",
    "    # add regularizers\n",
    "    model = Sequential()\n",
    "    model.add(layers.Dense(n1,activation='relu',kernel_regularizer=regularizers.l2(l1),input_shape=(109,)))\n",
    "    model.add(layers.Dropout(dr1))\n",
    "    model.add(layers.Dense(n2,activation='relu',kernel_regularizer=regularizers.l2(l2)))\n",
    "    model.add(layers.Dropout(dr2))\n",
    "    model.add(layers.Dense(2,activation='sigmoid'))\n",
    "\n",
    "    # compile the model \n",
    "    model.compile(optimizer='rmsprop',loss='mse',metrics=['mae'])\n",
    "    return model\n",
    "\n",
    "model= buildNN(50,50,0.001,0.001,0.1,0.5)\n",
    "\n",
    "# training the model \n",
    "history = model.fit(X,Y,epochs=20,validation_split=0.2)"
   ]
  },
  {
   "cell_type": "markdown",
   "metadata": {},
   "source": [
    "## Visualizing the results"
   ]
  },
  {
   "cell_type": "code",
   "execution_count": 14,
   "metadata": {},
   "outputs": [
    {
     "data": {
      "image/png": "[encoded data removed]",
      "text/plain": [
       "<Figure size 432x288 with 1 Axes>"
      ]
     },
     "metadata": {},
     "output_type": "display_data"
    }
   ],
   "source": [
    "loss = history.history['loss']\n",
    "val_loss = history.history['val_loss']\n",
    "\n",
    "epochs = range(1,len(loss)+1)\n",
    "\n",
    "plt.plot(epochs,loss,'bo',label='Training loss')\n",
    "plt.plot(epochs,val_loss,'b',label='Validation loss')\n",
    "plt.title('Training and validation loss')\n",
    "plt.xlabel('Epochs')\n",
    "plt.ylabel('Loss')\n",
    "plt.legend()\n",
    "plt.show()\n",
    "\n"
   ]
  },
  {
   "cell_type": "code",
   "execution_count": 15,
   "metadata": {},
   "outputs": [
    {
     "data": {
      "image/png": "[encoded data removed]",
      "text/plain": [
       "<Figure size 432x288 with 1 Axes>"
      ]
     },
     "metadata": {},
     "output_type": "display_data"
    }
   ],
   "source": [
    "plt.figure()\n",
    "acc = history.history['mean_absolute_error']\n",
    "val_acc = history.history['val_mean_absolute_error']\n",
    "plt.plot(epochs, acc, 'bo', label='Training acc')\n",
    "plt.plot(epochs, val_acc, 'b', label='Validation acc')\n",
    "plt.title('Training and validation accuracy')\n",
    "plt.xlabel('Epochs')\n",
    "plt.ylabel('mean_absolute_error')\n",
    "plt.legend()\n",
    "plt.show()"
   ]
  },
  {
   "cell_type": "markdown",
   "metadata": {},
   "source": [
    "## Evaluate the prediction results using official metric: Spearman's rank correlation"
   ]
  },
  {
   "cell_type": "code",
   "execution_count": 16,
   "metadata": {},
   "outputs": [],
   "source": [
    "def spearman_corr(x_pred,x_true):\n",
    "    \"The official performance matrix: Spearman's rank correlation\"\n",
    "    a = pd.DataFrame()\n",
    "    a['true'] = x_true\n",
    "    a['pred'] = x_pred\n",
    "    res = a[['true','pred']].corr(method='spearman',min_periods=1)\n",
    "    return res.iloc[0,1]"
   ]
  },
  {
   "cell_type": "code",
   "execution_count": 17,
   "metadata": {},
   "outputs": [],
   "source": [
    "Y_pred_test=model.predict(X_test)"
   ]
  },
  {
   "cell_type": "code",
   "execution_count": 18,
   "metadata": {},
   "outputs": [
    {
     "name": "stdout",
     "output_type": "stream",
     "text": [
      "the short-term score is 0.125\n"
     ]
    }
   ],
   "source": [
    "print('the short-term score is {:.3f}'.format(spearman_corr(Y_test[:,0],Y_pred_test[:,0])))"
   ]
  },
  {
   "cell_type": "code",
   "execution_count": 19,
   "metadata": {},
   "outputs": [
    {
     "name": "stdout",
     "output_type": "stream",
     "text": [
      "the long-term score is 0.088\n"
     ]
    }
   ],
   "source": [
    "print('the long-term score is {:.3f}'.format(spearman_corr(Y_test[:,1],Y_pred_test[:,1])))"
   ]
  },
  {
   "cell_type": "markdown",
   "metadata": {},
   "source": [
    "# Predict test data and get ready to summit"
   ]
  },
  {
   "cell_type": "markdown",
   "metadata": {},
   "source": [
    "## Load test data"
   ]
  },
  {
   "cell_type": "code",
   "execution_count": 20,
   "metadata": {},
   "outputs": [
    {
     "data": {
      "text/html": [
       "<div>\n",
       "<style scoped>\n",
       "    .dataframe tbody tr th:only-of-type {\n",
       "        vertical-align: middle;\n",
       "    }\n",
       "\n",
       "    .dataframe tbody tr th {\n",
       "        vertical-align: top;\n",
       "    }\n",
       "\n",
       "    .dataframe thead th {\n",
       "        text-align: right;\n",
       "    }\n",
       "</style>\n",
       "<table border=\"1\" class=\"dataframe\">\n",
       "  <thead>\n",
       "    <tr style=\"text-align: right;\">\n",
       "      <th></th>\n",
       "      <th>video</th>\n",
       "      <th>AF_mean</th>\n",
       "      <th>AF_median</th>\n",
       "    </tr>\n",
       "  </thead>\n",
       "  <tbody>\n",
       "    <tr>\n",
       "      <th>0</th>\n",
       "      <td>video1.webm</td>\n",
       "      <td>[0.69801, 0.126791, 0.560091, 0.09787, 0.52301...</td>\n",
       "      <td>[0.697488, 0.127302, 0.55834, 0.097968, 0.5209...</td>\n",
       "    </tr>\n",
       "    <tr>\n",
       "      <th>1</th>\n",
       "      <td>video1000.webm</td>\n",
       "      <td>[0.644065, 0.711016, 0.596859, 0.728722, 0.397...</td>\n",
       "      <td>[0.643643, 0.711774, 0.600652, 0.730514, 0.400...</td>\n",
       "    </tr>\n",
       "    <tr>\n",
       "      <th>2</th>\n",
       "      <td>video1002.webm</td>\n",
       "      <td>[0.297738, 0.316971, 0.458756, 0.305662, 0.412...</td>\n",
       "      <td>[0.30245, 0.327079, 0.452778, 0.304135, 0.4079...</td>\n",
       "    </tr>\n",
       "    <tr>\n",
       "      <th>3</th>\n",
       "      <td>video1008.webm</td>\n",
       "      <td>[0.100712, 0.484618, 0.697495, 0.461341, 0.530...</td>\n",
       "      <td>[0.09765, 0.483399, 0.699809, 0.45408, 0.53140...</td>\n",
       "    </tr>\n",
       "    <tr>\n",
       "      <th>4</th>\n",
       "      <td>video1010.webm</td>\n",
       "      <td>[0.519097, 0.379645, 0.217391, 0.297731, 0.147...</td>\n",
       "      <td>[0.522959, 0.400392, 0.202302, 0.309482, 0.130...</td>\n",
       "    </tr>\n",
       "  </tbody>\n",
       "</table>\n",
       "</div>"
      ],
      "text/plain": [
       "            video                                            AF_mean  \\\n",
       "0     video1.webm  [0.69801, 0.126791, 0.560091, 0.09787, 0.52301...   \n",
       "1  video1000.webm  [0.644065, 0.711016, 0.596859, 0.728722, 0.397...   \n",
       "2  video1002.webm  [0.297738, 0.316971, 0.458756, 0.305662, 0.412...   \n",
       "3  video1008.webm  [0.100712, 0.484618, 0.697495, 0.461341, 0.530...   \n",
       "4  video1010.webm  [0.519097, 0.379645, 0.217391, 0.297731, 0.147...   \n",
       "\n",
       "                                           AF_median  \n",
       "0  [0.697488, 0.127302, 0.55834, 0.097968, 0.5209...  \n",
       "1  [0.643643, 0.711774, 0.600652, 0.730514, 0.400...  \n",
       "2  [0.30245, 0.327079, 0.452778, 0.304135, 0.4079...  \n",
       "3  [0.09765, 0.483399, 0.699809, 0.45408, 0.53140...  \n",
       "4  [0.522959, 0.400392, 0.202302, 0.309482, 0.130...  "
      ]
     },
     "execution_count": 20,
     "metadata": {},
     "output_type": "execute_result"
    }
   ],
   "source": [
    "# define paths of the Aesthetic Features\n",
    "path_AF_Mean_test = '/media/stone/Data/DataSet_me18me/testset/Aesthetics/aesthetics_mean/'\n",
    "path_AF_Median_test = '/media/stone/Data/DataSet_me18me/testset/Aesthetics/aesthetics_median/'\n",
    "\n",
    "# Load video related features first\n",
    "vn_mean = os.listdir(path_AF_Mean_test)\n",
    "\n",
    "# stack the video names in dataframe\n",
    "df_test = pd.DataFrame()\n",
    "df_test['video'] = [os.path.splitext(vn)[0]+'.webm' for vn in vn_mean]\n",
    "\n",
    "# read the aesthetic feat (mean and media) in dataframe\n",
    "df_test['AF_mean'] = [ read_array(path_AF_Mean_test+'/'+vn[:-5]+'.txt') for vn in df_test['video']]\n",
    "df_test['AF_median'] = [ read_array(path_AF_Median_test+'/'+vn[:-5]+'.txt') for vn in df_test['video']]\n",
    "df_test.head()"
   ]
  },
  {
   "cell_type": "code",
   "execution_count": 21,
   "metadata": {},
   "outputs": [
    {
     "data": {
      "text/plain": [
       "array([[ 0.69801 ,  0.126791,  0.560091, ...,  0.402711,  0.701526,\n",
       "         0.052494],\n",
       "       [ 0.644065,  0.711016,  0.596859, ...,  0.901761,  0.121566,\n",
       "         2.021529],\n",
       "       [ 0.297738,  0.316971,  0.458756, ...,  0.006904,  0.146268,\n",
       "        -0.029497],\n",
       "       ...,\n",
       "       [ 0.096933,  0.251981,  0.441143, ...,  0.020988, -0.663478,\n",
       "        -0.318197],\n",
       "       [ 0.600987,  0.118865,  0.671991, ...,  1.092358,  0.293468,\n",
       "         1.109875],\n",
       "       [ 0.480994,  0.198854,  0.723683, ...,  0.647431,  0.239174,\n",
       "         0.44911 ]])"
      ]
     },
     "execution_count": 21,
     "metadata": {},
     "output_type": "execute_result"
    }
   ],
   "source": [
    "X_test_real =np.array([col for col in df_test['AF_mean'].values ])\n",
    "X_test_real"
   ]
  },
  {
   "cell_type": "code",
   "execution_count": 22,
   "metadata": {},
   "outputs": [
    {
     "data": {
      "image/png": "[encoded data removed]",
      "text/plain": [
       "<Figure size 432x288 with 1 Axes>"
      ]
     },
     "metadata": {},
     "output_type": "display_data"
    }
   ],
   "source": [
    "Y_pred_real = model.predict(X_test_real)\n",
    "# visualize the prediction results\n",
    "plt.figure()\n",
    "plt.scatter(Y_pred_real[:,0],Y_pred_real[:,1],marker='o')\n",
    "plt.xlabel('short-term')\n",
    "plt.ylabel('long-term')\n",
    "plt.title('Predicted results (NN+AF_mean)')\n",
    "#plt.show()\n",
    "plt.savefig('NN+AF_mean.eps')"
   ]
  },
  {
   "cell_type": "code",
   "execution_count": 23,
   "metadata": {},
   "outputs": [
    {
     "data": {
      "text/html": [
       "<div>\n",
       "<style scoped>\n",
       "    .dataframe tbody tr th:only-of-type {\n",
       "        vertical-align: middle;\n",
       "    }\n",
       "\n",
       "    .dataframe tbody tr th {\n",
       "        vertical-align: top;\n",
       "    }\n",
       "\n",
       "    .dataframe thead th {\n",
       "        text-align: right;\n",
       "    }\n",
       "</style>\n",
       "<table border=\"1\" class=\"dataframe\">\n",
       "  <thead>\n",
       "    <tr style=\"text-align: right;\">\n",
       "      <th></th>\n",
       "      <th>video</th>\n",
       "      <th>AF_mean</th>\n",
       "      <th>AF_median</th>\n",
       "      <th>short-term</th>\n",
       "      <th>long-term</th>\n",
       "      <th>confidence_interval</th>\n",
       "    </tr>\n",
       "  </thead>\n",
       "  <tbody>\n",
       "    <tr>\n",
       "      <th>0</th>\n",
       "      <td>video1.webm</td>\n",
       "      <td>[0.69801, 0.126791, 0.560091, 0.09787, 0.52301...</td>\n",
       "      <td>[0.697488, 0.127302, 0.55834, 0.097968, 0.5209...</td>\n",
       "      <td>0.865521</td>\n",
       "      <td>0.781062</td>\n",
       "      <td>0</td>\n",
       "    </tr>\n",
       "    <tr>\n",
       "      <th>1</th>\n",
       "      <td>video1000.webm</td>\n",
       "      <td>[0.644065, 0.711016, 0.596859, 0.728722, 0.397...</td>\n",
       "      <td>[0.643643, 0.711774, 0.600652, 0.730514, 0.400...</td>\n",
       "      <td>0.850777</td>\n",
       "      <td>0.768623</td>\n",
       "      <td>0</td>\n",
       "    </tr>\n",
       "    <tr>\n",
       "      <th>2</th>\n",
       "      <td>video1002.webm</td>\n",
       "      <td>[0.297738, 0.316971, 0.458756, 0.305662, 0.412...</td>\n",
       "      <td>[0.30245, 0.327079, 0.452778, 0.304135, 0.4079...</td>\n",
       "      <td>0.875470</td>\n",
       "      <td>0.790638</td>\n",
       "      <td>0</td>\n",
       "    </tr>\n",
       "    <tr>\n",
       "      <th>3</th>\n",
       "      <td>video1008.webm</td>\n",
       "      <td>[0.100712, 0.484618, 0.697495, 0.461341, 0.530...</td>\n",
       "      <td>[0.09765, 0.483399, 0.699809, 0.45408, 0.53140...</td>\n",
       "      <td>0.865282</td>\n",
       "      <td>0.780733</td>\n",
       "      <td>0</td>\n",
       "    </tr>\n",
       "    <tr>\n",
       "      <th>4</th>\n",
       "      <td>video1010.webm</td>\n",
       "      <td>[0.519097, 0.379645, 0.217391, 0.297731, 0.147...</td>\n",
       "      <td>[0.522959, 0.400392, 0.202302, 0.309482, 0.130...</td>\n",
       "      <td>0.865111</td>\n",
       "      <td>0.780614</td>\n",
       "      <td>0</td>\n",
       "    </tr>\n",
       "  </tbody>\n",
       "</table>\n",
       "</div>"
      ],
      "text/plain": [
       "            video                                            AF_mean  \\\n",
       "0     video1.webm  [0.69801, 0.126791, 0.560091, 0.09787, 0.52301...   \n",
       "1  video1000.webm  [0.644065, 0.711016, 0.596859, 0.728722, 0.397...   \n",
       "2  video1002.webm  [0.297738, 0.316971, 0.458756, 0.305662, 0.412...   \n",
       "3  video1008.webm  [0.100712, 0.484618, 0.697495, 0.461341, 0.530...   \n",
       "4  video1010.webm  [0.519097, 0.379645, 0.217391, 0.297731, 0.147...   \n",
       "\n",
       "                                           AF_median  short-term  long-term  \\\n",
       "0  [0.697488, 0.127302, 0.55834, 0.097968, 0.5209...    0.865521   0.781062   \n",
       "1  [0.643643, 0.711774, 0.600652, 0.730514, 0.400...    0.850777   0.768623   \n",
       "2  [0.30245, 0.327079, 0.452778, 0.304135, 0.4079...    0.875470   0.790638   \n",
       "3  [0.09765, 0.483399, 0.699809, 0.45408, 0.53140...    0.865282   0.780733   \n",
       "4  [0.522959, 0.400392, 0.202302, 0.309482, 0.130...    0.865111   0.780614   \n",
       "\n",
       "   confidence_interval  \n",
       "0                    0  \n",
       "1                    0  \n",
       "2                    0  \n",
       "3                    0  \n",
       "4                    0  "
      ]
     },
     "execution_count": 23,
     "metadata": {},
     "output_type": "execute_result"
    }
   ],
   "source": [
    "df_test['short-term'] = Y_pred_real[:,0]\n",
    "df_test['long-term'] = Y_pred_real[:,1]\n",
    "df_test['confidence_interval'] = 0 # not meaningful, this is required but not used for performance evaluation\n",
    "df_test.head()"
   ]
  },
  {
   "cell_type": "code",
   "execution_count": 25,
   "metadata": {},
   "outputs": [],
   "source": [
    "# save csv file to submit\n",
    "res = df_test[['video','short-term','confidence_interval']]\n",
    "run_name = 'me18in_TheHuskies_shortterm_run3-NN_afmean.csv'\n",
    "res.to_csv(path_or_buf=run_name,sep=',',header=False,index=False)\n",
    "res1 = df_test[['video','long-term','confidence_interval']]\n",
    "run_name1 = 'me18in_TheHuskies_longterm_run3-NN_afmean.csv'\n",
    "res1.to_csv(path_or_buf=run_name1,sep=',',header=False,index=False)"
   ]
  },
  {
   "cell_type": "code",
   "execution_count": null,
   "metadata": {},
   "outputs": [],
   "source": []
  }
 ],
 "metadata": {
  "kernelspec": {
   "display_name": "Python 3",
   "language": "python",
   "name": "python3"
  },
  "language_info": {
   "codemirror_mode": {
    "name": "ipython",
    "version": 3
   },
   "file_extension": ".py",
   "mimetype": "text/x-python",
   "name": "python",
   "nbconvert_exporter": "python",
   "pygments_lexer": "ipython3",
   "version": "3.6.5"
  }
 },
 "nbformat": 4,
 "nbformat_minor": 2
}
