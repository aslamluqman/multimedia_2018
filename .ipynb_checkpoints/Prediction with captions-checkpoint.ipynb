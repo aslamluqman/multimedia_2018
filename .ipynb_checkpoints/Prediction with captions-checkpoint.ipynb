{
 "cells": [
  {
   "cell_type": "markdown",
   "metadata": {},
   "source": [
    "# Predicting video memorability using captions (Jointly)"
   ]
  },
  {
   "cell_type": "markdown",
   "metadata": {},
   "source": [
    "## 1. Loading the captions and the memorability scores"
   ]
  },
  {
   "cell_type": "code",
   "execution_count": 1,
   "metadata": {},
   "outputs": [
    {
     "name": "stderr",
     "output_type": "stream",
     "text": [
      "/home/stone/anaconda3/lib/python3.6/site-packages/h5py/__init__.py:36: FutureWarning: Conversion of the second argument of issubdtype from `float` to `np.floating` is deprecated. In future, it will be treated as `np.float64 == np.dtype(float).type`.\n",
      "  from ._conv import register_converters as _register_converters\n",
      "Using TensorFlow backend.\n"
     ]
    }
   ],
   "source": [
    "import pandas as pd\n",
    "from keras import Sequential\n",
    "from keras import layers\n",
    "from keras import regularizers\n",
    "import numpy as np\n",
    "from string import punctuation\n",
    "import pyprind\n",
    "from collections import Counter\n",
    "from keras.preprocessing.text import Tokenizer\n",
    "from sklearn.model_selection import train_test_split\n",
    "import matplotlib.pyplot as plt"
   ]
  },
  {
   "cell_type": "code",
   "execution_count": 2,
   "metadata": {},
   "outputs": [],
   "source": [
    "# for reproducability\n",
    "from numpy.random import seed\n",
    "seed(1)\n",
    "from tensorflow import set_random_seed\n",
    "set_random_seed(1)"
   ]
  },
  {
   "cell_type": "code",
   "execution_count": 3,
   "metadata": {},
   "outputs": [],
   "source": [
    "# load labels and captions\n",
    "def read_caps(fname):\n",
    "    \"\"\"Load the captions into a dataframe\"\"\"\n",
    "    vn = []\n",
    "    cap = []\n",
    "    df = pd.DataFrame();\n",
    "    with open(fname) as f:\n",
    "        for line in f:\n",
    "            pairs = line.split()\n",
    "            vn.append(pairs[0])\n",
    "            cap.append(pairs[1])\n",
    "        df['video']=vn\n",
    "        df['caption']=cap\n",
    "    return df\n",
    "\n",
    "\n",
    "# load the captions\n",
    "#cap_path = '/media/win/Users/ecelab-adm/Desktop/DataSet_me18me/me18me-devset/dev-set/dev-set_video-captions.txt'\n",
    "cap_path = '/media/stone/Data/DataSet_me18me/me18me-devset/dev-set/dev-set_video-captions.txt'\n",
    "df_cap=read_caps(cap_path)\n",
    "\n",
    "# load the ground truth values\n",
    "label_path = '/media/stone/Data/DataSet_me18me/me18me-devset/dev-set/ground-truth/'\n",
    "labels=pd.read_csv(label_path+'ground-truth_dev-set.csv')"
   ]
  },
  {
   "cell_type": "code",
   "execution_count": 4,
   "metadata": {},
   "outputs": [
    {
     "name": "stderr",
     "output_type": "stream",
     "text": [
      "Counting word occurrences\n",
      "0% [##############################] 100% | ETA: 00:00:00\n",
      "Total time elapsed: 00:00:06\n"
     ]
    }
   ],
   "source": [
    "counts = Counter()\n",
    "# setup prograss tracker\n",
    "pbar = pyprind.ProgBar(len(df_cap['caption']), title='Counting word occurrences')\n",
    "for i, cap in enumerate(df_cap['caption']):\n",
    "    # replace punctuations with space\n",
    "    # convert words to lower case \n",
    "    text = ''.join([c if c not in punctuation else ' ' for c in cap]).lower()\n",
    "    df_cap.loc[i,'caption'] = text\n",
    "    pbar.update()\n",
    "    counts.update(text.split())"
   ]
  },
  {
   "cell_type": "code",
   "execution_count": 5,
   "metadata": {},
   "outputs": [
    {
     "data": {
      "text/html": [
       "<div>\n",
       "<style scoped>\n",
       "    .dataframe tbody tr th:only-of-type {\n",
       "        vertical-align: middle;\n",
       "    }\n",
       "\n",
       "    .dataframe tbody tr th {\n",
       "        vertical-align: top;\n",
       "    }\n",
       "\n",
       "    .dataframe thead th {\n",
       "        text-align: right;\n",
       "    }\n",
       "</style>\n",
       "<table border=\"1\" class=\"dataframe\">\n",
       "  <thead>\n",
       "    <tr style=\"text-align: right;\">\n",
       "      <th></th>\n",
       "      <th>video</th>\n",
       "      <th>caption</th>\n",
       "    </tr>\n",
       "  </thead>\n",
       "  <tbody>\n",
       "    <tr>\n",
       "      <th>0</th>\n",
       "      <td>video10.webm</td>\n",
       "      <td>couple relaxing on picnic crane shot</td>\n",
       "    </tr>\n",
       "    <tr>\n",
       "      <th>1</th>\n",
       "      <td>video100.webm</td>\n",
       "      <td>cute black and white cats in cage at animal sh...</td>\n",
       "    </tr>\n",
       "    <tr>\n",
       "      <th>2</th>\n",
       "      <td>video10000.webm</td>\n",
       "      <td>owl in tree close up</td>\n",
       "    </tr>\n",
       "    <tr>\n",
       "      <th>3</th>\n",
       "      <td>video10001.webm</td>\n",
       "      <td>around the house on a laptop</td>\n",
       "    </tr>\n",
       "    <tr>\n",
       "      <th>4</th>\n",
       "      <td>video10002.webm</td>\n",
       "      <td>beautiful young girl with apple</td>\n",
       "    </tr>\n",
       "  </tbody>\n",
       "</table>\n",
       "</div>"
      ],
      "text/plain": [
       "             video                                            caption\n",
       "0     video10.webm               couple relaxing on picnic crane shot\n",
       "1    video100.webm  cute black and white cats in cage at animal sh...\n",
       "2  video10000.webm                               owl in tree close up\n",
       "3  video10001.webm                       around the house on a laptop\n",
       "4  video10002.webm                    beautiful young girl with apple"
      ]
     },
     "execution_count": 5,
     "metadata": {},
     "output_type": "execute_result"
    }
   ],
   "source": [
    "df_cap.head()"
   ]
  },
  {
   "cell_type": "markdown",
   "metadata": {},
   "source": [
    "## 2. Preprocessing the captions for model inputs\n",
    "### Separate words and count each word's occurrence"
   ]
  },
  {
   "cell_type": "markdown",
   "metadata": {},
   "source": [
    "### Maping each unique word to an integer (one-hot encoding)"
   ]
  },
  {
   "cell_type": "code",
   "execution_count": 6,
   "metadata": {},
   "outputs": [],
   "source": [
    "# build the word index\n",
    "len_token = len(counts)\n",
    "tokenizer = Tokenizer(num_words=len_token)"
   ]
  },
  {
   "cell_type": "code",
   "execution_count": 7,
   "metadata": {},
   "outputs": [],
   "source": [
    "tokenizer.fit_on_texts(list(df_cap.caption.values))"
   ]
  },
  {
   "cell_type": "code",
   "execution_count": 8,
   "metadata": {},
   "outputs": [],
   "source": [
    "one_hot_res = tokenizer.texts_to_matrix(list(df_cap.caption.values),mode='binary')\n",
    "sequences = tokenizer.texts_to_sequences(list(df_cap.caption.values))"
   ]
  },
  {
   "cell_type": "code",
   "execution_count": 9,
   "metadata": {},
   "outputs": [
    {
     "data": {
      "text/plain": [
       "5874"
      ]
     },
     "execution_count": 9,
     "metadata": {},
     "output_type": "execute_result"
    }
   ],
   "source": [
    "len_token"
   ]
  },
  {
   "cell_type": "code",
   "execution_count": 10,
   "metadata": {},
   "outputs": [
    {
     "data": {
      "text/plain": [
       "array([[0., 0., 0., ..., 0., 0., 0.],\n",
       "       [0., 1., 0., ..., 0., 0., 0.],\n",
       "       [0., 1., 0., ..., 0., 0., 0.],\n",
       "       ...,\n",
       "       [0., 0., 0., ..., 1., 0., 0.],\n",
       "       [0., 1., 0., ..., 0., 0., 0.],\n",
       "       [0., 0., 0., ..., 0., 1., 1.]])"
      ]
     },
     "execution_count": 10,
     "metadata": {},
     "output_type": "execute_result"
    }
   ],
   "source": [
    "one_hot_res"
   ]
  },
  {
   "cell_type": "code",
   "execution_count": 11,
   "metadata": {},
   "outputs": [
    {
     "data": {
      "text/plain": [
       "8000"
      ]
     },
     "execution_count": 11,
     "metadata": {},
     "output_type": "execute_result"
    }
   ],
   "source": [
    "sequences[:2]\n",
    "len(sequences)"
   ]
  },
  {
   "cell_type": "markdown",
   "metadata": {},
   "source": [
    "## Making them the same length by padding zeros"
   ]
  },
  {
   "cell_type": "code",
   "execution_count": 12,
   "metadata": {},
   "outputs": [],
   "source": [
    "# calculating max length\n",
    "max_len = 50"
   ]
  },
  {
   "cell_type": "markdown",
   "metadata": {},
   "source": [
    "### Making sequences index same length"
   ]
  },
  {
   "cell_type": "code",
   "execution_count": 13,
   "metadata": {},
   "outputs": [
    {
     "data": {
      "text/plain": [
       "array([[0.000e+00, 0.000e+00, 0.000e+00, ..., 5.970e+02, 3.470e+02,\n",
       "        2.500e+01],\n",
       "       [0.000e+00, 0.000e+00, 0.000e+00, ..., 9.000e+00, 4.100e+02,\n",
       "        4.110e+02],\n",
       "       [0.000e+00, 0.000e+00, 0.000e+00, ..., 5.900e+01, 2.300e+01,\n",
       "        1.900e+01],\n",
       "       ...,\n",
       "       [0.000e+00, 0.000e+00, 0.000e+00, ..., 5.869e+03, 5.870e+03,\n",
       "        5.871e+03],\n",
       "       [0.000e+00, 0.000e+00, 0.000e+00, ..., 1.000e+00, 2.740e+02,\n",
       "        7.100e+01],\n",
       "       [0.000e+00, 0.000e+00, 0.000e+00, ..., 8.000e+00, 5.873e+03,\n",
       "        9.190e+02]])"
      ]
     },
     "execution_count": 13,
     "metadata": {},
     "output_type": "execute_result"
    }
   ],
   "source": [
    "X_seq = np.zeros((len(sequences),max_len))\n",
    "for i in range(len(sequences)):\n",
    "    n = len(sequences[i])\n",
    "    if n==0:\n",
    "        print(i)\n",
    "    else:\n",
    "        X_seq[i,-n:] = sequences[i]\n",
    "X_seq"
   ]
  },
  {
   "cell_type": "markdown",
   "metadata": {},
   "source": [
    "### Making one-hot encoding the same size"
   ]
  },
  {
   "cell_type": "code",
   "execution_count": 14,
   "metadata": {},
   "outputs": [],
   "source": [
    "# it is already the same size"
   ]
  },
  {
   "cell_type": "markdown",
   "metadata": {},
   "source": [
    "# 3. Building network model\n",
    "## Split data set to training and test data\n",
    "## Prediction with indices"
   ]
  },
  {
   "cell_type": "code",
   "execution_count": 15,
   "metadata": {},
   "outputs": [],
   "source": [
    "Y = labels[['short-term_memorability','long-term_memorability']].values\n",
    "X = X_seq"
   ]
  },
  {
   "cell_type": "code",
   "execution_count": 16,
   "metadata": {},
   "outputs": [],
   "source": [
    "X_train, X_test, Y_train, Y_test = train_test_split(X,Y, test_size=0.2, random_state=42)"
   ]
  },
  {
   "cell_type": "code",
   "execution_count": 17,
   "metadata": {},
   "outputs": [],
   "source": [
    "# add dropout\n",
    "# add regularizers\n",
    "model = Sequential()\n",
    "model.add(layers.Dense(10,activation='relu',kernel_regularizer=regularizers.l2(0.0005),input_shape=(max_len,)))\n",
    "model.add(layers.Dropout(0.5))\n",
    "model.add(layers.Dense(10,activation='relu',kernel_regularizer=regularizers.l2(0.0005)))\n",
    "model.add(layers.Dropout(0.5))\n",
    "model.add(layers.Dense(2,activation='sigmoid'))"
   ]
  },
  {
   "cell_type": "code",
   "execution_count": 18,
   "metadata": {},
   "outputs": [],
   "source": [
    "# compile the model \n",
    "model.compile(optimizer='rmsprop',loss='mse',metrics=['accuracy'])"
   ]
  },
  {
   "cell_type": "code",
   "execution_count": 19,
   "metadata": {},
   "outputs": [
    {
     "name": "stdout",
     "output_type": "stream",
     "text": [
      "Train on 6400 samples, validate on 1600 samples\n",
      "Epoch 1/20\n",
      "6400/6400 [==============================] - 0s 73us/step - loss: 0.3472 - acc: 0.6342 - val_loss: 0.3894 - val_acc: 0.6950\n",
      "Epoch 2/20\n",
      "6400/6400 [==============================] - 0s 43us/step - loss: 0.2573 - acc: 0.6339 - val_loss: 0.2539 - val_acc: 0.6950\n",
      "Epoch 3/20\n",
      "6400/6400 [==============================] - 0s 43us/step - loss: 0.1719 - acc: 0.6497 - val_loss: 0.1088 - val_acc: 0.6956\n",
      "Epoch 4/20\n",
      "6400/6400 [==============================] - 0s 46us/step - loss: 0.1070 - acc: 0.6709 - val_loss: 0.0684 - val_acc: 0.6925\n",
      "Epoch 5/20\n",
      "6400/6400 [==============================] - 0s 46us/step - loss: 0.0630 - acc: 0.6755 - val_loss: 0.0491 - val_acc: 0.6887\n",
      "Epoch 6/20\n",
      "6400/6400 [==============================] - 0s 45us/step - loss: 0.0439 - acc: 0.6836 - val_loss: 0.0362 - val_acc: 0.6875\n",
      "Epoch 7/20\n",
      "6400/6400 [==============================] - 0s 43us/step - loss: 0.0322 - acc: 0.6900 - val_loss: 0.0267 - val_acc: 0.6925\n",
      "Epoch 8/20\n",
      "6400/6400 [==============================] - 0s 46us/step - loss: 0.0243 - acc: 0.6920 - val_loss: 0.0199 - val_acc: 0.6906\n",
      "Epoch 9/20\n",
      "6400/6400 [==============================] - 0s 46us/step - loss: 0.0186 - acc: 0.6948 - val_loss: 0.0161 - val_acc: 0.6925\n",
      "Epoch 10/20\n",
      "6400/6400 [==============================] - 0s 44us/step - loss: 0.0160 - acc: 0.7022 - val_loss: 0.0150 - val_acc: 0.6956\n",
      "Epoch 11/20\n",
      "6400/6400 [==============================] - 0s 45us/step - loss: 0.0155 - acc: 0.7025 - val_loss: 0.0144 - val_acc: 0.6956\n",
      "Epoch 12/20\n",
      "6400/6400 [==============================] - 0s 45us/step - loss: 0.0146 - acc: 0.7038 - val_loss: 0.0140 - val_acc: 0.6956\n",
      "Epoch 13/20\n",
      "6400/6400 [==============================] - 0s 44us/step - loss: 0.0142 - acc: 0.7039 - val_loss: 0.0140 - val_acc: 0.6956\n",
      "Epoch 14/20\n",
      "6400/6400 [==============================] - 0s 45us/step - loss: 0.0142 - acc: 0.7039 - val_loss: 0.0139 - val_acc: 0.6956\n",
      "Epoch 15/20\n",
      "6400/6400 [==============================] - 0s 45us/step - loss: 0.0140 - acc: 0.7039 - val_loss: 0.0139 - val_acc: 0.6956\n",
      "Epoch 16/20\n",
      "6400/6400 [==============================] - 0s 46us/step - loss: 0.0140 - acc: 0.7038 - val_loss: 0.0139 - val_acc: 0.6956\n",
      "Epoch 17/20\n",
      "6400/6400 [==============================] - 0s 46us/step - loss: 0.0140 - acc: 0.7039 - val_loss: 0.0139 - val_acc: 0.6956\n",
      "Epoch 18/20\n",
      "6400/6400 [==============================] - 0s 45us/step - loss: 0.0139 - acc: 0.7036 - val_loss: 0.0139 - val_acc: 0.6956\n",
      "Epoch 19/20\n",
      "6400/6400 [==============================] - 0s 43us/step - loss: 0.0140 - acc: 0.7036 - val_loss: 0.0140 - val_acc: 0.6956\n",
      "Epoch 20/20\n",
      "6400/6400 [==============================] - 0s 45us/step - loss: 0.0139 - acc: 0.7039 - val_loss: 0.0139 - val_acc: 0.6956\n"
     ]
    }
   ],
   "source": [
    "# training the model \n",
    "history = model.fit(X_train,Y_train,epochs=20,validation_data=(X_test,Y_test))"
   ]
  },
  {
   "cell_type": "markdown",
   "metadata": {},
   "source": [
    "## Visualizing the validation and training loss"
   ]
  },
  {
   "cell_type": "code",
   "execution_count": 20,
   "metadata": {},
   "outputs": [
    {
     "data": {
      "image/png": "[encoded data removed]",
      "text/plain": [
       "<Figure size 432x288 with 1 Axes>"
      ]
     },
     "metadata": {},
     "output_type": "display_data"
    }
   ],
   "source": [
    "loss = history.history['loss']\n",
    "val_loss = history.history['val_loss']\n",
    "\n",
    "epochs = range(1,len(loss)+1)\n",
    "\n",
    "plt.plot(epochs,loss,'bo',label='Training loss')\n",
    "plt.plot(epochs,val_loss,'b',label='Validation loss')\n",
    "plt.title('Training and validation loss')\n",
    "plt.xlabel('Epochs')\n",
    "plt.ylabel('Loss')\n",
    "plt.legend()\n",
    "plt.show()"
   ]
  },
  {
   "cell_type": "code",
   "execution_count": 21,
   "metadata": {},
   "outputs": [
    {
     "data": {
      "image/png": "[encoded data removed]",
      "text/plain": [
       "<Figure size 432x288 with 1 Axes>"
      ]
     },
     "metadata": {},
     "output_type": "display_data"
    }
   ],
   "source": [
    "plt.figure()\n",
    "acc = history.history['acc']\n",
    "val_acc = history.history['val_acc']\n",
    "plt.plot(epochs, acc, 'bo', label='Training acc')\n",
    "plt.plot(epochs, val_acc, 'b', label='Validation acc')\n",
    "plt.title('Training and validation accuracy')\n",
    "plt.xlabel('Epochs')\n",
    "plt.ylabel('Acc')\n",
    "plt.legend()\n",
    "plt.show()\n"
   ]
  },
  {
   "cell_type": "markdown",
   "metadata": {},
   "source": [
    "# Predicting video memorability using captions (one-hot res)"
   ]
  },
  {
   "cell_type": "code",
   "execution_count": 24,
   "metadata": {},
   "outputs": [
    {
     "name": "stdout",
     "output_type": "stream",
     "text": [
      "Train on 6400 samples, validate on 1600 samples\n",
      "Epoch 1/20\n",
      "6400/6400 [==============================] - 1s 148us/step - loss: 0.0823 - acc: 0.5070 - val_loss: 0.0315 - val_acc: 0.6956\n",
      "Epoch 2/20\n",
      "6400/6400 [==============================] - 1s 101us/step - loss: 0.0315 - acc: 0.5800 - val_loss: 0.0152 - val_acc: 0.6956\n",
      "Epoch 3/20\n",
      "6400/6400 [==============================] - 1s 99us/step - loss: 0.0209 - acc: 0.6658 - val_loss: 0.0142 - val_acc: 0.6956\n",
      "Epoch 4/20\n",
      "6400/6400 [==============================] - 1s 95us/step - loss: 0.0186 - acc: 0.6923 - val_loss: 0.0140 - val_acc: 0.6956\n",
      "Epoch 5/20\n",
      "6400/6400 [==============================] - 1s 97us/step - loss: 0.0168 - acc: 0.7014 - val_loss: 0.0139 - val_acc: 0.6956\n",
      "Epoch 6/20\n",
      "6400/6400 [==============================] - 1s 95us/step - loss: 0.0159 - acc: 0.7039 - val_loss: 0.0139 - val_acc: 0.6956\n",
      "Epoch 7/20\n",
      "6400/6400 [==============================] - 1s 97us/step - loss: 0.0153 - acc: 0.7039 - val_loss: 0.0139 - val_acc: 0.6956\n",
      "Epoch 8/20\n",
      "6400/6400 [==============================] - 1s 95us/step - loss: 0.0148 - acc: 0.7039 - val_loss: 0.0139 - val_acc: 0.6956\n",
      "Epoch 9/20\n",
      "6400/6400 [==============================] - 1s 94us/step - loss: 0.0145 - acc: 0.7039 - val_loss: 0.0139 - val_acc: 0.6956\n",
      "Epoch 10/20\n",
      "6400/6400 [==============================] - 1s 94us/step - loss: 0.0142 - acc: 0.7039 - val_loss: 0.0139 - val_acc: 0.6956\n",
      "Epoch 11/20\n",
      "6400/6400 [==============================] - 1s 96us/step - loss: 0.0141 - acc: 0.7039 - val_loss: 0.0139 - val_acc: 0.6956\n",
      "Epoch 12/20\n",
      "6400/6400 [==============================] - 1s 95us/step - loss: 0.0141 - acc: 0.7039 - val_loss: 0.0140 - val_acc: 0.6956\n",
      "Epoch 13/20\n",
      "6400/6400 [==============================] - 1s 94us/step - loss: 0.0140 - acc: 0.7039 - val_loss: 0.0139 - val_acc: 0.6956\n",
      "Epoch 14/20\n",
      "6400/6400 [==============================] - 1s 94us/step - loss: 0.0140 - acc: 0.7039 - val_loss: 0.0139 - val_acc: 0.6956\n",
      "Epoch 15/20\n",
      "6400/6400 [==============================] - 1s 96us/step - loss: 0.0139 - acc: 0.7039 - val_loss: 0.0139 - val_acc: 0.6956\n",
      "Epoch 16/20\n",
      "6400/6400 [==============================] - 1s 93us/step - loss: 0.0139 - acc: 0.7039 - val_loss: 0.0139 - val_acc: 0.6956\n",
      "Epoch 17/20\n",
      "6400/6400 [==============================] - 1s 96us/step - loss: 0.0139 - acc: 0.7039 - val_loss: 0.0139 - val_acc: 0.6956\n",
      "Epoch 18/20\n",
      "6400/6400 [==============================] - 1s 95us/step - loss: 0.0139 - acc: 0.7039 - val_loss: 0.0139 - val_acc: 0.6956\n",
      "Epoch 19/20\n",
      "6400/6400 [==============================] - 1s 95us/step - loss: 0.0139 - acc: 0.7039 - val_loss: 0.0139 - val_acc: 0.6956\n",
      "Epoch 20/20\n",
      "6400/6400 [==============================] - 1s 95us/step - loss: 0.0139 - acc: 0.7039 - val_loss: 0.0139 - val_acc: 0.6956\n"
     ]
    },
    {
     "data": {
      "image/png": "[encoded data removed]",
      "text/plain": [
       "<Figure size 432x288 with 1 Axes>"
      ]
     },
     "metadata": {},
     "output_type": "display_data"
    },
    {
     "data": {
      "image/png": "[encoded data removed]",
      "text/plain": [
       "<Figure size 432x288 with 1 Axes>"
      ]
     },
     "metadata": {},
     "output_type": "display_data"
    }
   ],
   "source": [
    "Y = labels[['short-term_memorability','long-term_memorability']].values\n",
    "X = one_hot_res;\n",
    "X_train, X_test, Y_train, Y_test = train_test_split(X,Y, test_size=0.2, random_state=42)\n",
    "\n",
    "# add dropout\n",
    "# add regularizers\n",
    "model = Sequential()\n",
    "model.add(layers.Dense(10,activation='relu',kernel_regularizer=regularizers.l2(0.001),input_shape=(len_token,)))\n",
    "model.add(layers.Dropout(0.6))\n",
    "model.add(layers.Dense(10,activation='relu',kernel_regularizer=regularizers.l2(0.001)))\n",
    "model.add(layers.Dropout(0.5))\n",
    "model.add(layers.Dense(2,activation='sigmoid'))\n",
    "\n",
    "# compile the model \n",
    "model.compile(optimizer='rmsprop',loss='mse',metrics=['accuracy'])\n",
    "\n",
    "# training the model \n",
    "history = model.fit(X_train,Y_train,epochs=20,validation_data=(X_test,Y_test))\n",
    "\n",
    "# visualizing the model\n",
    "loss = history.history['loss']\n",
    "val_loss = history.history['val_loss']\n",
    "\n",
    "epochs = range(1,len(loss)+1)\n",
    "\n",
    "plt.plot(epochs,loss,'bo',label='Training loss')\n",
    "plt.plot(epochs,val_loss,'b',label='Validation loss')\n",
    "plt.title('Training and validation loss')\n",
    "plt.xlabel('Epochs')\n",
    "plt.ylabel('Loss')\n",
    "plt.legend()\n",
    "plt.show()\n",
    "\n",
    "plt.figure()\n",
    "acc = history.history['acc']\n",
    "val_acc = history.history['val_acc']\n",
    "plt.plot(epochs, acc, 'bo', label='Training acc')\n",
    "plt.plot(epochs, val_acc, 'b', label='Validation acc')\n",
    "plt.title('Training and validation accuracy')\n",
    "plt.xlabel('Epochs')\n",
    "plt.ylabel('Acc')\n",
    "plt.legend()\n",
    "plt.show()"
   ]
  },
  {
   "cell_type": "code",
   "execution_count": null,
   "metadata": {},
   "outputs": [],
   "source": []
  }
 ],
 "metadata": {
  "kernelspec": {
   "display_name": "Python 3",
   "language": "python",
   "name": "python3"
  },
  "language_info": {
   "codemirror_mode": {
    "name": "ipython",
    "version": 3
   },
   "file_extension": ".py",
   "mimetype": "text/x-python",
   "name": "python",
   "nbconvert_exporter": "python",
   "pygments_lexer": "ipython3",
   "version": "3.6.5"
  }
 },
 "nbformat": 4,
 "nbformat_minor": 2
}
